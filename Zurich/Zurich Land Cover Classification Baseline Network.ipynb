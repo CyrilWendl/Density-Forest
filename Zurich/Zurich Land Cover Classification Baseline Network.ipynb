{
 "cells": [
  {
   "cell_type": "markdown",
   "metadata": {},
   "source": [
    "# Zurich Land Cover Classification\n",
    "\n",
    "This script presents a visualization of training a U-Net classifier on 7 out of 8 available land cover classes of the Zurich dataset, and detecting the unseen class using a Density Forest.\n",
    "\n",
    "Data Visualizations are contained in the notebook `Zurich Land Cover Density Forest.ipynb`"
   ]
  },
  {
   "cell_type": "markdown",
   "metadata": {},
   "source": [
    "## 1. Import Libraries"
   ]
  },
  {
   "cell_type": "code",
   "execution_count": 1,
   "metadata": {},
   "outputs": [
    {
     "name": "stderr",
     "output_type": "stream",
     "text": [
      "/anaconda3/lib/python3.6/site-packages/h5py/__init__.py:36: FutureWarning: Conversion of the second argument of issubdtype from `float` to `np.floating` is deprecated. In future, it will be treated as `np.float64 == np.dtype(float).type`.\n",
      "  from ._conv import register_converters as _register_converters\n",
      "Using TensorFlow backend.\n"
     ]
    },
    {
     "name": "stdout",
     "output_type": "stream",
     "text": [
      "[name: \"/device:CPU:0\"\n",
      "device_type: \"CPU\"\n",
      "memory_limit: 268435456\n",
      "locality {\n",
      "}\n",
      "incarnation: 14507542391569023272\n",
      "]\n"
     ]
    }
   ],
   "source": [
    "%matplotlib inline\n",
    "# python libraries\n",
    "from multiprocessing import cpu_count\n",
    "import sys\n",
    "\n",
    "# custom libraries\n",
    "from helpers.data_augment import *\n",
    "from keras_helpers.unet import *\n",
    "from keras_helpers.callbacks import *\n",
    "\n",
    "import os\n",
    "os.environ[\"CUDA_DEVICE_ORDER\"] = \"PCI_BUS_ID\"\n",
    "os.environ[\"CUDA_VISIBLE_DEVICES\"] = \"3\"\n",
    "\n",
    "from sklearn.utils import class_weight\n",
    "from keras.utils import to_categorical\n",
    "from keras.models import load_model\n",
    "\n",
    "from tensorflow.python.client import device_lib\n",
    "print(device_lib.list_local_devices())\n",
    "\n",
    "# custom libraries\n",
    "base_dir = '/raid/home/cwendl'  # for guanabana\n",
    "sys.path.append(base_dir + '/SIE-Master/Code') # Path to density Tree package\n",
    "sys.path.append(base_dir + '/SIE-Master/Code/density_tree') # Path to density Tree package\n",
    "from helpers.helpers import *\n",
    "from helpers.plots import *"
   ]
  },
  {
   "cell_type": "code",
   "execution_count": 2,
   "metadata": {},
   "outputs": [],
   "source": [
    "# Meta-Parameters\n",
    "base_dir = '/raid/home/cwendl'  # for guanabana\n",
    "\n",
    "class_to_remove = 1"
   ]
  },
  {
   "cell_type": "markdown",
   "metadata": {},
   "source": [
    "## 2. Load Images"
   ]
  },
  {
   "cell_type": "code",
   "execution_count": 3,
   "metadata": {},
   "outputs": [
    {
     "name": "stdout",
     "output_type": "stream",
     "text": [
      "images: 20 \n",
      "ground truth images: 20 \n"
     ]
    }
   ],
   "source": [
    "path = os.getcwd()\n",
    "\n",
    "imgs, gt = load_data(path)\n",
    "\n",
    "# gt to labels\n",
    "# Next, we need to convert the ground truth (colors) to labels \n",
    "legend = OrderedDict((('Background', [255, 255, 255]),\n",
    "                      ('Roads', [0, 0, 0]),\n",
    "                      ('Buildings', [100, 100, 100]),\n",
    "                      ('Trees', [0, 125, 0]),\n",
    "                      ('Grass', [0, 255, 0]),\n",
    "                      ('Bare Soil', [150, 80, 0]),\n",
    "                      ('Water', [0, 0, 150]),\n",
    "                      ('Railways', [255, 255, 0]),\n",
    "                      ('Swimming Pools', [150, 150, 255])))\n",
    "\n",
    "# get class names by increasing value (as done above)\n",
    "names, colors = [], []\n",
    "for name, color in legend.items():\n",
    "    names.append(name)\n",
    "    colors.append(color)\n",
    "\n",
    "gt = gt_color_to_label(gt, colors)"
   ]
  },
  {
   "cell_type": "markdown",
   "metadata": {},
   "source": [
    "### 2.2. Get patches"
   ]
  },
  {
   "cell_type": "code",
   "execution_count": 4,
   "metadata": {
    "scrolled": true
   },
   "outputs": [
    {
     "name": "stdout",
     "output_type": "stream",
     "text": [
      "(3902, 64, 64, 4)\n",
      "(964, 64, 64, 4)\n",
      "(964, 64, 64)\n"
     ]
    }
   ],
   "source": [
    "# Get patches\n",
    "patch_size = 64\n",
    "stride_train = 64  # has to be <= patch_size\n",
    "stride_test = 32  # has to be <= patch_size\n",
    "\n",
    "# ids for training, validation and test sets (0-19)\n",
    "ids_train = np.arange(0, 12)\n",
    "ids_val = np.arange(12, 16)\n",
    "ids_test = np.arange(16, 20)\n",
    "\n",
    "# get training, test and validation sets\n",
    "x_train = get_padded_patches(imgs[ids_train], patch_size=patch_size, stride=stride_train)\n",
    "x_val = get_padded_patches(imgs[ids_val], patch_size=patch_size, stride=stride_train)\n",
    "x_test = get_padded_patches(imgs[ids_test], patch_size=patch_size, stride=stride_test)\n",
    "x_test_nostride = get_padded_patches(imgs[ids_test], patch_size=patch_size, stride=patch_size)\n",
    "\n",
    "y_train = get_gt_patches(gt[ids_train], patch_size=patch_size, stride=stride_train)\n",
    "y_val = get_gt_patches(gt[ids_val], patch_size=patch_size, stride=stride_train)\n",
    "y_test = get_gt_patches(gt[ids_test], patch_size=patch_size, stride=stride_test)\n",
    "y_test_nostride = get_gt_patches(gt[ids_test], patch_size=patch_size, stride=patch_size)\n",
    "\n",
    "print(x_test.shape)\n",
    "print(x_test_nostride.shape)\n",
    "print(y_test_nostride.shape)"
   ]
  },
  {
   "cell_type": "markdown",
   "metadata": {},
   "source": [
    "## 3. Keras CNN\n",
    "\n",
    "Data Split: \n",
    "- Training: 12 images\n",
    "- Validation: 4 images\n",
    "- Test: 4 images\n",
    "\n",
    "Tested Architectures: \n",
    "\n",
    "| Model | Patch Size | Data Augmentations | Number of Parameters | Testing Precision (avg) | Testing Recall (avg) | Testing f1 score (avg) | Validation / Test accuracy |\n",
    "| ------- | ------- | ------- | ------- | ------- | ------- |\n",
    "| U-Net | 64 | Rot 90°, Flipping  | 7,828,200 | 0.87 | 0.858 | 0.86 | t |\n",
    "| U-Net | 128 | Rot 90°, Flipping  | 7,828,200 | 0.69 | 0.61 | 0.64 | t |\n",
    "| U-Net | 128 | Rot 90°, Flipping  | 7,828,200 | 0.90 | 0.89 | 0.89 | v |"
   ]
  },
  {
   "cell_type": "code",
   "execution_count": 5,
   "metadata": {},
   "outputs": [],
   "source": [
    "# create copies of original data\n",
    "y_train_label = y_train.copy()\n",
    "y_val_label = y_val.copy()\n",
    "y_test_label = y_test.copy()"
   ]
  },
  {
   "cell_type": "code",
   "execution_count": 6,
   "metadata": {},
   "outputs": [
    {
     "name": "stdout",
     "output_type": "stream",
     "text": [
      "[0 1 2 3 4 5 6 7 8]\n",
      "Class weights:\n",
      "     Background: 0.000\n",
      "          Roads: 0.757\n",
      "      Buildings: 0.480\n",
      "          Trees: 1.508\n",
      "          Grass: 2.105\n",
      "      Bare Soil: 7.000\n",
      "          Water: 2.006\n",
      "       Railways: 6.211\n",
      " Swimming Pools: 7.000\n"
     ]
    }
   ],
   "source": [
    "# get class weights\n",
    "labels_unique = np.unique(y_train.flatten())\n",
    "print(labels_unique)\n",
    "class_weights = class_weight.compute_class_weight('balanced', labels_unique, y_train.flatten())\n",
    "class_weights[0] = 0  # give less weight to background label class\n",
    "class_weights[5] = 7  # give less weight to bare soil class\n",
    "class_weights[8] = 7  # give less weight to swimming pool class\n",
    "\n",
    "print(\"Class weights:\")\n",
    "for i, w in enumerate(class_weights):\n",
    "    print(\"%15s: %3.3f\" % (names[i], w))"
   ]
  },
  {
   "cell_type": "code",
   "execution_count": 7,
   "metadata": {
    "scrolled": true
   },
   "outputs": [
    {
     "name": "stdout",
     "output_type": "stream",
     "text": [
      "classes to keep: ['Buildings', 'Trees', 'Grass', 'Bare Soil', 'Water', 'Railways', 'Swimming Pools']\n",
      "(3897, 64, 64, 4)\n",
      "(3897, 64, 64, 7)\n",
      "(1117, 64, 64, 4)\n",
      "(1117, 64, 64, 7)\n"
     ]
    }
   ],
   "source": [
    "n_classes = 9\n",
    "\n",
    "# convert to numpy arrays\n",
    "x_train = np.asarray(x_train)\n",
    "x_val = np.asarray(x_val)\n",
    "x_test = np.asarray(x_test)\n",
    "\n",
    "# make y data categorical\n",
    "y_train = to_categorical(y_train_label, n_classes)\n",
    "y_val = to_categorical(y_val_label, n_classes)\n",
    "\n",
    "# remove class\n",
    "classes_to_keep = np.asarray([x for x in range(1, n_classes) if x != class_to_remove])\n",
    "\n",
    "names_keep = np.asarray(names)[classes_to_keep]\n",
    "names_keep = names_keep.tolist()\n",
    "print(\"classes to keep: \" + str(names_keep))\n",
    "\n",
    "y_train = y_train[..., classes_to_keep]\n",
    "y_val = y_val[..., classes_to_keep]\n",
    "n_classes = len(classes_to_keep)\n",
    "class_weights = class_weights[classes_to_keep]\n",
    "\n",
    "# print shapes of variables\n",
    "for var in x_train, y_train, x_val, y_val:\n",
    "    print(np.shape(var))"
   ]
  },
  {
   "cell_type": "markdown",
   "metadata": {},
   "source": [
    "### 3.1. Train CNN"
   ]
  },
  {
   "cell_type": "code",
   "execution_count": 8,
   "metadata": {},
   "outputs": [
    {
     "name": "stdout",
     "output_type": "stream",
     "text": [
      "WARNING:tensorflow:From /anaconda3/lib/python3.6/site-packages/tensorflow/contrib/learn/python/learn/datasets/base.py:198: retry (from tensorflow.contrib.learn.python.learn.datasets.base) is deprecated and will be removed in a future version.\n",
      "Instructions for updating:\n",
      "Use the retry module or similar alternatives.\n"
     ]
    },
    {
     "data": {
      "text/plain": [
       "<Figure size 432x288 with 0 Axes>"
      ]
     },
     "metadata": {},
     "output_type": "display_data"
    }
   ],
   "source": [
    "# callbacks (evaluated every epoch)\n",
    "# show loss and accuracy figures after each epoch\n",
    "callback_plot = PlotLosses()\n",
    "\n",
    "# stop early if after several epochs the accuracy doesn't improve\n",
    "callback_earlystop = EarlyStopping(monitor='val_loss', min_delta=1e-4, patience=24, verbose=1, mode='auto')\n",
    "\n",
    "# decrease learning rate when accuracy stops improving\n",
    "callback_lr = ReduceLROnPlateau(monitor='val_loss', factor=0.5, patience=12, verbose=1, mode='auto',\n",
    "                                epsilon=1e-4, cooldown=0, min_lr=1e-8)\n",
    "\n",
    "# checkpoint to save weights at every epoch (in case of interruption)\n",
    "file_path = \"weights-improvement.hdf5\"\n",
    "callback_checkpoint = ModelCheckpoint(file_path, monitor='val_acc', verbose=0, save_best_only=True, mode='max')\n",
    "\n",
    "callback_tensorboard = TensorBoard(log_dir='./tensorboard', histogram_freq=0, write_graph=True, write_images=True)\n",
    "\n",
    "# model setup\n",
    "batch_size = 20\n",
    "epochs = 300\n",
    "\n",
    "\n",
    "def model_train(model, data_augmentation):\n",
    "    # Fit the model on the batches generated by datagen.flow().\n",
    "    model.fit_generator(batch_generator(x_train, y_train,\n",
    "                                        batch_size=batch_size, data_augmentation=data_augmentation),\n",
    "                        steps_per_epoch=int(np.ceil(x_train.shape[0] / float(batch_size))),\n",
    "                        epochs=epochs,\n",
    "                        verbose=1,\n",
    "                        class_weight=class_weights,  # weights for loss function\n",
    "                        validation_data=(x_val, y_val),\n",
    "                        callbacks=[callback_earlystop,\n",
    "                                   callback_lr,\n",
    "                                   #callback_checkpoint,\n",
    "                                   callback_plot,\n",
    "                                   callback_tensorboard],\n",
    "                        workers=cpu_count(),\n",
    "                        use_multiprocessing=True)"
   ]
  },
  {
   "cell_type": "code",
   "execution_count": 9,
   "metadata": {},
   "outputs": [],
   "source": [
    "# train or load model\n",
    "# train the model\n",
    "#model_unet = get_unet(n_classes, x_train.shape[1:])\n",
    "#model_train(model_unet, data_augmentation=True)\n",
    "#model_unet.save('models_out/model_unet_64_flip_rot90_wo_cl_' + str(names[class_to_remove]).lower() + '_2.h5')  # save model, weights"
   ]
  },
  {
   "cell_type": "code",
   "execution_count": 10,
   "metadata": {},
   "outputs": [
    {
     "name": "stdout",
     "output_type": "stream",
     "text": [
      "WARNING:tensorflow:Variable *= will be deprecated. Use variable.assign_mul if you want assignment to the variable value or 'x = x * y' if you want a new python Tensor object.\n"
     ]
    }
   ],
   "source": [
    "# load model\n",
    "name_model = path + '/models_out/model_unet_64_flip_rot90_wo_cl_' + str(names[class_to_remove]).lower() + '.h5'    \n",
    "model_unet = load_model(name_model, custom_objects={'fn': ignore_background_class_accuracy(0)})"
   ]
  },
  {
   "cell_type": "markdown",
   "metadata": {
    "collapsed": true
   },
   "source": [
    "### 3.2. Prediction on Test Set"
   ]
  },
  {
   "cell_type": "code",
   "execution_count": 11,
   "metadata": {},
   "outputs": [
    {
     "name": "stdout",
     "output_type": "stream",
     "text": [
      "3902/3902 [==============================] - 164s 42ms/step\n"
     ]
    }
   ],
   "source": [
    "# get prediction\n",
    "y_pred = model_unet.predict(x_test, batch_size=20, verbose=1)\n",
    "\n",
    "# prediction patches without overlapping patches\n",
    "y_pred = np.concatenate(remove_overlap(imgs, y_pred, ids_test, 64, 32))\n",
    "\n",
    "# get label\n",
    "y_pred_label = get_y_pred_labels(y_pred, class_to_remove=class_to_remove)\n",
    "\n",
    "# get accuracy as softmax pseudo-probability\n",
    "y_pred_acc = np.max(y_pred, axis=-1)\n",
    "\n",
    "# Get accuracy as margin between highest and second highest class\n",
    "y_pred_acc_margin = get_acc_net_max_margin(y_pred)"
   ]
  },
  {
   "cell_type": "code",
   "execution_count": 12,
   "metadata": {},
   "outputs": [],
   "source": [
    "# prediction image\n",
    "y_pred_acc_imgs = [convert_patches_to_image(imgs, y_pred_acc[..., np.newaxis],\n",
    "                                       img_idx=idx_im, img_start=ids_test[0], patch_size=64,\n",
    "                                       stride=64) for idx_im in ids_test]"
   ]
  },
  {
   "cell_type": "markdown",
   "metadata": {},
   "source": [
    "### 3.3. Accuracy Metrics (Test Set)"
   ]
  },
  {
   "cell_type": "code",
   "execution_count": 13,
   "metadata": {},
   "outputs": [
    {
     "name": "stdout",
     "output_type": "stream",
     "text": [
      "                precision    recall  f1-score   support\n",
      "\n",
      "     Buildings      0.802     0.978     0.881    470587\n",
      "         Trees      0.885     0.869     0.877    545015\n",
      "         Grass      0.960     0.831     0.891    612397\n",
      "     Bare Soil      0.880     0.734     0.801     66093\n",
      "         Water      0.873     0.816     0.844     18705\n",
      "      Railways      0.052     0.085     0.064     18526\n",
      "Swimming Pools      0.000     0.000     0.000     10386\n",
      "\n",
      "   avg / total      0.875     0.866     0.866   1741709\n",
      "\n",
      "Overall accuracy: 86.594 %\n"
     ]
    },
    {
     "name": "stderr",
     "output_type": "stream",
     "text": [
      "/anaconda3/lib/python3.6/site-packages/sklearn/metrics/classification.py:1135: UndefinedMetricWarning: Precision and F-score are ill-defined and being set to 0.0 in labels with no predicted samples.\n",
      "  'precision', 'predicted', average, warn_for)\n"
     ]
    }
   ],
   "source": [
    "# Accuracy metrics\n",
    "y_pred_flattened= np.asarray(y_pred_label.flatten()).astype('int')\n",
    "y_test_flattened= np.asarray(y_test_nostride.flatten()).astype('int')\n",
    "\n",
    "# mask background and removed classes for evaluation metrics\n",
    "filter_items = (y_test_flattened != 0) & (y_test_flattened != class_to_remove)\n",
    "\n",
    "# Class accuracy, average accuracy\n",
    "print(metrics.classification_report(\n",
    "    y_test_flattened[filter_items],\n",
    "    y_pred_flattened[filter_items],\n",
    "    target_names=names_keep,\n",
    "    digits=3))\n",
    "\n",
    "\n",
    "# Overall accuracy\n",
    "OA = metrics.accuracy_score(y_test_flattened[filter_items], y_pred_flattened[filter_items])\n",
    "print(\"Overall accuracy: %.3f %%\" % (OA*100))"
   ]
  },
  {
   "cell_type": "code",
   "execution_count": 14,
   "metadata": {},
   "outputs": [],
   "source": [
    "support = np.unique(y_test_flattened, return_counts=True)[1][1:]"
   ]
  },
  {
   "cell_type": "code",
   "execution_count": 15,
   "metadata": {},
   "outputs": [
    {
     "name": "stdout",
     "output_type": "stream",
     "text": [
      "Average certainty within class:\n",
      "          Roads: 0.79956\n",
      "      Buildings: 0.94859\n",
      "          Trees: 0.88913\n",
      "          Grass: 0.86672\n",
      "      Bare Soil: 0.86071\n",
      "          Water: 0.87872\n",
      "       Railways: 0.73431\n",
      " Swimming Pools: 0.92506\n",
      "Average certainty unseen class:\t0.79956\n",
      "Average certainty seen classes:\t0.87189\n",
      "Ratio between support-weighted cert. of seen classes / unseen class:\t4.689\n"
     ]
    }
   ],
   "source": [
    "# calculate average certainty by Network: MSR\n",
    "av_cert = []\n",
    "nans = []\n",
    "for label in np.arange(1, 9):\n",
    "    av_cert.append(np.nanmean(y_pred_acc[y_test_nostride==label]))\n",
    "av_cert = np.asarray(av_cert)\n",
    "nans = np.asarray(nans)\n",
    "\n",
    "print(\"Average certainty within class:\")\n",
    "for idx, w in enumerate(av_cert):\n",
    "    print(\"%15s: %3.5f\" % (names[idx + 1], w))\n",
    "\n",
    "# ratio unseen class / seen classes\n",
    "cert_unseen = av_cert[class_to_remove - 1]\n",
    "cert_seen = np.nanmean(np.asarray(av_cert)[av_cert != cert_unseen])\n",
    "\n",
    "av_cert_w = (av_cert*support)/sum(support)\n",
    "cert_unseen_w = av_cert_w[class_to_remove - 1]\n",
    "cert_seen_w = np.nanmean(np.asarray(av_cert)[av_cert_w != cert_unseen])\n",
    "\n",
    "print(\"Average certainty unseen class:\\t%.5f\" % cert_unseen)\n",
    "print(\"Average certainty seen classes:\\t%.5f\" % cert_seen)\n",
    "print(\"Ratio between support-weighted cert. of seen classes / unseen class:\\t%.3f\" % (cert_seen_w / cert_unseen_w))"
   ]
  },
  {
   "cell_type": "code",
   "execution_count": 16,
   "metadata": {},
   "outputs": [
    {
     "name": "stdout",
     "output_type": "stream",
     "text": [
      "Average certainty within class:\n",
      "          Roads: 0.66802\n",
      "      Buildings: 0.90654\n",
      "          Trees: 0.80486\n",
      "          Grass: 0.76592\n",
      "      Bare Soil: 0.77432\n",
      "          Water: 0.78066\n",
      "       Railways: 0.56454\n",
      " Swimming Pools: 0.86030\n",
      "Average certainty unseen class:\t0.66802\n",
      "Average certainty seen classes:\t0.77959\n",
      "Ratio between support-weighted cert. of seen classes / unseen class:\t4.980\n"
     ]
    }
   ],
   "source": [
    "# calculate average certainty by Network: Max Margin\n",
    "av_cert = []\n",
    "nans = []\n",
    "for label in np.arange(1, 9):\n",
    "    av_cert.append(np.nanmean(y_pred_acc_margin[y_test_nostride==label]))\n",
    "av_cert = np.asarray(av_cert)\n",
    "nans = np.asarray(nans)\n",
    "\n",
    "print(\"Average certainty within class:\")\n",
    "for idx, w in enumerate(av_cert):\n",
    "    print(\"%15s: %3.5f\" % (names[idx + 1], w))\n",
    "\n",
    "# ratio unseen class / seen classes\n",
    "cert_unseen = av_cert[class_to_remove - 1]\n",
    "cert_seen = np.nanmean(np.asarray(av_cert)[av_cert != cert_unseen])\n",
    "\n",
    "av_cert_w = (av_cert*support)/sum(support)\n",
    "cert_unseen_w = av_cert_w[class_to_remove - 1]\n",
    "cert_seen_w = np.nanmean(np.asarray(av_cert)[av_cert_w != cert_unseen])\n",
    "\n",
    "print(\"Average certainty unseen class:\\t%.5f\" % cert_unseen)\n",
    "print(\"Average certainty seen classes:\\t%.5f\" % cert_seen)\n",
    "print(\"Ratio between support-weighted cert. of seen classes / unseen class:\\t%.3f\" % (cert_seen_w / cert_unseen_w))"
   ]
  },
  {
   "cell_type": "code",
   "execution_count": 17,
   "metadata": {},
   "outputs": [
    {
     "name": "stdout",
     "output_type": "stream",
     "text": [
      "8.731\n",
      "9.983\n"
     ]
    }
   ],
   "source": [
    "net_msr = [4.689, 5.581, 5.007, 3.623, 40.279, 138.141, 132.424, 196.331]\n",
    "net_margin = [4.980 , 6.792, 6.038 , 3.489 , 53.949 , 165.043 , 153.863 , 179.750]\n",
    "\n",
    "print(\"%.3f\" % (np.dot(net_msr,support)/sum(support)))\n",
    "print(\"%.3f\" % (np.dot(net_margin,support)/sum(support)))"
   ]
  },
  {
   "cell_type": "markdown",
   "metadata": {},
   "source": [
    "### Average certainty in correctly classified / incorrectly classified pixels"
   ]
  },
  {
   "cell_type": "code",
   "execution_count": 18,
   "metadata": {},
   "outputs": [
    {
     "name": "stdout",
     "output_type": "stream",
     "text": [
      "1.177\n",
      "1.370\n"
     ]
    }
   ],
   "source": [
    "# average certainty in correctly / incorrectly classified regions\n",
    "\n",
    "# msr\n",
    "mean_proba_true = np.mean(y_pred_acc[y_pred_label == y_test_nostride])\n",
    "mean_proba_false = np.mean(y_pred_acc[y_pred_label != y_test_nostride])\n",
    "print(\"%.3f\"% (mean_proba_true / mean_proba_false))\n",
    "\n",
    "# max margin\n",
    "mean_proba_true = np.mean(y_pred_acc_margin[y_pred_label == y_test_nostride])\n",
    "mean_proba_false = np.mean(y_pred_acc_margin[y_pred_label != y_test_nostride])\n",
    "print(\"%.3f\"% (mean_proba_true / mean_proba_false))"
   ]
  },
  {
   "cell_type": "code",
   "execution_count": 19,
   "metadata": {},
   "outputs": [
    {
     "name": "stdout",
     "output_type": "stream",
     "text": [
      "1.183\n",
      "1.407\n"
     ]
    }
   ],
   "source": [
    "ratios_tf_msr = [1.178,1.190,1.197,1.161,1.228,1.199,1.249,1.274]\n",
    "ratios_tf_mm = [1.373,1.440,1.424,1.370,1.556,1.425,1.603,1.625]\n",
    "\n",
    "print(\"%.3f\" % (np.dot(ratios_tf_msr,support)/sum(support)))\n",
    "print(\"%.3f\" % (np.dot(ratios_tf_mm,support)/sum(support)))"
   ]
  },
  {
   "cell_type": "markdown",
   "metadata": {},
   "source": [
    "### Recall-Precision Curve"
   ]
  },
  {
   "cell_type": "code",
   "execution_count": 20,
   "metadata": {},
   "outputs": [
    {
     "data": {
      "image/png": "[encoded data removed]",
      "text/plain": [
       "<Figure size 432x288 with 1 Axes>"
      ]
     },
     "metadata": {},
     "output_type": "display_data"
    }
   ],
   "source": [
    "# MSR\n",
    "y_scores = -get_acc_net_msr(y_pred).flatten()\n",
    "y_true = (y_test_nostride != y_pred_label).flatten()\n",
    "\n",
    "filt = y_test_nostride.flatten()!=0\n",
    "y_true = y_true[filt]\n",
    "y_scores = y_scores[filt]\n",
    "precision, recall, thresholds = metrics.precision_recall_curve(y_true, y_scores)\n",
    "plot_precision_recall(precision, recall, s_name=\"../Figures/DF/AUC/AUC_pred_wo_cl_\" + str(class_to_remove) + \"_MSR.pdf\")"
   ]
  },
  {
   "cell_type": "code",
   "execution_count": 21,
   "metadata": {},
   "outputs": [
    {
     "data": {
      "image/png": "[encoded data removed]",
      "text/plain": [
       "<Figure size 432x288 with 1 Axes>"
      ]
     },
     "metadata": {},
     "output_type": "display_data"
    }
   ],
   "source": [
    "# Max Margin\n",
    "y_scores = -get_acc_net_max_margin(y_pred).flatten()\n",
    "y_true = (y_test_nostride != y_pred_label).flatten()\n",
    "\n",
    "filt = y_test_nostride.flatten()!=0\n",
    "y_true = y_true[filt]\n",
    "y_scores = y_scores[filt]\n",
    "precision, recall, thresholds = metrics.precision_recall_curve(y_true, y_scores)\n",
    "plot_precision_recall(precision, recall, s_name=\"../Figures/DF/AUC/AUC_pred_wo_cl_\" + str(class_to_remove) + \"_MM.pdf\")"
   ]
  },
  {
   "cell_type": "code",
   "execution_count": 22,
   "metadata": {},
   "outputs": [
    {
     "data": {
      "image/png": "[encoded data removed]",
      "text/plain": [
       "<Figure size 432x288 with 1 Axes>"
      ]
     },
     "metadata": {},
     "output_type": "display_data"
    }
   ],
   "source": [
    "# Entropy\n",
    "y_scores = -get_acc_net_entropy(y_pred).flatten()\n",
    "y_true = (y_test_nostride != y_pred_label).flatten()\n",
    "\n",
    "filt = y_test_nostride.flatten()!=0\n",
    "y_true = y_true[filt]\n",
    "y_scores = y_scores[filt]\n",
    "precision, recall, thresholds = metrics.precision_recall_curve(y_true, y_scores)\n",
    "plot_precision_recall(precision, recall, s_name=\"../Figures/DF/AUC/AUC_pred_wo_cl_\" + str(class_to_remove) + \"_Entropy.pdf\")"
   ]
  },
  {
   "cell_type": "code",
   "execution_count": null,
   "metadata": {},
   "outputs": [],
   "source": []
  }
 ],
 "metadata": {
  "kernelspec": {
   "display_name": "Python 3",
   "language": "python",
   "name": "python3"
  },
  "language_info": {
   "codemirror_mode": {
    "name": "ipython",
    "version": 3
   },
   "file_extension": ".py",
   "mimetype": "text/x-python",
   "name": "python",
   "nbconvert_exporter": "python",
   "pygments_lexer": "ipython3",
   "version": "3.6.4"
  },
  "widgets": {
   "state": {},
   "version": "1.1.2"
  }
 },
 "nbformat": 4,
 "nbformat_minor": 2
}
