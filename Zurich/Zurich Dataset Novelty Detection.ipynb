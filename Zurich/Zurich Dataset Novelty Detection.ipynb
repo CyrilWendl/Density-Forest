{
 "cells": [
  {
   "cell_type": "markdown",
   "metadata": {},
   "source": [
    "# Zurich Land Cover Classification\n",
    "\n",
    "This script presents a visualization of training a U-Net classifier on 7 out of 8 available land cover classes of the Zurich dataset, and detecting the unseen class using a Density Forest."
   ]
  },
  {
   "cell_type": "markdown",
   "metadata": {},
   "source": [
    "## Import Libraries"
   ]
  },
  {
   "cell_type": "code",
   "execution_count": 1,
   "metadata": {},
   "outputs": [
    {
     "name": "stderr",
     "output_type": "stream",
     "text": [
      "Using TensorFlow backend.\n"
     ]
    },
    {
     "name": "stdout",
     "output_type": "stream",
     "text": [
      "[name: \"/device:CPU:0\"\n",
      "device_type: \"CPU\"\n",
      "memory_limit: 268435456\n",
      "locality {\n",
      "}\n",
      "incarnation: 14344233999815580467\n",
      ", name: \"/device:GPU:0\"\n",
      "device_type: \"GPU\"\n",
      "memory_limit: 10919205274\n",
      "locality {\n",
      "  bus_id: 1\n",
      "  links {\n",
      "  }\n",
      "}\n",
      "incarnation: 10593941837647837258\n",
      "physical_device_desc: \"device: 0, name: GeForce GTX 1080 Ti, pci bus id: 0000:02:00.0, compute capability: 6.1\"\n",
      "]\n"
     ]
    }
   ],
   "source": [
    "# python libraries\n",
    "import os, sys\n",
    "from multiprocessing import cpu_count\n",
    "from sklearn.manifold import TSNE\n",
    "import pandas as pd\n",
    "from sklearn import decomposition, svm, preprocessing\n",
    "from sklearn.utils import class_weight\n",
    "from sklearn.mixture import GaussianMixture\n",
    "from sklearn.gaussian_process.kernels import RBF\n",
    "from sklearn import metrics\n",
    "from keras.utils import to_categorical\n",
    "from keras.models import load_model\n",
    "from tensorflow.python.client import device_lib\n",
    "\n",
    "# custom libraries\n",
    "# base_dir = '/Users/cyrilwendl/Documents/EPFL'\n",
    "base_dir = '/raid/home/cwendl'  # for guanabana\n",
    "sys.path.append(base_dir + '/SIE-Master/Code')  # Path to density Tree package\n",
    "\n",
    "from helpers.helpers import *\n",
    "from helpers.plots import *\n",
    "from helpers.data_augment import *\n",
    "from helpers.data_loader import *\n",
    "from helpers.parameter_search import *\n",
    "from density_forest.density_forest import *\n",
    "from density_forest.helpers import *\n",
    "from baselines.helpers import *\n",
    "from keras_helpers.unet import *\n",
    "from keras_helpers.callbacks import *\n",
    "\n",
    "os.environ[\"CUDA_DEVICE_ORDER\"] = \"PCI_BUS_ID\"\n",
    "os.environ[\"CUDA_VISIBLE_DEVICES\"] = \"0\"  # sys.argv[2]\n",
    "print(device_lib.list_local_devices())\n",
    "\n",
    "class_to_remove = 1  # int(sys.argv[1])\n",
    "paramsearch = False  # search for best hyperparameters\n",
    "\n",
    "my_dpi=255 # dpi of my screen, for image exporting\n",
    "\n",
    "# data frame with previously found optimal hyperparameters\n",
    "df_ps = pd.read_csv('models_out/hyperparams.csv', index_col=0) "
   ]
  },
  {
   "cell_type": "code",
   "execution_count": 2,
   "metadata": {},
   "outputs": [
    {
     "data": {
      "text/html": [
       "<div>\n",
       "<style scoped>\n",
       "    .dataframe tbody tr th:only-of-type {\n",
       "        vertical-align: middle;\n",
       "    }\n",
       "\n",
       "    .dataframe tbody tr th {\n",
       "        vertical-align: top;\n",
       "    }\n",
       "\n",
       "    .dataframe thead th {\n",
       "        text-align: right;\n",
       "    }\n",
       "</style>\n",
       "<table border=\"1\" class=\"dataframe\">\n",
       "  <thead>\n",
       "    <tr style=\"text-align: right;\">\n",
       "      <th></th>\n",
       "      <th>gmm_n_components</th>\n",
       "      <th>oc-svm_k</th>\n",
       "      <th>oc-svm_deg</th>\n",
       "      <th>oc_svm_nu</th>\n",
       "      <th>df_depth</th>\n",
       "      <th>df_min_ig</th>\n",
       "    </tr>\n",
       "  </thead>\n",
       "  <tbody>\n",
       "    <tr>\n",
       "      <th>Roads</th>\n",
       "      <td>3</td>\n",
       "      <td>poly</td>\n",
       "      <td>2</td>\n",
       "      <td>0.001</td>\n",
       "      <td>1</td>\n",
       "      <td>-inf</td>\n",
       "    </tr>\n",
       "    <tr>\n",
       "      <th>Buildings</th>\n",
       "      <td>5</td>\n",
       "      <td>poly</td>\n",
       "      <td>1</td>\n",
       "      <td>0.001</td>\n",
       "      <td>3</td>\n",
       "      <td>-inf</td>\n",
       "    </tr>\n",
       "    <tr>\n",
       "      <th>Trees</th>\n",
       "      <td>4</td>\n",
       "      <td>poly</td>\n",
       "      <td>1</td>\n",
       "      <td>0.010</td>\n",
       "      <td>1</td>\n",
       "      <td>0.700000</td>\n",
       "    </tr>\n",
       "    <tr>\n",
       "      <th>Grass</th>\n",
       "      <td>3</td>\n",
       "      <td>poly</td>\n",
       "      <td>1</td>\n",
       "      <td>0.001</td>\n",
       "      <td>3</td>\n",
       "      <td>0.000000</td>\n",
       "    </tr>\n",
       "    <tr>\n",
       "      <th>Bare Soil</th>\n",
       "      <td>9</td>\n",
       "      <td>poly</td>\n",
       "      <td>1</td>\n",
       "      <td>0.500</td>\n",
       "      <td>1</td>\n",
       "      <td>0.000000</td>\n",
       "    </tr>\n",
       "    <tr>\n",
       "      <th>Water</th>\n",
       "      <td>3</td>\n",
       "      <td>poly</td>\n",
       "      <td>1</td>\n",
       "      <td>0.001</td>\n",
       "      <td>1</td>\n",
       "      <td>0.000000</td>\n",
       "    </tr>\n",
       "    <tr>\n",
       "      <th>Swimming Pools</th>\n",
       "      <td>3</td>\n",
       "      <td>rbf</td>\n",
       "      <td>1</td>\n",
       "      <td>0.500</td>\n",
       "      <td>3</td>\n",
       "      <td>0.700000</td>\n",
       "    </tr>\n",
       "    <tr>\n",
       "      <th>Railways</th>\n",
       "      <td>9</td>\n",
       "      <td>poly</td>\n",
       "      <td>3</td>\n",
       "      <td>0.500</td>\n",
       "      <td>3</td>\n",
       "      <td>0.700000</td>\n",
       "    </tr>\n",
       "  </tbody>\n",
       "</table>\n",
       "</div>"
      ],
      "text/plain": [
       "                gmm_n_components oc-svm_k  oc-svm_deg  oc_svm_nu  df_depth  \\\n",
       "Roads                          3     poly           2      0.001         1   \n",
       "Buildings                      5     poly           1      0.001         3   \n",
       "Trees                          4     poly           1      0.010         1   \n",
       "Grass                          3     poly           1      0.001         3   \n",
       "Bare Soil                      9     poly           1      0.500         1   \n",
       "Water                          3     poly           1      0.001         1   \n",
       "Swimming Pools                 3      rbf           1      0.500         3   \n",
       "Railways                       9     poly           3      0.500         3   \n",
       "\n",
       "                df_min_ig  \n",
       "Roads                -inf  \n",
       "Buildings            -inf  \n",
       "Trees            0.700000  \n",
       "Grass            0.000000  \n",
       "Bare Soil        0.000000  \n",
       "Water            0.000000  \n",
       "Swimming Pools   0.700000  \n",
       "Railways         0.700000  "
      ]
     },
     "execution_count": 2,
     "metadata": {},
     "output_type": "execute_result"
    }
   ],
   "source": [
    "df_ps"
   ]
  },
  {
   "cell_type": "markdown",
   "metadata": {},
   "source": [
    "# Load Data"
   ]
  },
  {
   "cell_type": "code",
   "execution_count": 3,
   "metadata": {},
   "outputs": [
    {
     "name": "stdout",
     "output_type": "stream",
     "text": [
      "loading data\n",
      "loading data with overlap\n",
      "classes to keep: ['Buildings' 'Trees' 'Grass' 'Bare Soil' 'Water' 'Railways']\n"
     ]
    }
   ],
   "source": [
    "path = os.getcwd()\n",
    "\n",
    "# data without overlap\n",
    "print(\"loading data\")\n",
    "data_train = ZurichLoader(path, 'train', class_to_remove=class_to_remove)\n",
    "data_val = ZurichLoader(path, 'val', class_to_remove=class_to_remove)\n",
    "data_test = ZurichLoader(path, 'test', class_to_remove=class_to_remove)\n",
    "\n",
    "print(\"loading data with overlap\")\n",
    "# data with overlap, for prediction\n",
    "data_train_overlap = ZurichLoader(path, 'train', stride=32, inherit_loader=data_train)\n",
    "data_val_overlap = ZurichLoader(path, 'val', stride=32, inherit_loader=data_val)\n",
    "data_test_overlap = ZurichLoader(path, 'test', stride=32, inherit_loader=data_test)\n",
    "\n",
    "# class names and colors\n",
    "names = data_train.names\n",
    "colors = data_train.colors\n",
    "n_classes = 8\n",
    "classes_to_keep = np.asarray([x for x in range(1, n_classes) if x != class_to_remove])\n",
    "names_keep = np.asarray(names)[classes_to_keep]\n",
    "print(\"classes to keep: \" + str(names_keep))"
   ]
  },
  {
   "cell_type": "code",
   "execution_count": 4,
   "metadata": {},
   "outputs": [],
   "source": [
    "for dataset, offset in zip([data_train, data_val, data_test], [0, 10, 15]):\n",
    "    for im_idx, im in enumerate(dataset.imgs):\n",
    "        im = im[..., :3]\n",
    "        f_name = \"../Figures/Zurich/Im/Im_\" + str(im_idx + offset) + \".jpg\"\n",
    "        export_figure_matplotlib(im, f_name, dpi=my_dpi)"
   ]
  },
  {
   "cell_type": "code",
   "execution_count": 5,
   "metadata": {},
   "outputs": [],
   "source": [
    "for dataset, offset in zip([data_train, data_val, data_test], [0, 10, 15]):\n",
    "    for gt_idx, gt in enumerate(dataset.gt):\n",
    "        gt_col = gt_label_to_color(gt, colors)*255\n",
    "        f_name = \"../Figures/Zurich/Im/GT_\" + str(gt_idx + offset) + \".jpg\"\n",
    "        export_figure_matplotlib(gt_col, f_name, dpi=my_dpi)"
   ]
  },
  {
   "cell_type": "code",
   "execution_count": 6,
   "metadata": {},
   "outputs": [
    {
     "data": {
      "image/png": "[encoded data removed]",
      "text/plain": [
       "<Figure size 504x432 with 1 Axes>"
      ]
     },
     "metadata": {},
     "output_type": "display_data"
    }
   ],
   "source": [
    "pred_labels_tr, cnt_tr = np.unique(data_train.gt_patches.astype('int'), return_counts=True)\n",
    "pred_labels_val, cnt_val = np.unique(data_val.gt_patches.astype('int'), return_counts=True)\n",
    "pred_labels_te, cnt_te = np.unique(data_test.gt_patches.astype('int'), return_counts=True)\n",
    "\n",
    "cnt_tr = cnt_tr / np.sum(cnt_tr) * 100\n",
    "cnt_val = np.concatenate((cnt_val / np.sum(cnt_val) * 100, [0]))\n",
    "cnt_te = cnt_te / np.sum(cnt_te) * 100\n",
    "\n",
    "df = pd.DataFrame({'Train': cnt_tr, 'Val': cnt_val, 'Test': cnt_te}, index=names[pred_labels_tr])\n",
    "\n",
    "axis = df[::-1].plot.barh(figsize=(7, 6), colormap='winter')\n",
    "plt.xlim([0, 100])\n",
    "plt.xlabel(\"Count [%]\")\n",
    "plt.grid(alpha=.3)\n",
    "axis.spines['right'].set_visible(False)\n",
    "axis.spines['top'].set_visible(False)\n",
    "plt.savefig(\"../Figures/Zurich/Pred_count/ZH_dist.pdf\", bbox_inches='tight', pad_inches=0)"
   ]
  },
  {
   "cell_type": "markdown",
   "metadata": {},
   "source": [
    "# CNN Training\n",
    "\n",
    "Data Split: \n",
    "- Training: 12 images\n",
    "- Validation: 4 images\n",
    "- Test: 4 images\n",
    "\n",
    "Tested Architectures: \n",
    "\n",
    "| Model | Patch Size | Data Augmentations | Number of Parameters | Testing Precision (avg) | Testing Recall (avg) | Testing f1 score (avg) | Validation / Test accuracy |\n",
    "| ------- | ------- | ------- | ------- | ------- | ------- |\n",
    "| U-Net | 64 | Rot 90°, Flipping  | 7,828,200 | 0.87 | 0.858 | 0.86 | t |\n",
    "| U-Net | 128 | Rot 90°, Flipping  | 7,828,200 | 0.69 | 0.61 | 0.64 | t |\n",
    "| U-Net | 128 | Rot 90°, Flipping  | 7,828,200 | 0.90 | 0.89 | 0.89 | v |"
   ]
  },
  {
   "cell_type": "code",
   "execution_count": 7,
   "metadata": {},
   "outputs": [
    {
     "data": {
      "text/plain": [
       "'\\n# create copies of original data\\ny_train_label = y_train.copy()\\ny_val_label = y_val.copy()\\ny_test_label = y_test.copy()\\n\\n# get class weights\\nlabels_unique = np.unique(y_train.flatten())\\nprint(labels_unique)\\nclass_weights = class_weight.compute_class_weight(\\'balanced\\', labels_unique, y_train.flatten())\\nclass_weights[0] = 0  # give less weight to background label class\\nclass_weights[5] = 7  # give less weight to bare soil class\\nclass_weights[8] = 7  # give less weight to swimming pool class\\n\\nprint(\"Class weights:\")\\nfor i, w in enumerate(class_weights):\\n    print(\"%15s: %3.3f\" % (names[i], w))\\n'"
      ]
     },
     "execution_count": 7,
     "metadata": {},
     "output_type": "execute_result"
    }
   ],
   "source": [
    "\"\"\"\n",
    "# create copies of original data\n",
    "y_train_label = y_train.copy()\n",
    "y_val_label = y_val.copy()\n",
    "y_test_label = y_test.copy()\n",
    "\n",
    "# get class weights\n",
    "labels_unique = np.unique(y_train.flatten())\n",
    "print(labels_unique)\n",
    "class_weights = class_weight.compute_class_weight('balanced', labels_unique, y_train.flatten())\n",
    "class_weights[0] = 0  # give less weight to background label class\n",
    "class_weights[5] = 7  # give less weight to bare soil class\n",
    "class_weights[8] = 7  # give less weight to swimming pool class\n",
    "\n",
    "print(\"Class weights:\")\n",
    "for i, w in enumerate(class_weights):\n",
    "    print(\"%15s: %3.3f\" % (names[i], w))\n",
    "\"\"\""
   ]
  },
  {
   "cell_type": "code",
   "execution_count": 8,
   "metadata": {
    "scrolled": true
   },
   "outputs": [
    {
     "data": {
      "text/plain": [
       "'\\n\\n# convert to numpy arrays\\nx_train = np.asarray(x_train)\\nx_val = np.asarray(x_val)\\nx_test = np.asarray(x_test)\\n\\n# make y data categorical\\ny_train = to_categorical(y_train_label, n_classes)\\ny_val = to_categorical(y_val_label, n_classes)\\n\\ny_train = y_train[..., classes_to_keep]\\ny_val = y_val[..., classes_to_keep]\\nn_classes = len(classes_to_keep)\\nclass_weights = class_weights[classes_to_keep]\\n\\n# print shapes of variables\\nfor var in x_train, y_train, x_val, y_val:\\n    print(np.shape(var))\\n'"
      ]
     },
     "execution_count": 8,
     "metadata": {},
     "output_type": "execute_result"
    }
   ],
   "source": [
    "\"\"\"\n",
    "\n",
    "# convert to numpy arrays\n",
    "x_train = np.asarray(x_train)\n",
    "x_val = np.asarray(x_val)\n",
    "x_test = np.asarray(x_test)\n",
    "\n",
    "# make y data categorical\n",
    "y_train = to_categorical(y_train_label, n_classes)\n",
    "y_val = to_categorical(y_val_label, n_classes)\n",
    "\n",
    "y_train = y_train[..., classes_to_keep]\n",
    "y_val = y_val[..., classes_to_keep]\n",
    "n_classes = len(classes_to_keep)\n",
    "class_weights = class_weights[classes_to_keep]\n",
    "\n",
    "# print shapes of variables\n",
    "for var in x_train, y_train, x_val, y_val:\n",
    "    print(np.shape(var))\n",
    "\"\"\""
   ]
  },
  {
   "cell_type": "markdown",
   "metadata": {},
   "source": [
    "### Train CNN"
   ]
  },
  {
   "cell_type": "code",
   "execution_count": 9,
   "metadata": {},
   "outputs": [
    {
     "data": {
      "text/plain": [
       "'\\n# callbacks (evaluated every epoch)\\n# show loss and accuracy figures after each epoch\\ncallback_plot = PlotLosses()\\n\\n# stop early if after several epochs the accuracy doesn\\'t improve\\ncallback_earlystop = EarlyStopping(monitor=\\'val_loss\\', min_delta=1e-4, patience=24, verbose=1, mode=\\'auto\\')\\n\\n# decrease learning rate when accuracy stops improving\\ncallback_lr = ReduceLROnPlateau(monitor=\\'val_loss\\', factor=0.5, patience=12, verbose=1, mode=\\'auto\\',\\n                                epsilon=1e-4, cooldown=0, min_lr=1e-8)\\n\\n# checkpoint to save weights at every epoch (in case of interruption)\\nfile_path = \"weights-improvement.hdf5\"\\ncallback_checkpoint = ModelCheckpoint(file_path, monitor=\\'val_acc\\', verbose=0, save_best_only=True, mode=\\'max\\')\\n\\ncallback_tensorboard = TensorBoard(log_dir=\\'./tensorboard\\', histogram_freq=0, write_graph=True, write_images=True)\\n\\n# model setup\\nbatch_size = 20\\nepochs = 300\\n\\n\\ndef model_train(model, data_augmentation):\\n    # Fit the model on the batches generated by datagen.flow().\\n    model.fit_generator(batch_generator(x_train, y_train,\\n                                        batch_size=batch_size, data_augmentation=data_augmentation),\\n                        steps_per_epoch=int(np.ceil(x_train.shape[0] / float(batch_size))),\\n                        epochs=epochs,\\n                        verbose=1,\\n                        class_weight=class_weights,  # weights for loss function\\n                        validation_data=(x_val, y_val),\\n                        callbacks=[callback_earlystop,\\n                                   callback_lr,\\n                                   # callback_checkpoint,\\n                                   callback_plot,\\n                                   callback_tensorboard],\\n                        workers=cpu_count(),\\n                        use_multiprocessing=True)\\n                        \\n'"
      ]
     },
     "execution_count": 9,
     "metadata": {},
     "output_type": "execute_result"
    }
   ],
   "source": [
    "\"\"\"\n",
    "# callbacks (evaluated every epoch)\n",
    "# show loss and accuracy figures after each epoch\n",
    "callback_plot = PlotLosses()\n",
    "\n",
    "# stop early if after several epochs the accuracy doesn't improve\n",
    "callback_earlystop = EarlyStopping(monitor='val_loss', min_delta=1e-4, patience=24, verbose=1, mode='auto')\n",
    "\n",
    "# decrease learning rate when accuracy stops improving\n",
    "callback_lr = ReduceLROnPlateau(monitor='val_loss', factor=0.5, patience=12, verbose=1, mode='auto',\n",
    "                                epsilon=1e-4, cooldown=0, min_lr=1e-8)\n",
    "\n",
    "# checkpoint to save weights at every epoch (in case of interruption)\n",
    "file_path = \"weights-improvement.hdf5\"\n",
    "callback_checkpoint = ModelCheckpoint(file_path, monitor='val_acc', verbose=0, save_best_only=True, mode='max')\n",
    "\n",
    "callback_tensorboard = TensorBoard(log_dir='./tensorboard', histogram_freq=0, write_graph=True, write_images=True)\n",
    "\n",
    "# model setup\n",
    "batch_size = 20\n",
    "epochs = 300\n",
    "\n",
    "\n",
    "def model_train(model, data_augmentation):\n",
    "    # Fit the model on the batches generated by datagen.flow().\n",
    "    model.fit_generator(batch_generator(x_train, y_train,\n",
    "                                        batch_size=batch_size, data_augmentation=data_augmentation),\n",
    "                        steps_per_epoch=int(np.ceil(x_train.shape[0] / float(batch_size))),\n",
    "                        epochs=epochs,\n",
    "                        verbose=1,\n",
    "                        class_weight=class_weights,  # weights for loss function\n",
    "                        validation_data=(x_val, y_val),\n",
    "                        callbacks=[callback_earlystop,\n",
    "                                   callback_lr,\n",
    "                                   # callback_checkpoint,\n",
    "                                   callback_plot,\n",
    "                                   callback_tensorboard],\n",
    "                        workers=cpu_count(),\n",
    "                        use_multiprocessing=True)\n",
    "                        \n",
    "\"\"\""
   ]
  },
  {
   "cell_type": "code",
   "execution_count": 10,
   "metadata": {},
   "outputs": [],
   "source": [
    "# train or load model\n",
    "# train the model\n",
    "# model_unet = get_unet(n_classes, x_train.shape[1:])\n",
    "# model_train(model_unet, data_augmentation=True)\n",
    "# model_unet.save('models_out/model_unet_64_flip_rot90_wo_cl_' + str(names[class_to_remove]).lower() + '_2.h5')  # save model, weights"
   ]
  },
  {
   "cell_type": "code",
   "execution_count": 11,
   "metadata": {},
   "outputs": [],
   "source": [
    "# load model\n",
    "name_model = path + '/models_out/model_unet_64_flip_rot90_wo_cl_' + str(names[class_to_remove]).lower().replace(\" \", \"\") + '.h5'    \n",
    "model_unet = load_model(name_model, custom_objects={'fn': ignore_background_class_accuracy(0)})"
   ]
  },
  {
   "cell_type": "markdown",
   "metadata": {
    "collapsed": true
   },
   "source": [
    "### Predictions"
   ]
  },
  {
   "cell_type": "code",
   "execution_count": 12,
   "metadata": {},
   "outputs": [
    {
     "name": "stdout",
     "output_type": "stream",
     "text": [
      "15640/15640 [==============================] - 9s 576us/step\n",
      "5165/5165 [==============================] - 3s 501us/step\n",
      "5223/5223 [==============================] - 3s 503us/step\n"
     ]
    }
   ],
   "source": [
    "# get all predictions in training and test set\n",
    "# training set\n",
    "y_pred_tr = model_unet.predict(data_train_overlap.im_patches, verbose=1)\n",
    "y_pred_tr = remove_overlap(data_train.imgs, y_pred_tr, 64, 32)\n",
    "y_pred_label_tr = get_y_pred_labels(y_pred_tr, class_to_remove=class_to_remove, background=True)\n",
    "\n",
    "# validation set\n",
    "y_pred_val = model_unet.predict(data_val_overlap.im_patches, verbose=1)\n",
    "y_pred_val = remove_overlap(data_val.imgs, y_pred_val, 64, 32)\n",
    "y_pred_label_val = get_y_pred_labels(y_pred_val, class_to_remove=class_to_remove, background=True)\n",
    "\n",
    "# test set\n",
    "y_pred_te = model_unet.predict(data_test_overlap.im_patches, verbose=1)\n",
    "y_pred_te = remove_overlap(data_test.imgs, y_pred_te, 64, 32)\n",
    "y_pred_label_te = get_y_pred_labels(y_pred_te, class_to_remove=class_to_remove, background=True)"
   ]
  },
  {
   "cell_type": "code",
   "execution_count": 13,
   "metadata": {},
   "outputs": [],
   "source": [
    "# get indices of correctly / incorrectly predicted pixels\n",
    "# train\n",
    "#pred_t_tr = (data_train.gt_patches != class_to_remove) & (data_train.gt_patches != 0)\n",
    "pred_t_tr = y_pred_label_tr == data_train.gt_patches\n",
    "pred_f_tr = data_train.gt_patches == class_to_remove\n",
    "\n",
    "# val\n",
    "#pred_t_val = (data_val.gt_patches != class_to_remove) & (data_val.gt_patches != 0)\n",
    "pred_t_val = y_pred_label_val == data_val.gt_patches\n",
    "pred_f_val = data_val.gt_patches == class_to_remove\n",
    "\n",
    "# test\n",
    "#pred_t_te = (data_test.gt_patches != class_to_remove) & (data_test.gt_patches != 0)\n",
    "pred_t_te = y_pred_label_te == data_test.gt_patches\n",
    "pred_f_te = data_test.gt_patches == class_to_remove"
   ]
  },
  {
   "cell_type": "code",
   "execution_count": 14,
   "metadata": {},
   "outputs": [],
   "source": [
    "# export predicted images\n",
    "offset = 0\n",
    "for dataset, preds in zip([data_train, data_val, data_test], [y_pred_label_tr, y_pred_label_val, y_pred_label_te]):\n",
    "    imgs = convert_patches_to_image(dataset.imgs, preds[..., np.newaxis], 64, 64)\n",
    "    for im_idx, im in enumerate(imgs):\n",
    "        im_color = gt_label_to_color(im, colors) * 255\n",
    "        f_name = \"../Figures/Zurich/Im_pred/cl_\" + str(class_to_remove)\n",
    "        f_name = f_name + \"/Im_\" + str(im_idx + offset) + \"_wo_cl_\" + str(class_to_remove) + \".jpg\"\n",
    "        export_figure_matplotlib(im_color, f_name, dpi=my_dpi)\n",
    "        \n",
    "    offset += len(dataset.imgs)"
   ]
  },
  {
   "cell_type": "markdown",
   "metadata": {},
   "source": [
    "### Accuracy Metrics (Test Set)"
   ]
  },
  {
   "cell_type": "code",
   "execution_count": 15,
   "metadata": {},
   "outputs": [
    {
     "name": "stdout",
     "output_type": "stream",
     "text": [
      "[93.75 90.3 ]\n",
      "[91.67 79.76]\n",
      "[88.1  76.71]\n"
     ]
    }
   ],
   "source": [
    "# Get oa, aa for train, val, test\n",
    "# train\n",
    "y_pred_tr_flattened = np.asarray(y_pred_label_tr.flatten()).astype('int')\n",
    "y_tr_flattened = np.asarray(data_train.gt_patches.flatten()).astype('int')\n",
    "filter_items = (y_tr_flattened != 0) & (y_tr_flattened != class_to_remove)\n",
    "oa_tr = oa(y_tr_flattened[filter_items], y_pred_tr_flattened[filter_items])\n",
    "aa_tr, aa_tr_cl = aa(y_tr_flattened[filter_items], y_pred_tr_flattened[filter_items])\n",
    "\n",
    "# val\n",
    "y_pred_val_flattened = np.asarray(y_pred_label_val.flatten()).astype('int')\n",
    "y_val_flattened = np.asarray(data_val.gt_patches.flatten()).astype('int')\n",
    "filter_items = (y_val_flattened != 0) & (y_val_flattened != class_to_remove)\n",
    "oa_val = oa(y_val_flattened[filter_items], y_pred_val_flattened[filter_items])\n",
    "aa_val, aa_val_cl = aa(y_val_flattened[filter_items], y_pred_val_flattened[filter_items])\n",
    "\n",
    "# test\n",
    "y_pred_te_flattened = np.asarray(y_pred_label_te.flatten()).astype('int')\n",
    "y_te_flattened = np.asarray(data_test.gt_patches.flatten()).astype('int')\n",
    "filter_items = (y_te_flattened != 0) & (y_te_flattened != class_to_remove)\n",
    "oa_te = oa(y_te_flattened[filter_items], y_pred_te_flattened[filter_items])\n",
    "aa_te, aa_te_cl = aa(y_te_flattened[filter_items], y_pred_te_flattened[filter_items])\n",
    "\n",
    "print(np.round(np.multiply([oa_tr, aa_tr], 100), 2))\n",
    "print(np.round(np.multiply([oa_val, aa_val], 100), 2))\n",
    "print(np.round(np.multiply([oa_te, aa_te], 100), 2))"
   ]
  },
  {
   "cell_type": "code",
   "execution_count": 16,
   "metadata": {},
   "outputs": [],
   "source": [
    "# write metrics to CSV files\n",
    "df_metrics = pd.read_csv('models_out/metrics_ND.csv', index_col=0)\n",
    "df2 = pd.DataFrame({str(names[class_to_remove]):[oa_tr, aa_tr, oa_val, aa_val, oa_te, aa_te]},\n",
    "                    index = ['OA Train', 'AA Train', 'OA Val', 'AA Val', 'OA Test', 'AA Test']).T\n",
    "df_metrics = df_metrics.append(df2)\n",
    "df_metrics = df_metrics[~df_metrics.index.duplicated(keep='last')]  # avoid duplicates\n",
    "df_metrics.to_csv('models_out/metrics_ND.csv')\n",
    "# print((df_metrics*100).round(2).to_latex())"
   ]
  },
  {
   "cell_type": "code",
   "execution_count": 17,
   "metadata": {},
   "outputs": [
    {
     "name": "stderr",
     "output_type": "stream",
     "text": [
      "/opt/conda/envs/python36/lib/python3.6/site-packages/sklearn/metrics/classification.py:1428: UserWarning: labels size, 7, does not match size of target_names, 6\n",
      "  .format(len(labels), len(target_names))\n"
     ]
    },
    {
     "name": "stdout",
     "output_type": "stream",
     "text": [
      "             precision    recall  f1-score   support\n",
      "\n",
      "  Buildings      0.824     0.978     0.894    778708\n",
      "      Trees      0.895     0.866     0.880    693092\n",
      "      Grass      0.953     0.841     0.894    689620\n",
      "  Bare Soil      0.901     0.711     0.794     88088\n",
      "      Water      0.984     0.888     0.933    284293\n",
      "   Railways      0.047     0.082     0.060     19190\n",
      "\n",
      "avg / total      0.889     0.881     0.881   2563448\n",
      "\n",
      "88.1\n"
     ]
    },
    {
     "name": "stderr",
     "output_type": "stream",
     "text": [
      "/opt/conda/envs/python36/lib/python3.6/site-packages/sklearn/metrics/classification.py:1135: UndefinedMetricWarning: Precision and F-score are ill-defined and being set to 0.0 in labels with no predicted samples.\n",
      "  'precision', 'predicted', average, warn_for)\n"
     ]
    }
   ],
   "source": [
    "# Accuracy metrics\n",
    "y_pred_flattened = np.asarray(y_pred_label_te.flatten()).astype('int')\n",
    "y_test_flattened = np.asarray(data_test.gt_patches.flatten()).astype('int')\n",
    "\n",
    "# mask background and removed classes for evaluation metrics\n",
    "filter_items = (y_test_flattened != 0) & (y_test_flattened != class_to_remove)\n",
    "\n",
    "# Class accuracy, average accuracy\n",
    "print(metrics.classification_report(\n",
    "    y_test_flattened[filter_items],\n",
    "    y_pred_flattened[filter_items],\n",
    "    target_names=names_keep,\n",
    "    digits=3))\n",
    "\n",
    "\n",
    "# Overall accuracy\n",
    "print(np.round(oa_te * 100, 2))"
   ]
  },
  {
   "cell_type": "markdown",
   "metadata": {},
   "source": [
    "## Distribution of predictions in unseen class"
   ]
  },
  {
   "cell_type": "code",
   "execution_count": 18,
   "metadata": {},
   "outputs": [
    {
     "data": {
      "image/png": "[encoded data removed]",
      "text/plain": [
       "<Figure size 504x360 with 1 Axes>"
      ]
     },
     "metadata": {},
     "output_type": "display_data"
    }
   ],
   "source": [
    "# distribution of predicted label\n",
    "pred_labels, pred_counts = np.unique(y_pred_label_te[pred_f_te], return_counts=True)\n",
    "pred_counts = pred_counts / sum(pred_counts) * 100\n",
    "\n",
    "# visualization\n",
    "fig = plt.figure(figsize=(7, 5))\n",
    "plt.bar(pred_labels, pred_counts)\n",
    "plt.xticks(np.arange(0, 10))\n",
    "plt.ylim([0,100])\n",
    "plt.xlabel(\"Predicted Label\")\n",
    "plt.ylabel(\"Count [%]\")\n",
    "plt.grid(alpha=.3)\n",
    "fig.axes[0].spines['right'].set_visible(False)\n",
    "fig.axes[0].spines['top'].set_visible(False)\n",
    "plt.title(\"Misclassified labels (mean MSR=%.2f)\" % np.mean(get_acc_net_msr(y_pred_te[pred_f_te])))\n",
    "plt.xticks(pred_labels_te, names, rotation=20)\n",
    "plt.savefig(\"../Figures/Zurich/Pred_count/ZH_pred-count_wo_cl\" + str(class_to_remove) + \".pdf\",\n",
    "            bbox_inches='tight', pad_inches=0)"
   ]
  },
  {
   "cell_type": "markdown",
   "metadata": {},
   "source": [
    "# Novelty Detection"
   ]
  },
  {
   "cell_type": "markdown",
   "metadata": {},
   "source": [
    "## Network"
   ]
  },
  {
   "cell_type": "code",
   "execution_count": 19,
   "metadata": {},
   "outputs": [],
   "source": [
    "probas_msr = get_acc_net_msr(y_pred_te).flatten()\n",
    "probas_margin = get_acc_net_max_margin(y_pred_te).flatten()\n",
    "probas_entropy = get_acc_net_entropy(y_pred_te).flatten()"
   ]
  },
  {
   "cell_type": "code",
   "execution_count": 20,
   "metadata": {},
   "outputs": [
    {
     "name": "stdout",
     "output_type": "stream",
     "text": [
      "AUROC: 0.60, PR AUC: 0.17\n",
      "AUROC: 0.59, PR AUC: 0.17\n",
      "AUROC: 0.61, PR AUC: 0.18\n"
     ]
    }
   ],
   "source": [
    "# precision-recall curves\n",
    "\n",
    "# msr\n",
    "y_scores = -probas_msr\n",
    "y_true = pred_f_te.flatten()\n",
    "precision_msr, recall_msr, _ = metrics.precision_recall_curve(y_true, y_scores)\n",
    "pr_auc_msr = metrics.average_precision_score(y_true, y_scores)\n",
    "auroc_msr = metrics.roc_auc_score(y_true, y_scores)\n",
    "fpr_msr, tpr_msr, _ = metrics.roc_curve(y_true, y_scores)\n",
    "\n",
    "# margin\n",
    "y_scores = -probas_margin\n",
    "precision_margin, recall_margin, _ = metrics.precision_recall_curve(y_true, y_scores)\n",
    "pr_auc_margin = metrics.average_precision_score(y_true, y_scores)\n",
    "auroc_margin = metrics.roc_auc_score(y_true, y_scores)\n",
    "fpr_margin, tpr_margin, _ = metrics.roc_curve(y_true, y_scores)\n",
    "\n",
    "# entropy\n",
    "y_scores = -probas_entropy\n",
    "precision_entropy, recall_entropy, _ = metrics.precision_recall_curve(y_true, y_scores)\n",
    "pr_auc_entropy = metrics.average_precision_score(y_true, y_scores)\n",
    "auroc_entropy = metrics.roc_auc_score(y_true, y_scores)\n",
    "fpr_entropy, tpr_entropy, _ = metrics.roc_curve(y_true, y_scores)\n",
    "\n",
    "print(\"AUROC: %.2f, PR AUC: %.2f\" % (auroc_msr, pr_auc_msr))\n",
    "print(\"AUROC: %.2f, PR AUC: %.2f\" % (auroc_margin, pr_auc_margin))\n",
    "print(\"AUROC: %.2f, PR AUC: %.2f\" % (auroc_entropy, pr_auc_entropy))"
   ]
  },
  {
   "cell_type": "code",
   "execution_count": 21,
   "metadata": {},
   "outputs": [],
   "source": [
    "# visualization\n",
    "# MSR\n",
    "probas_patches_msr = np.reshape(probas_msr, np.shape(data_test.gt_patches))\n",
    "probas_patches_msr -= np.min(probas_patches_msr)\n",
    "probas_patches_msr /= np.max(probas_patches_msr)\n",
    "\n",
    "# margin\n",
    "probas_patches_margin = np.reshape(probas_margin, np.shape(data_test.gt_patches))\n",
    "probas_patches_margin -= np.min(probas_patches_margin)\n",
    "probas_patches_margin /= np.max(probas_patches_margin)\n",
    "\n",
    "# entropy\n",
    "probas_patches_entropy = np.reshape(probas_entropy, np.shape(data_test.gt_patches))\n",
    "probas_patches_entropy -= np.min(probas_patches_entropy)\n",
    "probas_patches_entropy /= np.max(probas_patches_entropy)\n",
    "\n",
    "base_folder = \"../Figures/Zurich/Im_cert/cl_\" + str(class_to_remove)"
   ]
  },
  {
   "cell_type": "code",
   "execution_count": 22,
   "metadata": {},
   "outputs": [],
   "source": [
    "acc_im_msr = convert_patches_to_image(data_test.imgs, probas_patches_msr[..., np.newaxis], 64, 64)\n",
    "acc_im_margin = convert_patches_to_image(data_test.imgs, probas_patches_margin[..., np.newaxis], 64, 64)\n",
    "acc_im_entropy = convert_patches_to_image(data_test.imgs, probas_patches_entropy[..., np.newaxis], 64, 64)\n",
    "\n",
    "# export images\n",
    "for img_idx in range(len(data_test.imgs)):\n",
    "    # msr\n",
    "    acc_im_msr_ = exposure.equalize_hist(acc_im_msr[img_idx])\n",
    "    f_name = base_folder + \"/ZH_wo_cl_\" + str(class_to_remove) + \"_net_msr_im_\" + str(img_idx) + \".jpg\"\n",
    "    export_figure_matplotlib(acc_im_msr_, f_name, dpi=my_dpi)\n",
    "    \n",
    "    # margin\n",
    "    \n",
    "    acc_im_margin_ = exposure.equalize_hist(acc_im_margin[img_idx])\n",
    "    f_name = base_folder + \"/ZH_wo_cl_\" + str(class_to_remove) + \"_net_margin_im_\" + str(img_idx) + \".jpg\"\n",
    "    export_figure_matplotlib(acc_im_margin_, f_name, dpi=my_dpi)\n",
    "    \n",
    "    # entropy\n",
    "    \n",
    "    acc_im_entropy_ = exposure.equalize_hist(acc_im_entropy[img_idx])\n",
    "    f_name = base_folder + \"/ZH_wo_cl_\" + str(class_to_remove) + \"_net_entropy_im_\" + str(img_idx) + \".jpg\"\n",
    "    export_figure_matplotlib(acc_im_entropy_, f_name, dpi=my_dpi)"
   ]
  },
  {
   "cell_type": "code",
   "execution_count": 23,
   "metadata": {},
   "outputs": [
    {
     "data": {
      "image/png": "[encoded data removed]",
      "text/plain": [
       "<Figure size 648x108 with 2 Axes>"
      ]
     },
     "metadata": {},
     "output_type": "display_data"
    }
   ],
   "source": [
    "# export colorbar\n",
    "a = np.array([[0,1]])\n",
    "plt.figure(figsize=(9, 1.5))\n",
    "img = plt.imshow(a, cmap=\"RdYlGn\")\n",
    "plt.gca().set_visible(False)\n",
    "cax = plt.axes([0.1, 0.1, 0.4, 0.5])\n",
    "cb = plt.colorbar(orientation=\"horizontal\", cax=cax)\n",
    "cb.outline.set_linewidth(0)\n",
    "plt.axis('off')\n",
    "plt.gca().xaxis.set_major_locator(plt.NullLocator())\n",
    "plt.gca().yaxis.set_major_locator(plt.NullLocator())\n",
    "plt.savefig(\"../Figures/Zurich/Im_cert/colorbar.pdf\", bbox_inches='tight', pad_inches=0)"
   ]
  },
  {
   "cell_type": "markdown",
   "metadata": {},
   "source": [
    "## Dropout"
   ]
  },
  {
   "cell_type": "code",
   "execution_count": 24,
   "metadata": {},
   "outputs": [],
   "source": [
    "def predict_with_dropout_imgs(model, dataset, batch_size=300, n_iter=10):\n",
    "    \"\"\"\n",
    "    make all predictions per batch for image data\n",
    "    :param model: model to use for predictions\n",
    "    :param x: image patches\n",
    "    :param imgs: original entire images\n",
    "    :param batch_size: size of prediction batch\n",
    "    :param n_iter: number of predictions to make with dropout\n",
    "    :param ids: ids of images for which to make predictions\n",
    "    :return:\n",
    "    \"\"\"\n",
    "    x = dataset.im_patches\n",
    "    imgs = dataset.imgs\n",
    "    n_steps = int(np.ceil(len(x) / batch_size))\n",
    "    preds_it = []\n",
    "    f = k.function([model.layers[0].input, k.learning_phase()], [model.layers[-1].output])\n",
    "\n",
    "    for _ in tqdm(range(n_iter)):\n",
    "        preds = []\n",
    "        for i in range(n_steps):\n",
    "            idx_start = i * batch_size\n",
    "            idx_end = (i + 1) * batch_size\n",
    "            pred = np.concatenate(f([x[idx_start:idx_end], 1]))\n",
    "            preds.append(pred)\n",
    "\n",
    "        preds = np.concatenate(preds)\n",
    "        preds = remove_overlap(dataset.imgs, preds, dataset.patch_size, dataset.stride)\n",
    "        preds_it.append(preds)\n",
    "\n",
    "    return preds_it\n"
   ]
  },
  {
   "cell_type": "code",
   "execution_count": 25,
   "metadata": {},
   "outputs": [
    {
     "name": "stderr",
     "output_type": "stream",
     "text": [
      "100%|██████████| 10/10 [00:28<00:00,  2.87s/it]\n"
     ]
    }
   ],
   "source": [
    "# get predictions\n",
    "y_preds = predict_with_dropout_imgs(model_unet, data_test_overlap, batch_size=500, n_iter=10)"
   ]
  },
  {
   "cell_type": "code",
   "execution_count": 26,
   "metadata": {},
   "outputs": [],
   "source": [
    "# get prediction and confidence\n",
    "prediction = np.mean(y_preds, 0)\n",
    "probas_dropout = -get_acc_net_entropy(prediction)\n",
    "del y_preds # free memory"
   ]
  },
  {
   "cell_type": "code",
   "execution_count": 27,
   "metadata": {},
   "outputs": [
    {
     "name": "stdout",
     "output_type": "stream",
     "text": [
      "AUROC: 0.59, PR AUC: 0.17\n"
     ]
    }
   ],
   "source": [
    "# dropout metrics\n",
    "y_scores = probas_dropout.flatten()\n",
    "precision_dropout, recall_dropout, _ = metrics.precision_recall_curve(y_true, y_scores)\n",
    "pr_auc_dropout = metrics.average_precision_score(y_true, y_scores)\n",
    "auroc_dropout = metrics.roc_auc_score(y_true, y_scores)\n",
    "fpr_dropout, tpr_dropout, _ = metrics.roc_curve(y_true, y_scores)\n",
    "print(\"AUROC: %.2f, PR AUC: %.2f\" % (auroc_dropout, pr_auc_dropout))"
   ]
  },
  {
   "cell_type": "code",
   "execution_count": 28,
   "metadata": {},
   "outputs": [],
   "source": [
    "# visualization\n",
    "probas_patches_dropout = np.reshape(probas_dropout, np.shape(data_test.gt_patches))\n",
    "probas_patches_dropout -= np.min(probas_patches_dropout)\n",
    "probas_patches_dropout /= np.max(probas_patches_dropout)\n",
    "\n",
    "# show image of DF uncertainty vs. max margin uncertainty\n",
    "acc_im_dropout = convert_patches_to_image(data_test.imgs, -probas_patches_dropout[..., np.newaxis], 64, 64)\n",
    "for img_idx in range(len(data_test.imgs)):\n",
    "    acc_im_dropout_ = exposure.equalize_hist(acc_im_dropout[img_idx])\n",
    "    f_name = base_folder + \"/ZH_wo_cl_\" + str(class_to_remove) + \"_dropout_im_\" + str(img_idx) + \".jpg\"\n",
    "    export_figure_matplotlib(acc_im_dropout_, f_name, dpi=my_dpi)"
   ]
  },
  {
   "cell_type": "markdown",
   "metadata": {},
   "source": [
    "## Retrieve Activations, PCA, t-SNE"
   ]
  },
  {
   "cell_type": "code",
   "execution_count": null,
   "metadata": {
    "scrolled": true
   },
   "outputs": [
    {
     "name": "stderr",
     "output_type": "stream",
     "text": [
      "100%|██████████| 782/782 [00:15<00:00, 51.14it/s]\n"
     ]
    }
   ],
   "source": [
    "# get activations for training Density Forest\n",
    "act_train_all = get_activations_batch(model_unet, -2, data_train_overlap.im_patches, 20, verbose=True)\n",
    "\n",
    "# retain only activation weights for which there is a ground truth\n",
    "act_train_all = remove_overlap(data_train.imgs, act_train_all, patch_size=64, stride=32)\n",
    "act_train = act_train_all[pred_t_tr]"
   ]
  },
  {
   "cell_type": "code",
   "execution_count": null,
   "metadata": {},
   "outputs": [],
   "source": [
    "# get activations\n",
    "act_val_all = get_activations_batch(model_unet, -2, data_val_overlap.im_patches, 20, verbose=True)\n",
    "\n",
    "# retain only activation weights for which there is a ground truth\n",
    "act_val_all = remove_overlap(data_val.imgs, act_val_all, patch_size=64, stride=32)\n",
    "act_val = act_val_all[pred_t_val]"
   ]
  },
  {
   "cell_type": "code",
   "execution_count": null,
   "metadata": {},
   "outputs": [],
   "source": [
    "# get activations for testing Density Forest\n",
    "act_test = get_activations_batch(model_unet, -2, data_test_overlap.im_patches, 20, verbose=True)\n",
    "\n",
    "# remove test activations overlap\n",
    "act_test = remove_overlap(data_test.imgs, act_test, patch_size=64, stride=32)\n",
    "act_test = np.concatenate(np.concatenate(act_test))"
   ]
  },
  {
   "cell_type": "code",
   "execution_count": null,
   "metadata": {},
   "outputs": [],
   "source": [
    "# get balanced data subset to show in figure\n",
    "tsne_pts_per_class = 200\n",
    "dataset_subset_indices = get_balanced_subset_indices(data_test.gt_patches.flatten(), \n",
    "                                                     np.arange(1, 9), pts_per_class=tsne_pts_per_class)\n",
    "dataset_subset_indices = np.concatenate(dataset_subset_indices)"
   ]
  },
  {
   "cell_type": "code",
   "execution_count": null,
   "metadata": {},
   "outputs": [],
   "source": [
    "# t-SNE visualization\n",
    "tsne = TSNE(n_components=2, verbose=1, perplexity=50, n_iter=500)\n",
    "tsne_all = tsne.fit_transform(act_test[dataset_subset_indices])\n",
    "tsne_y = data_test.gt_patches.flatten()[dataset_subset_indices]"
   ]
  },
  {
   "cell_type": "code",
   "execution_count": null,
   "metadata": {},
   "outputs": [],
   "source": [
    "# plot\n",
    "_, ax = plt.subplots(1, 1, figsize=(10, 10))\n",
    "ax.set_axis_off()\n",
    "plot_pts_2d(tsne_all, tsne_y, ax, classes_to_keep, colors, class_to_remove=class_to_remove)\n",
    "plt.savefig(\"../Figures/Zurich/tSNE/t-SNE_wo_cl\" + str(class_to_remove) + \"_before_PCA.pdf\",\n",
    "            bbox_inches='tight', pad_inches=0)"
   ]
  },
  {
   "cell_type": "code",
   "execution_count": null,
   "metadata": {
    "scrolled": true
   },
   "outputs": [],
   "source": [
    "# create density tree for activation weights of training data\n",
    "# PCA\n",
    "pca = decomposition.PCA(n_components=.95)\n",
    "pca.fit(act_test)  # fit on training set without background pixels\n",
    "n_components = np.alen(pca.explained_variance_ratio_)\n",
    "print(\"Variance explained by first %i components: %.2f\" % (\n",
    "    n_components, sum(pca.explained_variance_ratio_)))\n",
    "\n",
    "# transform training activations\n",
    "act_train_all = pca.transform(np.concatenate(np.concatenate(act_train_all)))\n",
    "act_train = pca.transform(act_train)\n",
    "\n",
    "act_val_all = pca.transform(np.concatenate(np.concatenate(act_val_all)))\n",
    "act_val = pca.transform(act_val)\n",
    "\n",
    "\n",
    "# transform test set activations\n",
    "act_test = pca.transform(act_test)"
   ]
  },
  {
   "cell_type": "code",
   "execution_count": null,
   "metadata": {},
   "outputs": [],
   "source": [
    "# Plot cumulative explained variance\n",
    "fig = plt.figure()\n",
    "plt.scatter(np.arange(n_components), np.cumsum(pca.explained_variance_ratio_))\n",
    "plt.xlabel(\"Number of components\")\n",
    "plt.ylabel(\"Cumulative sum of explained variance\")\n",
    "plt.grid(alpha=.3)\n",
    "fig.axes[0].spines['right'].set_visible(False)\n",
    "fig.axes[0].spines['top'].set_visible(False)\n",
    "plt.savefig(\"../Figures/Zurich/PCA/ZH_pca_components_wo_cl_\" + str(class_to_remove) + \".pdf\",\n",
    "            bbox_inches='tight', pad_inches=0)"
   ]
  },
  {
   "cell_type": "code",
   "execution_count": null,
   "metadata": {},
   "outputs": [],
   "source": [
    "# t-SNE visualization after PCA\n",
    "tsne_all = tsne.fit_transform(act_test[dataset_subset_indices])\n",
    "# tsne without unseen class\n",
    "tsne_train = tsne_all[tsne_y != class_to_remove]"
   ]
  },
  {
   "cell_type": "code",
   "execution_count": null,
   "metadata": {},
   "outputs": [],
   "source": [
    "# plot\n",
    "_, ax = plt.subplots(1, 1, figsize=(10, 10))\n",
    "plot_pts_2d(tsne_all, tsne_y, ax, classes_to_keep, colors, class_to_remove=class_to_remove)\n",
    "ax.set_axis_off()\n",
    "plt.savefig(\"../Figures/Zurich/tSNE/t-SNE_wo_cl\" + str(class_to_remove) + \"_after_PCA.pdf\",\n",
    "            bbox_inches='tight', pad_inches=0)"
   ]
  },
  {
   "cell_type": "code",
   "execution_count": null,
   "metadata": {},
   "outputs": [],
   "source": [
    "# plot first 3 PCA components\n",
    "plot_pts_3d(act_test[:, :3], data_test.gt_patches.flatten(), classes_to_keep, colors,\n",
    "            class_to_remove=class_to_remove, subsample_pct=.0003,\n",
    "            s_name='../Figures/Zurich/PCA/pca_components_3d_' + str(names[class_to_remove]) + '.pdf')\n",
    "\n",
    "print(\"Variance explained by first 3 components: %.2f\" % np.sum(pca.explained_variance_ratio_[:3]))"
   ]
  },
  {
   "cell_type": "code",
   "execution_count": null,
   "metadata": {},
   "outputs": [],
   "source": [
    "# plot first 2 PCA components\n",
    "_, ax = plt.subplots(1, 1, figsize=(8, 8))\n",
    "ax.set_axis_off()\n",
    "plot_pts_2d(act_test[:, :2], data_test.gt_patches.flatten(), ax, classes_to_keep, colors,\n",
    "            class_to_remove=class_to_remove, subsample_pct=.0005,\n",
    "            s_name='../Figures/Zurich/PCA/pca_components_2d_' + str(names[class_to_remove]) + '.pdf')\n",
    "print(\"Variance explained by first 2 components: %.2f\" % np.sum(pca.explained_variance_ratio_[:2]))"
   ]
  },
  {
   "cell_type": "markdown",
   "metadata": {},
   "source": [
    "## GMM"
   ]
  },
  {
   "cell_type": "code",
   "execution_count": null,
   "metadata": {},
   "outputs": [],
   "source": [
    "best_degrees = [3, 5, 4, 3, 9, 5, 9, 3]\n",
    "\n",
    "if paramsearch:\n",
    "    tuned_parameters = [{'n_components': np.arange(3, 10), 'max_iter': [10000]}]\n",
    "    # do parameter search\n",
    "    ps_gmm = ParameterSearch(GaussianMixture, tuned_parameters, act_train, act_train_all,\n",
    "                             pred_f_tr.flatten(), scorer_roc_probas_gmm, \n",
    "                             n_iter=3, verbosity=10, n_jobs=-1, subsample_train=.01, subsample_test=.01)\n",
    "    ps_gmm.fit()\n",
    "    best_params_gmm = ps_gmm.best_params\n",
    "else:\n",
    "    best_params_gmm = {'n_components': df_ps.loc[str(names[class_to_remove])]['gmm_n_components'], 'max_iter': 10000}\n",
    "print(best_params_gmm)"
   ]
  },
  {
   "cell_type": "code",
   "execution_count": null,
   "metadata": {},
   "outputs": [],
   "source": [
    "# Fit GMM\n",
    "gmm = GaussianMixture(**best_params_gmm)\n",
    "gmm.fit(draw_subsamples(act_train, .1))\n",
    "\n",
    "# Predict\n",
    "probas_gmm = gmm.predict_proba(act_test)\n",
    "probas_gmm = get_acc_net_entropy(probas_gmm)"
   ]
  },
  {
   "cell_type": "code",
   "execution_count": null,
   "metadata": {},
   "outputs": [],
   "source": [
    "# precision-recall curve\n",
    "y_scores = -probas_gmm\n",
    "precision_gmm, recall_gmm, _ = metrics.precision_recall_curve(y_true, y_scores)\n",
    "pr_auc_gmm = metrics.auc(recall_gmm, precision_gmm)\n",
    "\n",
    "# ROC\n",
    "fpr_gmm, tpr_gmm, _ = metrics.roc_curve(y_true, y_scores)\n",
    "auroc_gmm = metrics.roc_auc_score(y_true, y_scores)\n",
    "plt.step(recall_gmm, precision_gmm)\n",
    "print(\"AUROC: %.2f, PR AUC: %.2f\" % (auroc_gmm, pr_auc_gmm))"
   ]
  },
  {
   "cell_type": "code",
   "execution_count": null,
   "metadata": {},
   "outputs": [],
   "source": [
    "def equalize_exp(im, n_iter):\n",
    "    \"\"\"ad-hoc contrast enhancement for GMM\"\"\"\n",
    "    for _ in range(n_iter):\n",
    "        im = np.exp(im)\n",
    "        im = exposure.equalize_hist(im)\n",
    "    return im"
   ]
  },
  {
   "cell_type": "code",
   "execution_count": null,
   "metadata": {},
   "outputs": [],
   "source": [
    "# visualization\n",
    "probas_patches_gmm = np.reshape(probas_gmm, np.shape(data_test.gt_patches))\n",
    "probas_patches_gmm -= np.min(probas_patches_gmm)\n",
    "probas_patches_gmm /= np.max(probas_patches_gmm)\n",
    "\n",
    "# show image of DF uncertainty vs. max margin uncertainty\n",
    "acc_im_gmm = convert_patches_to_image(data_test.imgs, probas_patches_gmm[..., np.newaxis], 64, 64)\n",
    "for img_idx in range(len(data_test.imgs)):\n",
    "    acc_im_gmm_ = acc_im_gmm[img_idx]\n",
    "    acc_im_gmm_ = equalize_exp(acc_im_gmm_, 10)\n",
    "    f_name = base_folder + \"/ZH_wo_cl_\" + str(class_to_remove) + \"_gmm_im_\" + str(img_idx) + \".jpg\"\n",
    "    export_figure_matplotlib(acc_im_gmm_, f_name, dpi=my_dpi)"
   ]
  },
  {
   "cell_type": "markdown",
   "metadata": {},
   "source": [
    "\n",
    "# SVM"
   ]
  },
  {
   "cell_type": "code",
   "execution_count": null,
   "metadata": {},
   "outputs": [],
   "source": [
    "act_train_svm = preprocessing.scale(act_train)\n",
    "act_train_all_svm = preprocessing.scale(act_train_all)\n",
    "act_val_all_svm = preprocessing.scale(act_val_all)\n",
    "act_test_svm = preprocessing.scale(act_test)"
   ]
  },
  {
   "cell_type": "code",
   "execution_count": null,
   "metadata": {},
   "outputs": [],
   "source": [
    "# parameter search\n",
    "\n",
    "if paramsearch:\n",
    "    tuned_parameters = [{'kernel': ['rbf'],\n",
    "                         'nu': [1e-4, 1e-3, 1e-2, 1e-1, 5e-1],\n",
    "                         'degree':[1]\n",
    "                         },\n",
    "                        {'kernel': ['poly'],\n",
    "                         'degree': np.arange(1, 4),\n",
    "                         'nu': [1e-4, 1e-3, 1e-2, 1e-1, 5e-1],\n",
    "                         'max_iter': [10000]}]\n",
    "\n",
    "    # do parameter search\n",
    "    ps_svm = ParameterSearch(svm.OneClassSVM, tuned_parameters, act_train_svm, act_train_all,\n",
    "                             pred_f_tr.flatten(), scorer_roc_probas_svm, n_iter=5,\n",
    "                             verbosity=11, n_jobs=-1, subsample_train=.0001, subsample_test=.001)\n",
    "    ps_svm.fit()\n",
    "    best_params_svm = ps_svm.best_params\n",
    "else:\n",
    "    best_params_svm = {'kernel': df_ps.loc[str(names[class_to_remove])]['oc-svm_k'], \n",
    "                       'degree': df_ps.loc[str(names[class_to_remove])]['oc-svm_deg'], \n",
    "                       'nu': df_ps.loc[str(names[class_to_remove])]['oc_svm_nu'],\n",
    "                       'max_iter':10000}\n",
    "    \n",
    "print(best_params_svm)"
   ]
  },
  {
   "cell_type": "code",
   "execution_count": null,
   "metadata": {},
   "outputs": [],
   "source": [
    "# Fit SVM\n",
    "clf_svm = svm.OneClassSVM(**best_params_svm)\n",
    "clf_svm.fit(draw_subsamples(act_train_svm, .001))"
   ]
  },
  {
   "cell_type": "code",
   "execution_count": null,
   "metadata": {},
   "outputs": [],
   "source": [
    "# predict\n",
    "probas_svm = clf_svm.decision_function(act_test_svm[dataset_subset_indices])\n",
    "probas_svm -= np.min(probas_svm)\n",
    "probas_svm /= np.max(probas_svm)"
   ]
  },
  {
   "cell_type": "code",
   "execution_count": null,
   "metadata": {},
   "outputs": [],
   "source": [
    "probas_svm = clf_svm.decision_function(act_test_svm)\n",
    "probas_svm -= np.min(probas_svm)\n",
    "probas_svm /= np.max(probas_svm)"
   ]
  },
  {
   "cell_type": "code",
   "execution_count": null,
   "metadata": {
    "scrolled": true
   },
   "outputs": [],
   "source": [
    "# metrics\n",
    "\n",
    "y_scores = -probas_svm[:]\n",
    "# PR\n",
    "precision_svm, recall_svm, _ = metrics.precision_recall_curve(y_true, y_scores)\n",
    "pr_auc_svm = metrics.auc(recall_svm, precision_svm)\n",
    "\n",
    "# ROC\n",
    "fpr_svm, tpr_svm, _ = metrics.roc_curve(y_true, y_scores)\n",
    "auroc_svm = metrics.roc_auc_score(y_true, y_scores)\n",
    "\n",
    "print(\"AUROC: %.2f, PR AUC: %.2f\" % (auroc_svm, pr_auc_svm))"
   ]
  },
  {
   "cell_type": "code",
   "execution_count": null,
   "metadata": {},
   "outputs": [],
   "source": [
    "# visualization\n",
    "probas_patches_svm = np.reshape(probas_svm, np.shape(data_test.gt_patches))\n",
    "\n",
    "# show image of DF uncertainty vs. max margin uncertainty\n",
    "acc_im_svm = convert_patches_to_image(data_test.imgs, probas_patches_svm[..., np.newaxis], 64, 64)\n",
    "for img_idx in range(len(data_test.imgs)):\n",
    "    acc_im_svm_ = exposure.equalize_hist(acc_im_svm[img_idx])\n",
    "    f_name = base_folder + \"/ZH_wo_cl_\" + str(class_to_remove) + \"_svm_im_\" + str(img_idx) + \".jpg\"\n",
    "    export_figure_matplotlib(acc_im_svm_, f_name, dpi=my_dpi)"
   ]
  },
  {
   "cell_type": "markdown",
   "metadata": {},
   "source": [
    "#### Visualize Kernels"
   ]
  },
  {
   "cell_type": "code",
   "execution_count": null,
   "metadata": {},
   "outputs": [],
   "source": [
    "subset_ind = get_balanced_subset_indices(data_train.gt_patches.flatten(), classes_to_keep, pts_per_class=150)\n",
    "\n",
    "subsample = act_train_all_svm[np.concatenate(subset_ind)]"
   ]
  },
  {
   "cell_type": "code",
   "execution_count": null,
   "metadata": {},
   "outputs": [],
   "source": [
    "# RBF\n",
    "K = RBF()\n",
    "K_X = K.__call__(subsample)\n",
    "K_X = exposure.equalize_hist(K_X)\n",
    "f_name = \"../Figures/Zurich/Kernels/Kernel_RBF_wo_cl_\" + str(class_to_remove) + \".jpg\" \n",
    "export_figure_matplotlib(K_X, f_name, dpi=my_dpi)\n",
    "\n",
    "# polynomial\n",
    "for deg in [1, 2, 3]:\n",
    "    K_X = metrics.pairwise.polynomial_kernel(subsample, degree=deg)\n",
    "    # contrast stretching\n",
    "    p2, p98 = np.percentile(K_X, (2, 98))\n",
    "    K_X = exposure.rescale_intensity(K_X, in_range=(p2, p98))\n",
    "\n",
    "    f_name = \"../Figures/Zurich/Kernels/Kernel_poly_wo_cl_\" + str(class_to_remove) + \"_deg_\" + str(deg) + \".jpg\"\n",
    "    export_figure_matplotlib(K_X, f_name, dpi=my_dpi)"
   ]
  },
  {
   "cell_type": "markdown",
   "metadata": {},
   "source": [
    "## Density Forest"
   ]
  },
  {
   "cell_type": "code",
   "execution_count": null,
   "metadata": {},
   "outputs": [],
   "source": [
    "# Create DensityForest instance\n",
    "clf_df = DensityForest(max_depth=2, min_subset=.1, n_trees=100,\n",
    "                       subsample_pct=.1, n_jobs=-1, verbose=10,\n",
    "                       ig_improvement=.4)"
   ]
  },
  {
   "cell_type": "code",
   "execution_count": null,
   "metadata": {},
   "outputs": [],
   "source": [
    "# fit to training data\n",
    "clf_df.fit(tsne_train)"
   ]
  },
  {
   "cell_type": "code",
   "execution_count": null,
   "metadata": {},
   "outputs": [],
   "source": [
    "# Show ellipses on plot\n",
    "_, axes = plt.subplots(2, 2, figsize=(15, 15)) \n",
    "for i in range(4):\n",
    "    plot_pts_2d(tsne_all, tsne_y, axes[int(i/2)][np.mod(i, 2)], classes_to_keep, \n",
    "                colors, class_to_remove=class_to_remove)\n",
    "    axes[int(i/2)][np.mod(i, 2)].set_axis_off()\n",
    "    covs, means = get_clusters(clf_df.root_nodes[i], [], [])\n",
    "    plot_ellipses(axes[int(i / 2)][np.mod(i, 2)], means, covs)"
   ]
  },
  {
   "cell_type": "code",
   "execution_count": null,
   "metadata": {},
   "outputs": [],
   "source": [
    "# export some ellipses for GIF\n",
    "\n",
    "for i in range(10):\n",
    "    _, ax = plt.subplots(1, 1, figsize=(8, 8)) \n",
    "    plt.xlim([-50, 50])\n",
    "    plt.ylim([-50, 50])\n",
    "    plot_pts_2d(tsne_all, tsne_y, ax, classes_to_keep, colors, \n",
    "                class_to_remove=class_to_remove, names=names)\n",
    "    covs, means = get_clusters(clf_df.root_nodes[i], [], [])\n",
    "    plot_ellipses(ax, means, covs)\n",
    "    plt.axis('off')\n",
    "    plt.savefig(\"../Figures/Zurich/GIF/TSNE_act_wo_cl\" + str(class_to_remove) + \"_\"+str(i)+\".pdf\", \n",
    "                bbox_inches='tight', pad_inches=0)\n",
    "    plt.close()"
   ]
  },
  {
   "cell_type": "code",
   "execution_count": null,
   "metadata": {},
   "outputs": [],
   "source": [
    "# plot\n",
    "\n",
    "# get probabilities for all images\n",
    "probas_df = np.log(clf_df.predict(tsne_all))\n",
    "\n",
    "# indices of correctly / wrongly predicted points\n",
    "pred_f = pred_f_te.flatten()[dataset_subset_indices]\n",
    "pred_t = pred_t_te.flatten()[dataset_subset_indices]\n",
    "\n",
    "# plot colors\n",
    "probas_df_c = imgs_stretch_eq(probas_df[np.newaxis, ..., np.newaxis])[0, ..., 0]\n",
    "colors_plt = plt.cm.YlOrRd(1 - probas_df_c)[..., :3]\n",
    "\n",
    "# threshold for second plot\n",
    "c_thresh_t = plt.cm.GnBu((probas_df < np.sort(probas_df)[tsne_pts_per_class])*255)[:, :3]\n",
    "\n",
    "c_thresh_f = plt.cm.GnBu((probas_df > np.sort(probas_df)[tsne_pts_per_class])*255)[:, :3]\n",
    "\n",
    "# plot correctly predicted points (o marker)\n",
    "fig, axes = plt.subplots(1, 2, figsize=(20, 10)) \n",
    "axes[0].scatter(tsne_all[:, 0][pred_t], tsne_all[:, 1][pred_t], c=colors_plt[pred_t])\n",
    "axes[1].scatter(tsne_all[:, 0][pred_t], tsne_all[:, 1][pred_t], c=c_thresh_t[pred_t])\n",
    "\n",
    "# plot incorrectly predicted points (x marker)\n",
    "axes[0].scatter(tsne_all[:, 0][pred_f], tsne_all[:, 1][pred_f], c=colors_plt[pred_f], marker='x')\n",
    "axes[1].scatter(tsne_all[:, 0][pred_f], tsne_all[:, 1][pred_f], c=c_thresh_f[pred_f], marker='x')\n",
    "[axes[i].legend(['Seen points', 'Novel points']) for i in range(2)]\n",
    "[axes[i].set_axis_off() for i in range(2)]\n",
    "extent = axes[0].get_window_extent().transformed(fig.dpi_scale_trans.inverted())\n",
    "plt.savefig(\"../Figures/Zurich/GIF/probas.pdf\", bbox_inches=extent, pad_inches=0)"
   ]
  },
  {
   "cell_type": "markdown",
   "metadata": {},
   "source": [
    "### Fit on real data"
   ]
  },
  {
   "cell_type": "code",
   "execution_count": null,
   "metadata": {},
   "outputs": [],
   "source": [
    "# parameter search\n",
    "default_params = {'n_trees': 5, 'n_max_dim': 0, 'n_jobs': -1, \n",
    "                  'verbose': 0, 'subsample_pct': .0002, 'min_subset': 0}\n",
    "\n",
    "if paramsearch:\n",
    "    \"\"\"search for best hyperparameters\"\"\"\n",
    "    tuned_params = [{'max_depth': [1, 2, 3],\n",
    "                     'ig_improvement': [-np.infty, 0, .4, .7]\n",
    "                    }]\n",
    "\n",
    "    # do parameter search\n",
    "    ps_df = ParameterSearch(DensityForest, tuned_params, act_train, act_train_all,\n",
    "                            pred_f_tr.flatten(), scorer_roc_probas_df,\n",
    "                            n_iter=3, verbosity=11, n_jobs=1, subsample_train=1, \n",
    "                            subsample_test=.001, default_params=default_params)\n",
    "\n",
    "    print(\"Testing %i combinations %i times\" % (len(ps_df.combinations), ps_df.n_iter))\n",
    "    print(ps_df.combinations)\n",
    "    ps_df.fit()\n",
    "    print(ps_df.best_params)\n",
    "    \n",
    "    # Create DensityForest instance\n",
    "    best_params_df = ps_df.best_params\n",
    "    \n",
    "else:\n",
    "    \"\"\"use previously found hyperparameters\"\"\"\n",
    "    best_params_df = {'max_depth': df_ps.loc[str(names[class_to_remove])]['df_depth'],\n",
    "                      'ig_improvement': df_ps.loc[str(names[class_to_remove])]['df_min_ig']}\n",
    "    \n",
    "    \n",
    "print(best_params_df)\n",
    "default_params['verbose'] = 1\n",
    "default_params['batch_size'] = 10000"
   ]
  },
  {
   "cell_type": "code",
   "execution_count": null,
   "metadata": {},
   "outputs": [],
   "source": [
    "# fit DF with best found parameters\n",
    "clf_df = DensityForest(**best_params_df, **default_params)\n",
    "clf_df.fit(act_train)\n",
    "\n",
    "# get probabilities for all images\n",
    "probas_df = clf_df.predict(act_test)"
   ]
  },
  {
   "cell_type": "markdown",
   "metadata": {},
   "source": [
    "### Post-Treatment"
   ]
  },
  {
   "cell_type": "code",
   "execution_count": null,
   "metadata": {},
   "outputs": [],
   "source": [
    "# reshape probas to (n_patches, patch_size, patch_size)\n",
    "probas_patches_df = np.reshape(probas_df, np.shape(data_test.gt_patches))\n",
    "\n",
    "# transformations\n",
    "probas_patches_df -= np.nanmin(probas_patches_df)\n",
    "probas_patches_df /= np.nanmax(probas_patches_df)"
   ]
  },
  {
   "cell_type": "markdown",
   "metadata": {},
   "source": [
    "### Metrics"
   ]
  },
  {
   "cell_type": "code",
   "execution_count": null,
   "metadata": {
    "scrolled": true
   },
   "outputs": [],
   "source": [
    "# metrics\n",
    "y_scores = -probas_df\n",
    "\n",
    "# PR\n",
    "precision_df, recall_df, _ = metrics.precision_recall_curve(y_true, y_scores)\n",
    "pr_auc_df = metrics.auc(recall_df, precision_df)\n",
    "\n",
    "# ROC\n",
    "fpr_df, tpr_df, _ = metrics.roc_curve(y_true, y_scores)\n",
    "auroc_df = metrics.roc_auc_score(y_true, y_scores)\n",
    "\n",
    "print(\"AUROC: %.2f, PR AUC: %.2f\" % (auroc_df, pr_auc_df))"
   ]
  },
  {
   "cell_type": "code",
   "execution_count": null,
   "metadata": {},
   "outputs": [],
   "source": [
    "# visualization\n",
    "probas_patches_df = np.reshape(probas_df, np.shape(data_test.gt_patches))\n",
    "probas_patches_df -= np.min(probas_patches_df)\n",
    "probas_patches_df /= np.max(probas_patches_df)\n",
    "\n",
    "# show image of DF uncertainty vs. max margin uncertainty\n",
    "acc_im_df = convert_patches_to_image(data_test.imgs, probas_patches_df[..., np.newaxis], 64, 64)\n",
    "for img_idx in range(len(data_test.imgs)):\n",
    "    #acc_im_df_ = exposure.equalize_hist(acc_im_df[img_idx])\n",
    "    # TODO try log for contrast enhancement\n",
    "    acc_im_df_= exposure.equalize_hist(np.log(acc_im_df[img_idx]+1e-10))\n",
    "    f_name = base_folder + \"/ZH_wo_cl_\" + str(class_to_remove) + \"_df_im_\" + str(img_idx) + \".jpg\"\n",
    "    export_figure_matplotlib(acc_im_df_, f_name, dpi=my_dpi)"
   ]
  },
  {
   "cell_type": "markdown",
   "metadata": {},
   "source": [
    "## Plot Results"
   ]
  },
  {
   "cell_type": "code",
   "execution_count": null,
   "metadata": {},
   "outputs": [],
   "source": [
    "# Precision-Recall Curve\n",
    "# order according to increasing score\n",
    "scores_pr = [pr_auc_msr, pr_auc_margin, pr_auc_entropy, pr_auc_dropout, pr_auc_gmm, pr_auc_svm, pr_auc_df]\n",
    "\n",
    "recalls = [recall_msr, recall_margin, recall_entropy, recall_dropout, recall_gmm, recall_svm, recall_df]\n",
    "precisions = [precision_msr, precision_margin, precision_entropy, precision_dropout, \n",
    "              precision_gmm, precision_svm, precision_df]\n",
    "\n",
    "names_methods = np.array(['MSR', 'Margin', 'Entropy', 'Dropout', 'GMM', 'OC SVM', 'DF'])\n",
    "scores_order = np.argsort(scores_pr)\n",
    "colors_lines = plt.cm.rainbow(np.linspace(0, 1, len(scores_pr)))[:, :3]\n",
    "\n",
    "# plot\n",
    "fig = plt.figure(figsize=(6, 6))\n",
    "for i in scores_order:\n",
    "    plt.step(recalls[i], precisions[i], where='post', c=colors_lines[i])\n",
    "\n",
    "plt.xlabel('Recall')\n",
    "plt.ylabel('Precision')\n",
    "plt.ylim([0.0, 1.05])\n",
    "plt.xlim([0.0, 1.0])\n",
    "plt.grid(alpha=.3)\n",
    "fig.axes[0].spines['right'].set_visible(False)\n",
    "fig.axes[0].spines['top'].set_visible(False)\n",
    "plt.legend([str.format('%s: %.2f') % (names_methods[i], scores_pr[i]) for i in scores_order], title=\"PR AUC\")\n",
    "plt.savefig(\"../Figures/Zurich/Metrics/PR_pred_wo_cl_\" + str(class_to_remove) + \".pdf\", \n",
    "            bbox_inches='tight', pad_inches=0)"
   ]
  },
  {
   "cell_type": "code",
   "execution_count": null,
   "metadata": {},
   "outputs": [],
   "source": [
    "# ROC\n",
    "# order according to increasing score\n",
    "scores_auc = [auroc_msr, auroc_margin, auroc_entropy, auroc_dropout, auroc_gmm, auroc_svm, auroc_df]\n",
    "fprs = [fpr_msr, fpr_margin, fpr_entropy, fpr_dropout, fpr_gmm, fpr_svm, fpr_df]\n",
    "tprs = [tpr_msr, tpr_margin, tpr_entropy, tpr_dropout, tpr_gmm, tpr_svm, tpr_df]\n",
    "scores_order = np.argsort(scores_auc)\n",
    "colors_lines = plt.cm.rainbow(np.linspace(0, 1, len(scores_auc)))[:, :3]\n",
    "\n",
    "# plot\n",
    "fig = plt.figure(figsize=(6, 6))\n",
    "for i in scores_order:\n",
    "    plt.plot(fprs[i], tprs[i], c=colors_lines[i])\n",
    "\n",
    "plt.plot([0, 1], [0, 1], '--', c='gray')\n",
    "plt.xlabel('False Positive Rate')\n",
    "plt.ylabel('True Positive Rate')\n",
    "plt.ylim([0.0, 1.05])\n",
    "plt.xlim([0.0, 1.0])\n",
    "plt.grid(alpha=.3)\n",
    "fig.axes[0].spines['right'].set_visible(False)\n",
    "fig.axes[0].spines['top'].set_visible(False)\n",
    "plt.legend([str.format('%s: %.2f') % (names_methods[i], scores_auc[i]) for i in scores_order], title=\"AUROC\")\n",
    "plt.savefig(\"../Figures/Zurich/Metrics/ROC_pred_wo_cl_\" + str(class_to_remove) + \".pdf\", \n",
    "            bbox_inches='tight', pad_inches=0)"
   ]
  },
  {
   "cell_type": "code",
   "execution_count": null,
   "metadata": {},
   "outputs": [],
   "source": [
    "# write best hyperparameters to CSV file\n",
    "best_params = {'gmm_n_components': best_params_gmm['n_components'], \n",
    "               'oc-svm_k': best_params_svm['kernel'], \n",
    "               'oc-svm_deg': best_params_svm['degree'], \n",
    "               'oc_svm_nu': best_params_svm['nu'], \n",
    "               'df_depth': best_params_df['max_depth'], \n",
    "               'df_min_ig': best_params_df['ig_improvement']}"
   ]
  },
  {
   "cell_type": "code",
   "execution_count": null,
   "metadata": {},
   "outputs": [],
   "source": [
    "# write results to CSV files\n",
    "# hyperparameters\n",
    "df_ps = pd.read_csv('models_out/hyperparams.csv', index_col=0)\n",
    "df2 = pd.DataFrame(best_params, index=[str(names[class_to_remove])])\n",
    "df_ps = df_ps.append(df2)\n",
    "df_ps = df_ps[~df_ps.index.duplicated(keep='last')]  # avoid duplicates\n",
    "df_ps.to_csv('models_out/hyperparams.csv')\n",
    "\n",
    "# AUROC\n",
    "df_auroc = pd.read_csv('models_out/auroc_all.csv', index_col=0)\n",
    "df2 = pd.DataFrame({str(names[class_to_remove]): scores_auc}, index = names_methods).T\n",
    "df_auroc = df_auroc.append(df2)\n",
    "df_auroc = df_auroc[~df_auroc.index.duplicated(keep='last')]  # avoid duplicates\n",
    "df_auroc.to_csv('models_out/auroc_all.csv')\n",
    "\n",
    "\n",
    "# PR AUC\n",
    "df_aucpr = pd.read_csv('models_out/aucpr_all.csv', index_col=0)\n",
    "df2 = pd.DataFrame({str(names[class_to_remove]): scores_pr}, index = names_methods).T\n",
    "df_aucpr = df_aucpr.append(df2)\n",
    "df_aucpr = df_aucpr[~df_aucpr.index.duplicated(keep='last')]  # avoid duplicates\n",
    "df_aucpr.to_csv('models_out/aucpr_all.csv')"
   ]
  },
  {
   "cell_type": "code",
   "execution_count": null,
   "metadata": {},
   "outputs": [],
   "source": [
    "# load auroc df with previously saved results\n",
    "df_auroc = pd.read_csv('models_out/auroc_all.csv', index_col=0)"
   ]
  },
  {
   "cell_type": "code",
   "execution_count": null,
   "metadata": {},
   "outputs": [],
   "source": [
    "# reorder by class names\n",
    "df_auroc = df_auroc.reindex(names[1:])\n",
    "df_auroc.to_csv('models_out/auroc_all.csv')"
   ]
  },
  {
   "cell_type": "code",
   "execution_count": null,
   "metadata": {},
   "outputs": [],
   "source": [
    "# show latex table of AUROC metrics for all methods\n",
    "print(df_auroc.round(2).to_latex())"
   ]
  },
  {
   "cell_type": "code",
   "execution_count": null,
   "metadata": {},
   "outputs": [],
   "source": [
    "# show best method for each left-out class\n",
    "df_auroc.T.idxmax()"
   ]
  },
  {
   "cell_type": "code",
   "execution_count": null,
   "metadata": {
    "scrolled": false
   },
   "outputs": [],
   "source": [
    "# show mean aourc for each method\n",
    "df_auroc.mean().round(2)"
   ]
  },
  {
   "cell_type": "code",
   "execution_count": null,
   "metadata": {},
   "outputs": [],
   "source": [
    "df_ps"
   ]
  },
  {
   "cell_type": "code",
   "execution_count": null,
   "metadata": {},
   "outputs": [],
   "source": [
    "# show mean aourc for each method\n",
    "print(df_ps.to_latex())"
   ]
  },
  {
   "cell_type": "markdown",
   "metadata": {},
   "source": [
    "# Interesting Objects"
   ]
  },
  {
   "cell_type": "code",
   "execution_count": null,
   "metadata": {},
   "outputs": [],
   "source": [
    "import matplotlib.patches as patches"
   ]
  },
  {
   "cell_type": "code",
   "execution_count": null,
   "metadata": {},
   "outputs": [],
   "source": [
    "my_dpi = 255"
   ]
  },
  {
   "cell_type": "code",
   "execution_count": null,
   "metadata": {},
   "outputs": [],
   "source": [
    "def export_figure_matplotlib(arr, f_name=None, dpi=255, resize_fact=1, plt_show=False, rect=None):\n",
    "    \"\"\"\n",
    "    Export array as figure in original resolution\n",
    "    :param arr: array of image to save in original resolution\n",
    "    :param f_name: name of file where to save figure\n",
    "    :param resize_fact: resize facter wrt shape of arr, in (0, np.infty)\n",
    "    :param dpi: dpi of your screen\n",
    "    :param plt_show: show plot or not\n",
    "    :param rect: rectangle to overlay over image\n",
    "    \"\"\"\n",
    "    # plot\n",
    "    fig = plt.figure(frameon=False)\n",
    "    fig.set_size_inches(arr.shape[1] / dpi, arr.shape[0] / dpi)\n",
    "    ax = plt.Axes(fig, [0., 0., 1., 1.])\n",
    "    ax.set_axis_off()\n",
    "    fig.add_axes(ax)\n",
    "    ax.imshow(arr, cmap='RdYlGn')\n",
    "\n",
    "    # add rectangle overlay\n",
    "    if rect is not None:\n",
    "        ax.add_patch(rect)\n",
    "\n",
    "    # save figure\n",
    "    if f_name is not None:\n",
    "        plt.savefig(f_name, dpi=(dpi * resize_fact))\n",
    "\n",
    "    if plt_show:\n",
    "        plt.show()\n",
    "    else:\n",
    "        plt.close()\n",
    "    return fig"
   ]
  },
  {
   "cell_type": "code",
   "execution_count": null,
   "metadata": {},
   "outputs": [],
   "source": [
    "def export_particularity(dataset, img_idx, x, y, width, height, confs_patches=None, names=None, dir_out=None, idx=0):\n",
    "    \"\"\"\n",
    "    export detail view of interesting image: image with blue rectangle, cropped region, cropped GT, cropped conf images\n",
    "    \"\"\"\n",
    "    # Image\n",
    "    class_to_remove = dataset.class_to_remove\n",
    "    im = dataset.imgs[img_idx][..., :3]\n",
    "    max_x = np.mod(im.shape[0], 32)\n",
    "    max_y = np.mod(im.shape[1], 32)\n",
    "    im = im[:-max_x, :-max_y]\n",
    "    rect = patches.Rectangle((x, y), width, height, linewidth=2, edgecolor='b', facecolor='b', alpha=.5)\n",
    "    f_name = dir_out+ 'im_' + str(img_idx) + '_obj_' + str(idx) + '_im.jpg'\n",
    "    fig = export_figure_matplotlib(im, dpi=my_dpi, rect=rect, f_name=f_name)\n",
    "    plt.close()\n",
    "    \n",
    "    # Cropped Image\n",
    "    im_crop = im[y:(y + height), x:(x + width)]\n",
    "    f_name = dir_out+ 'im_' + str(img_idx) + '_obj_' + str(idx) + '_im_crop.jpg'\n",
    "    fig = export_figure_matplotlib(im_crop, dpi=my_dpi, f_name=f_name)\n",
    "    plt.close()\n",
    "    \n",
    "    # GT\n",
    "    rect = patches.Rectangle((x, y), width, height, linewidth=3, edgecolor='b', facecolor='None')\n",
    "    im_gt = gt_label_to_color(dataset.gt[img_idx], colors)*255\n",
    "    max_x = np.mod(im_gt.shape[0], 32)\n",
    "    max_y = np.mod(im_gt.shape[1], 32)\n",
    "    im_gt = im_gt[:-max_x, :-max_y]\n",
    "    f_name = dir_out+ 'im_' + str(img_idx) + '_obj_' + str(idx) + '_gt.jpg'\n",
    "    fig = export_figure_matplotlib(im_gt, dpi=my_dpi, rect=rect, f_name=f_name)\n",
    "    plt.close()\n",
    "\n",
    "    if confs_patches is not None:\n",
    "        for idx_conf,conf_patches in enumerate(confs_patches):\n",
    "            conf_im = convert_patches_to_image(dataset.imgs, conf_patches[..., np.newaxis], 64, 64)\n",
    "            conf_im = exposure.equalize_hist(conf_im[img_idx])\n",
    "            rect = patches.Rectangle((x, y), width, height, linewidth=2, edgecolor='b', facecolor='None')\n",
    "            f_name = dir_out+ 'im_' + str(img_idx) + '_obj_' + str(idx) + '_' + names[idx_conf] + '_wo_cl_'+ str(class_to_remove) + '.jpg'\n",
    "            export_figure_matplotlib(conf_im, dpi=my_dpi, rect=rect, f_name=f_name)\n",
    "            plt.close()"
   ]
  },
  {
   "cell_type": "code",
   "execution_count": null,
   "metadata": {},
   "outputs": [],
   "source": [
    "names_confs_patches = ['msr', 'df']\n",
    "confs_patches = [probas_patches_msr, probas_patches_df]"
   ]
  },
  {
   "cell_type": "code",
   "execution_count": null,
   "metadata": {},
   "outputs": [],
   "source": [
    "dir_out = '../Figures/Zurich/Detail/im1/'\n",
    "export_particularity(data_test, 1, 270, 660, 200, 200, dir_out=dir_out, confs_patches=confs_patches, names=names_confs_patches, idx=1)"
   ]
  },
  {
   "cell_type": "code",
   "execution_count": null,
   "metadata": {},
   "outputs": [],
   "source": [
    "dir_out = '../Figures/Zurich/Detail/im3/'\n",
    "confs_patches = [probas_patches_msr, probas_patches_df] "
   ]
  },
  {
   "cell_type": "code",
   "execution_count": null,
   "metadata": {},
   "outputs": [],
   "source": [
    "dir_out = '../Figures/Zurich/Detail/im4/'\n",
    "export_particularity(data_test, 4, 670, 550, 450, 320, dir_out=dir_out, confs_patches=confs_patches, names=names_confs_patches, idx=1)"
   ]
  },
  {
   "cell_type": "markdown",
   "metadata": {},
   "source": [
    "# Plot confidence in t-SNE"
   ]
  },
  {
   "cell_type": "code",
   "execution_count": null,
   "metadata": {},
   "outputs": [],
   "source": [
    "names_methods"
   ]
  },
  {
   "cell_type": "code",
   "execution_count": null,
   "metadata": {},
   "outputs": [],
   "source": [
    "pred_f_tsne = data_test.gt_patches == class_to_remove\n",
    "pred_t_tsne = (data_test.gt_patches != class_to_remove) & (data_test.gt_patches != 0)"
   ]
  },
  {
   "cell_type": "code",
   "execution_count": null,
   "metadata": {},
   "outputs": [],
   "source": [
    "# indices of correctly / wrongly predicted points\n",
    "pred_f = pred_f_tsne.flatten()[dataset_subset_indices]\n",
    "pred_t = pred_t_tsne.flatten()[dataset_subset_indices]\n",
    "probas_methods = [probas_msr, probas_margin, probas_entropy, probas_dropout.flatten(), probas_gmm, \n",
    "                  np.squeeze(probas_svm), np.squeeze(probas_df)]\n",
    "base_dir = \"../Figures/Zurich/Im_cert/cl_\" + str(class_to_remove) + \"/\"\n",
    "\n",
    "names_methods = ['net_msr', 'net_margin', 'net_entropy', 'dropout', 'gmm', 'svm', 'df']\n",
    "for proba, name in zip(probas_methods, names_methods):\n",
    "    probas_tsne = proba[dataset_subset_indices]\n",
    "\n",
    "    # colors\n",
    "    probas_df_c = probas_tsne\n",
    "    probas_df_c = exposure.equalize_hist(probas_tsne)\n",
    "    probas_df_c -= np.min(probas_df_c)\n",
    "    probas_df_c /= np.max(probas_df_c)\n",
    "    colors_plt = plt.cm.RdYlGn(probas_df_c * 255)\n",
    "    \n",
    "    fig, ax = plt.subplots(1, 1, figsize=(10, 10)) \n",
    "    # indicators of least confident points    \n",
    "    # plot correctly predicted points (o marker)\n",
    "\n",
    "    ax.scatter(tsne_all[:, 0][pred_t], tsne_all[:, 1][pred_t], c=colors_plt[pred_t], alpha=.1)\n",
    "\n",
    "    # plot incorrectly predicted points (x marker)\n",
    "    ax.scatter(tsne_all[:, 0][pred_f], tsne_all[:, 1][pred_f], c=colors_plt[pred_f], edgecolors='black',\n",
    "               linewidths=.5, s=90)\n",
    "    ax.set_axis_off()\n",
    "    extent = ax.get_window_extent().transformed(fig.dpi_scale_trans.inverted())\n",
    "\n",
    "    f_name = base_dir + \"t-SNE_wo_cl_\" + str(class_to_remove) + \"_\" + str(name) + \".pdf\"\n",
    "    plt.savefig(f_name, bbox_inches=extent, pad_inches=0)\n",
    "    ax.legend(['Seen points', 'Novel points'])\n",
    "    plt.close()"
   ]
  },
  {
   "cell_type": "code",
   "execution_count": null,
   "metadata": {},
   "outputs": [],
   "source": [
    "# indices of correctly / wrongly predicted points\n",
    "probas_methods = [probas_msr, probas_margin, probas_entropy, probas_dropout.flatten(), probas_gmm, \n",
    "                  np.squeeze(probas_svm), np.squeeze(probas_df)]\n",
    "base_dir = \"../Figures/Zurich/Im_cert/cl_\" + str(class_to_remove) + \"/\"\n",
    "\n",
    "names_methods = ['net_msr', 'net_margin', 'net_entropy', 'dropout', 'gmm', 'svm', 'df']\n",
    "for proba, name in zip(probas_methods, names_methods):\n",
    "    pred_f = pred_f_tsne.flatten()[dataset_subset_indices]\n",
    "    pred_t = pred_t_tsne.flatten()[dataset_subset_indices]\n",
    "    probas_tsne = proba[dataset_subset_indices]\n",
    "\n",
    "    # colors\n",
    "    colors_plt = plt.cm.RdYlGn((probas_tsne > np.sort(probas_tsne)[tsne_pts_per_class]) * 255)\n",
    "\n",
    "    # plot correctly predicted points (o marker)\n",
    "    fig, ax = plt.subplots(1, 1, figsize=(10, 10)) \n",
    "    ax.scatter(tsne_all[:, 0][pred_t], tsne_all[:, 1][pred_t], c=colors_plt[pred_t], alpha=.2)\n",
    "\n",
    "    # plot incorrectly predicted points (x marker)\n",
    "    ax.scatter(tsne_all[:, 0][pred_f], tsne_all[:, 1][pred_f], c=colors_plt[pred_f], edgecolors='black',\n",
    "               linewidths=.5, s=90)\n",
    "    \n",
    "    ax.set_axis_off()\n",
    "    extent = ax.get_window_extent().transformed(fig.dpi_scale_trans.inverted())\n",
    "    f_name = base_dir + \"t-SNE_wo_cl_\" + str(class_to_remove) + \"_\" + str(name) + \"_leastcert.pdf\"\n",
    "    plt.savefig(f_name, bbox_inches=extent, pad_inches=0)\n",
    "    ax.legend(['Seen points', 'Novel points'])\n",
    "    plt.close()"
   ]
  },
  {
   "cell_type": "code",
   "execution_count": null,
   "metadata": {},
   "outputs": [],
   "source": [
    "class_to_remove\n"
   ]
  },
  {
   "cell_type": "code",
   "execution_count": null,
   "metadata": {},
   "outputs": [],
   "source": []
  }
 ],
 "metadata": {
  "kernelspec": {
   "display_name": "Python 3",
   "language": "python",
   "name": "python3"
  },
  "language_info": {
   "codemirror_mode": {
    "name": "ipython",
    "version": 3
   },
   "file_extension": ".py",
   "mimetype": "text/x-python",
   "name": "python",
   "nbconvert_exporter": "python",
   "pygments_lexer": "ipython3",
   "version": "3.6.5"
  },
  "widgets": {
   "state": {},
   "version": "1.1.2"
  }
 },
 "nbformat": 4,
 "nbformat_minor": 2
}
