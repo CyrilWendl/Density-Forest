{
 "cells": [
  {
   "cell_type": "markdown",
   "metadata": {},
   "source": [
    "# MNIST dataset: Baselines\n"
   ]
  },
  {
   "cell_type": "code",
   "execution_count": 1,
   "metadata": {},
   "outputs": [
    {
     "name": "stderr",
     "output_type": "stream",
     "text": [
      "/opt/conda/envs/python36/lib/python3.6/site-packages/h5py/__init__.py:36: FutureWarning: Conversion of the second argument of issubdtype from `float` to `np.floating` is deprecated. In future, it will be treated as `np.float64 == np.dtype(float).type`.\n",
      "  from ._conv import register_converters as _register_converters\n",
      "Using TensorFlow backend.\n",
      "/opt/conda/envs/python36/lib/python3.6/site-packages/sklearn/cross_validation.py:41: DeprecationWarning: This module was deprecated in version 0.18 in favor of the model_selection module into which all the refactored classes and functions are moved. Also note that the interface of the new CV iterators are different from that of this module. This module will be removed in 0.20.\n",
      "  \"This module will be removed in 0.20.\", DeprecationWarning)\n"
     ]
    },
    {
     "name": "stdout",
     "output_type": "stream",
     "text": [
      "[name: \"/device:CPU:0\"\n",
      "device_type: \"CPU\"\n",
      "memory_limit: 268435456\n",
      "locality {\n",
      "}\n",
      "incarnation: 171747929498220647\n",
      ", name: \"/device:GPU:0\"\n",
      "device_type: \"GPU\"\n",
      "memory_limit: 10959175680\n",
      "locality {\n",
      "  bus_id: 2\n",
      "}\n",
      "incarnation: 12009310583623358321\n",
      "physical_device_desc: \"device: 0, name: GeForce GTX 1080 Ti, pci bus id: 0000:82:00.0, compute capability: 6.1\"\n",
      "]\n"
     ]
    }
   ],
   "source": [
    "'''Trains a simple convnet on the MNIST dataset.\n",
    "Gets to 99.25% test accuracy after 12 epochs\n",
    "(there is still a lot of margin for parameter tuning).\n",
    "16 seconds per epoch on a GRID K520 GPU.\n",
    "'''\n",
    "\n",
    "from __future__ import print_function\n",
    "import keras\n",
    "from keras.datasets import mnist\n",
    "from keras.models import Sequential, load_model\n",
    "from keras.layers import Dense, Dropout, Flatten\n",
    "from keras.layers import Conv2D, MaxPooling2D\n",
    "from keras import utils as np_utils\n",
    "from keras import backend as K\n",
    "import multiprocessing\n",
    "import numpy as np\n",
    "import matplotlib.pyplot as plt\n",
    "from scipy.misc import imsave\n",
    "import numpy as np\n",
    "import time\n",
    "from sklearn import metrics\n",
    "from sklearn.neural_network import MLPClassifier\n",
    "from sklearn.cross_validation import train_test_split\n",
    "\n",
    "# choose GPUs\n",
    "import os\n",
    "os.environ[\"CUDA_DEVICE_ORDER\"] = \"PCI_BUS_ID\"\n",
    "os.environ[\"CUDA_VISIBLE_DEVICES\"] = \"2\"\n",
    "\n",
    "from tensorflow.python.client import device_lib\n",
    "print(device_lib.list_local_devices())\n",
    "\n",
    "# custom libraries\n",
    "from density_tree.density_forest import *\n",
    "from density_tree.density_tree_create import *\n",
    "from density_tree.density_tree_traverse import *\n",
    "from density_tree.create_data import *\n",
    "from density_tree.helpers import *\n",
    "from density_tree.plots import *\n",
    "from sklearn import decomposition\n",
    "import warnings"
   ]
  },
  {
   "cell_type": "code",
   "execution_count": 2,
   "metadata": {},
   "outputs": [],
   "source": [
    "# custom libraries\n",
    "# Meta-Parameters\n",
    "#base_dir = '/Users/cyrilwendl/Documents/EPFL'  # for local machine\n",
    "#base_dir = '/home/cyrilwendl'  # for GCE\n",
    "base_dir = '/raid/home/cwendl'  # for guanabana\n",
    "import sys\n",
    "sys.path.append(base_dir + '/SIE-Master/Zurich') # Path to density Tree package\n",
    "sys.path.append(base_dir + '/SIE-Master/Zurich/helpers') # Path to density Tree package\n",
    "from helpers.data_augment import *"
   ]
  },
  {
   "cell_type": "markdown",
   "metadata": {},
   "source": [
    "# Data Import \n",
    "Import the data, delete all data in the training set of class 7\n"
   ]
  },
  {
   "cell_type": "code",
   "execution_count": 3,
   "metadata": {},
   "outputs": [
    {
     "name": "stdout",
     "output_type": "stream",
     "text": [
      "(array([0, 1, 2, 3, 4, 5, 6, 7, 8, 9], dtype=uint8), array([5923, 6742, 5958, 6131, 5842, 5421, 5918, 6265, 5851, 5949]))\n",
      "(array([0, 1, 2, 3, 4, 5, 6, 7, 8], dtype=uint8), array([5923, 6742, 5958, 6131, 5842, 5421, 5918, 5851, 5949]))\n"
     ]
    }
   ],
   "source": [
    "# adapted from Source: https://github.com/keras-team/keras/tree/master/examples\n",
    "\n",
    "# the data, shuffled and split between train and test sets\n",
    "(x_train, y_train), (x_test_all, y_test_all) = mnist.load_data()\n",
    "print(np.unique(y_train, return_counts=True))\n",
    "\n",
    "label_to_remove = 7\n",
    "\n",
    "# remove all trainig samples containing a label label_to_remove\n",
    "x_train = x_train[y_train!=label_to_remove]\n",
    "y_train = y_train[y_train!=label_to_remove]\n",
    "    \n",
    "x_test = x_test_all[y_test_all!=label_to_remove]\n",
    "y_test = y_test_all[y_test_all!=label_to_remove]\n",
    "\n",
    "# decrease all labels that are higher by -1 to avoid gaps\n",
    "for i in range(label_to_remove+1, 11):\n",
    "    y_train[y_train == i] = (i-1)\n",
    "    y_test[y_test == i] = (i-1)\n",
    "print(np.unique(y_train, return_counts=True))"
   ]
  },
  {
   "cell_type": "code",
   "execution_count": 4,
   "metadata": {},
   "outputs": [
    {
     "name": "stdout",
     "output_type": "stream",
     "text": [
      "x_train shape: (53735, 28, 28, 1)\n",
      "53735 train samples\n",
      "8972 test samples\n"
     ]
    }
   ],
   "source": [
    "batch_size = 128\n",
    "num_classes = 9\n",
    "epochs = 5\n",
    "\n",
    "# input image dimensions\n",
    "img_rows, img_cols = 28, 28\n",
    "\n",
    "# Reshape for Tensorflow\n",
    "x_train = x_train.reshape(x_train.shape[0], img_rows, img_cols, 1)\n",
    "x_test = x_test.reshape(x_test.shape[0], img_rows, img_cols, 1)\n",
    "x_test_all = x_test_all.reshape(x_test_all.shape[0], img_rows, img_cols, 1)\n",
    "input_shape = (img_rows, img_cols, 1)\n",
    "\n",
    "x_train = x_train.astype('float32')\n",
    "x_test = x_test.astype('float32')\n",
    "x_test_all = x_test_all.astype('float32')\n",
    "x_train /= 255\n",
    "x_test /= 255\n",
    "x_test_all /= 255\n",
    "print('x_train shape:', x_train.shape)\n",
    "print(x_train.shape[0], 'train samples')\n",
    "print(x_test.shape[0], 'test samples')\n",
    "\n",
    "# convert class vectors to binary class matrices\n",
    "y_train = np_utils.np_utils.to_categorical(y_train, num_classes)\n",
    "y_test = np_utils.np_utils.to_categorical(y_test, num_classes)"
   ]
  },
  {
   "cell_type": "code",
   "execution_count": 5,
   "metadata": {},
   "outputs": [
    {
     "name": "stdout",
     "output_type": "stream",
     "text": [
      "_________________________________________________________________\n",
      "Layer (type)                 Output Shape              Param #   \n",
      "=================================================================\n",
      "conv2d_1 (Conv2D)            (None, 26, 26, 32)        320       \n",
      "_________________________________________________________________\n",
      "conv2d_2 (Conv2D)            (None, 24, 24, 64)        18496     \n",
      "_________________________________________________________________\n",
      "max_pooling2d_1 (MaxPooling2 (None, 12, 12, 64)        0         \n",
      "_________________________________________________________________\n",
      "dropout_1 (Dropout)          (None, 12, 12, 64)        0         \n",
      "_________________________________________________________________\n",
      "flatten_1 (Flatten)          (None, 9216)              0         \n",
      "_________________________________________________________________\n",
      "dense_1 (Dense)              (None, 128)               1179776   \n",
      "_________________________________________________________________\n",
      "dropout_2 (Dropout)          (None, 128)               0         \n",
      "_________________________________________________________________\n",
      "dense_2 (Dense)              (None, 9)                 1161      \n",
      "=================================================================\n",
      "Total params: 1,199,753\n",
      "Trainable params: 1,199,753\n",
      "Non-trainable params: 0\n",
      "_________________________________________________________________\n",
      "None\n",
      "Test loss: 0.029694551867320524\n",
      "Test accuracy: 0.9893000445831476\n"
     ]
    }
   ],
   "source": [
    "model = Sequential()\n",
    "model.add(Conv2D(32, kernel_size=(3, 3),\n",
    "                 activation='relu',\n",
    "                 input_shape=input_shape))\n",
    "model.add(Conv2D(64, (3, 3), activation='relu'))\n",
    "model.add(MaxPooling2D(pool_size=(2, 2)))\n",
    "model.add(Dropout(0.25))\n",
    "model.add(Flatten())\n",
    "model.add(Dense(128, activation='relu'))\n",
    "model.add(Dropout(0.5))\n",
    "model.add(Dense(num_classes, activation='softmax'))\n",
    "\n",
    "model.compile(loss=keras.losses.categorical_crossentropy,\n",
    "              optimizer=keras.optimizers.Adadelta(),\n",
    "              metrics=['accuracy'])\n",
    "\n",
    "print(model.summary())\n",
    "\n",
    "model_train = False;\n",
    "if model_train:\n",
    "    model.fit(x_train, y_train,\n",
    "          batch_size=batch_size,\n",
    "          epochs=epochs,\n",
    "          verbose=1,\n",
    "          validation_data=(x_test, y_test))\n",
    "    model.save('mnist-weights.h5')\n",
    "else :\n",
    "    model = load_model('mnist-weights.h5')\n",
    "\n",
    "score = model.evaluate(x_test, y_test, verbose=0)\n",
    "print('Test loss:', score[0])\n",
    "print('Test accuracy:', score[1])"
   ]
  },
  {
   "cell_type": "markdown",
   "metadata": {},
   "source": [
    "#### Make some predictions for the unseen class"
   ]
  },
  {
   "cell_type": "code",
   "execution_count": 6,
   "metadata": {},
   "outputs": [
    {
     "data": {
      "image/png": "[encoded data removed]",
      "text/plain": [
       "<Figure size 504x360 with 1 Axes>"
      ]
     },
     "metadata": {},
     "output_type": "display_data"
    }
   ],
   "source": [
    "# all images in the test set containing a label label_to_remove\n",
    "x_unseen_class = x_test_all[np.where(y_test_all==label_to_remove)[0]] \n",
    "\n",
    "# make prodictions for class unseen during training\n",
    "y_pred = model.predict(x_unseen_class)\n",
    "y_pred_label = np.argmax(y_pred, axis = 1);\n",
    "\n",
    "for i in range(label_to_remove, 9):\n",
    "    y_pred_label[y_pred_label == i] = (i+1)\n",
    "\n",
    "# distribution of predicted label\n",
    "pred_labels, pred_counts = np.unique(y_pred_label,return_counts=True)\n",
    "\n",
    "# visualization\n",
    "fig = plt.figure(figsize=(7,5))\n",
    "plt.bar(pred_labels, pred_counts)\n",
    "plt.xticks(np.arange(0,10))\n",
    "plt.xlabel(\"Predicted Label\")\n",
    "plt.ylabel(\"Count\")\n",
    "plt.savefig(\"../Figures/pred-count.pdf\", bbox_inches='tight', pad_inches=0)\n",
    "plt.show()"
   ]
  },
  {
   "cell_type": "code",
   "execution_count": 7,
   "metadata": {},
   "outputs": [
    {
     "name": "stdout",
     "output_type": "stream",
     "text": [
      "Mean accuracy: 67.54 %\n",
      "Std accuracy: 32.05 %\n",
      "31.32% of all predictions made with an accuracy higher than 0.95%\n"
     ]
    }
   ],
   "source": [
    "# Avarage certitude for unseen class: 1-max_margin\n",
    "c = []\n",
    "for i in range(len(y_pred_label)):\n",
    "    y_probas = np.sort(y_pred[i])  # probabilities for one image\n",
    "    c.append(y_probas[-1]-y_probas[-2])  # margin\n",
    "\n",
    "    \n",
    "pred_acc_mean = np.mean(c)\n",
    "pred_acc_std = np.std(c)\n",
    "    \n",
    "print(\"Mean accuracy: %.2f %%\" % (pred_acc_mean*100) )\n",
    "print(\"Std accuracy: %.2f %%\" % (pred_acc_std*100) )\n",
    "\n",
    "c = np.asarray(c)\n",
    "pred_acc_high = .95 # 95 % is considered a very high confidence\n",
    "\n",
    "\n",
    "pct = np.round(len(c[c>pred_acc_high])/len(c),4)*100\n",
    "\n",
    "print(\"%.2f%% of all predictions made with an accuracy higher than %.2f%%\" % (pct, pred_acc_high))"
   ]
  },
  {
   "cell_type": "code",
   "execution_count": 8,
   "metadata": {},
   "outputs": [
    {
     "name": "stdout",
     "output_type": "stream",
     "text": [
      "Mean accuracy: 97.99 %\n",
      "Std accuracy: 9.79 %\n",
      "94.32 % of all predictions made with an accuracy higher than 0.95%\n"
     ]
    }
   ],
   "source": [
    "# Avarage certitude for seen class: 1-max_margin\n",
    "y_pred_seen = model.predict(x_test)\n",
    "y_pred_label_seen = np.argmax(y_pred_seen, axis = 1);\n",
    "\n",
    "for i in np.flip(range(label_to_remove,9),axis=0):\n",
    "    y_pred_label_seen[y_pred_label_seen == i] = (i+1)\n",
    "\n",
    "c = []\n",
    "for i in range(len(y_pred_label_seen)):\n",
    "    y_probas_seen = np.sort(y_pred_seen[i])  # probabilities for one image\n",
    "    c.append(y_probas_seen[-1]-y_probas_seen[-2])  # margin\n",
    "\n",
    "    \n",
    "pred_acc_mean = np.mean(c)\n",
    "pred_acc_std = np.std(c)\n",
    "    \n",
    "print(\"Mean accuracy: %.2f %%\" % (pred_acc_mean*100) )\n",
    "print(\"Std accuracy: %.2f %%\" % (pred_acc_std*100) )\n",
    "\n",
    "c = np.asarray(c)\n",
    "pred_acc_high = .95 # 95 % is considered a very high confidence\n",
    "\n",
    "\n",
    "pct = np.round(len(c[c>pred_acc_high])/len(c),4)*100\n",
    "print(\"%.2f %% of all predictions made with an accuracy higher than %.2f%%\" % (pct, pred_acc_high))"
   ]
  },
  {
   "cell_type": "code",
   "execution_count": 9,
   "metadata": {},
   "outputs": [],
   "source": [
    "y_pred = model.predict(x_test_all)\n",
    "y_pred_label = np.argmax(y_pred, axis = 1);\n",
    "\n",
    "for i in np.flip(range(label_to_remove,9),axis=0):\n",
    "    y_pred_label[y_pred_label == i] = (i+1)"
   ]
  },
  {
   "cell_type": "code",
   "execution_count": 10,
   "metadata": {},
   "outputs": [
    {
     "name": "stdout",
     "output_type": "stream",
     "text": [
      "             precision    recall  f1-score   support\n",
      "\n",
      "          0       0.99      0.98      0.99       996\n",
      "          1       1.00      0.98      0.99      1152\n",
      "          2       0.99      0.84      0.91      1227\n",
      "          3       1.00      0.86      0.92      1164\n",
      "          4       0.99      0.97      0.98      1001\n",
      "          5       0.99      0.99      0.99       890\n",
      "          6       0.98      0.99      0.99       950\n",
      "          7       0.00      0.00      0.00         0\n",
      "          8       0.98      0.98      0.98       973\n",
      "          9       0.98      0.60      0.75      1647\n",
      "\n",
      "avg / total       0.99      0.89      0.93     10000\n",
      "\n"
     ]
    },
    {
     "name": "stderr",
     "output_type": "stream",
     "text": [
      "/opt/conda/envs/python36/lib/python3.6/site-packages/sklearn/metrics/classification.py:1137: UndefinedMetricWarning: Recall and F-score are ill-defined and being set to 0.0 in labels with no true samples.\n",
      "  'recall', 'true', average, warn_for)\n"
     ]
    }
   ],
   "source": [
    "print(metrics.classification_report(y_pred_label,y_test_all))"
   ]
  },
  {
   "cell_type": "markdown",
   "metadata": {},
   "source": [
    "# Baseline Method\n",
    "## Confidence from Invariance to Image Transformations\n",
    "https://arxiv.org/pdf/1804.00657.pdf"
   ]
  },
  {
   "cell_type": "code",
   "execution_count": 11,
   "metadata": {},
   "outputs": [
    {
     "data": {
      "text/plain": [
       "<matplotlib.image.AxesImage at 0x7fa348051dd8>"
      ]
     },
     "execution_count": 11,
     "metadata": {},
     "output_type": "execute_result"
    },
    {
     "data": {
      "image/png": "[encoded data removed]",
      "text/plain": [
       "<Figure size 576x288 with 2 Axes>"
      ]
     },
     "metadata": {},
     "output_type": "display_data"
    }
   ],
   "source": [
    "x_aug, _ = augment_images_and_gt(x_test_all, x_test_all, blur=True, force=True)\n",
    "\n",
    "# visualize an image\n",
    "im_idx = 6\n",
    "fig, axes  = plt.subplots(1,2, figsize=(8,4))\n",
    "axes[0].imshow(x_test_all[im_idx][...,0])\n",
    "axes[1].imshow(x_aug[im_idx][...,0])"
   ]
  },
  {
   "cell_type": "code",
   "execution_count": 12,
   "metadata": {},
   "outputs": [
    {
     "data": {
      "image/png": "[encoded data removed]",
      "text/plain": [
       "<Figure size 432x288 with 1 Axes>"
      ]
     },
     "metadata": {},
     "output_type": "display_data"
    },
    {
     "name": "stdout",
     "output_type": "stream",
     "text": [
      "10000/10000 [==============================] - 0s 44us/step\n"
     ]
    },
    {
     "data": {
      "image/png": "[encoded data removed]",
      "text/plain": [
       "<Figure size 432x288 with 1 Axes>"
      ]
     },
     "metadata": {},
     "output_type": "display_data"
    },
    {
     "name": "stdout",
     "output_type": "stream",
     "text": [
      "10000/10000 [==============================] - 0s 46us/step\n"
     ]
    },
    {
     "data": {
      "image/png": "[encoded data removed]",
      "text/plain": [
       "<Figure size 432x288 with 1 Axes>"
      ]
     },
     "metadata": {},
     "output_type": "display_data"
    },
    {
     "name": "stdout",
     "output_type": "stream",
     "text": [
      "10000/10000 [==============================] - 0s 46us/step\n"
     ]
    },
    {
     "data": {
      "image/png": "[encoded data removed]",
      "text/plain": [
       "<Figure size 432x288 with 1 Axes>"
      ]
     },
     "metadata": {},
     "output_type": "display_data"
    },
    {
     "name": "stdout",
     "output_type": "stream",
     "text": [
      "10000/10000 [==============================] - 1s 50us/step\n"
     ]
    },
    {
     "data": {
      "image/png": "[encoded data removed]",
      "text/plain": [
       "<Figure size 432x288 with 1 Axes>"
      ]
     },
     "metadata": {},
     "output_type": "display_data"
    },
    {
     "name": "stdout",
     "output_type": "stream",
     "text": [
      "10000/10000 [==============================] - 0s 49us/step\n"
     ]
    },
    {
     "data": {
      "image/png": "[encoded data removed]",
      "text/plain": [
       "<Figure size 432x288 with 1 Axes>"
      ]
     },
     "metadata": {},
     "output_type": "display_data"
    },
    {
     "name": "stdout",
     "output_type": "stream",
     "text": [
      "10000/10000 [==============================] - 0s 47us/step\n"
     ]
    }
   ],
   "source": [
    "y_preds = []\n",
    "\n",
    "# original\n",
    "plt.imshow(x_test_all[0][...,0])\n",
    "plt.show()\n",
    "y_preds.append(model.predict(x_test_all, verbose=1))\n",
    "\n",
    "# blur\n",
    "x_aug, _ = augment_images_and_gt(x_test_all, x_test_all, blur=True, force=True)\n",
    "plt.imshow(x_aug[0][...,0])\n",
    "plt.show()\n",
    "y_preds.append(model.predict(x_aug, verbose=1))\n",
    "\n",
    "# horizontal flipping\n",
    "x_aug, _ = augment_images_and_gt(x_test_all, x_test_all, rf_h=True, force=True)\n",
    "plt.imshow(x_aug[0][...,0])\n",
    "plt.show()\n",
    "y_preds.append(model.predict(x_aug, verbose=1))\n",
    "\n",
    "# gamma\n",
    "x_aug, _ = augment_images_and_gt(x_test_all, x_test_all, gamma=.8, force=True)\n",
    "plt.imshow(x_aug[0][...,0])\n",
    "plt.show()\n",
    "\n",
    "# contrast\n",
    "y_preds.append(model.predict(x_aug, verbose=1))\n",
    "x_aug, _ = augment_images_and_gt(x_test_all, x_test_all, contrast=1.5, force=True)\n",
    "plt.imshow(x_aug[0][...,0])\n",
    "plt.show()\n",
    "y_preds.append(model.predict(x_aug, verbose=1))\n",
    "\n",
    "# brightness\n",
    "x_aug, _ = augment_images_and_gt(x_test_all, x_test_all, brightness=10, force=True)\n",
    "plt.imshow(x_aug[0][...,0])\n",
    "plt.show()\n",
    "y_preds.append(model.predict(x_aug, verbose=1))\n",
    "#x_aug, _ = augment_images_and_gt(x_test_all, x_test_all, blur=True)\n",
    "\n",
    "y_preds = np.asarray(y_preds)"
   ]
  },
  {
   "cell_type": "code",
   "execution_count": 13,
   "metadata": {},
   "outputs": [
    {
     "data": {
      "image/png": "[encoded data removed]",
      "text/plain": [
       "<Figure size 864x360 with 1 Axes>"
      ]
     },
     "metadata": {},
     "output_type": "display_data"
    },
    {
     "name": "stdout",
     "output_type": "stream",
     "text": [
      "True label: 5\n"
     ]
    }
   ],
   "source": [
    "from matplotlib.pyplot import cm\n",
    "t_names = ['Original','Blur','H. flip','Gamma','Contrast','Brightness']\n",
    "\n",
    "def show_softmax(idx, y_preds, y_true=None):\n",
    "    softmax_im = [y_preds[i][idx] for i in range(len(y_preds))]\n",
    "    plt.figure(figsize=(12, 5))\n",
    "    ax = plt.subplot(111)\n",
    "    x=np.arange(9)\n",
    "    bars=[]\n",
    "    color = cm.rainbow(np.linspace(0, 1, len(y_preds)))\n",
    "    for i in range(len(y_preds)):\n",
    "        bars.append(ax.bar(len(y_preds)/20+x-1/10*i, softmax_im[i] ,width=0.1, align='center', color=color[i]))\n",
    "    ax.axhline(np.max(y_preds[0][idx]),c=color[0], ls='--', lw=1)\n",
    "    ax.legend(bars, t_names)\n",
    "    ax.set_xticks(np.arange(10))\n",
    "    plt.show()\n",
    "    if y_true is not None:\n",
    "        print(\"True label: %i\" % y_true[idx])\n",
    "    \n",
    "idx = 15\n",
    "show_softmax(idx, y_preds, y_test_all)"
   ]
  },
  {
   "cell_type": "code",
   "execution_count": 14,
   "metadata": {},
   "outputs": [],
   "source": [
    "filt = (np.equal(y_pred_label,y_test_all) == False) & (y_test_all!=label_to_remove)\n",
    "x_wrong = x_test_all[filt]\n",
    "y_wrong = y_test_all[filt]\n",
    "idx_wrong = np.where(filt)[0]"
   ]
  },
  {
   "cell_type": "code",
   "execution_count": 15,
   "metadata": {},
   "outputs": [
    {
     "data": {
      "image/png": "[encoded data removed]",
      "text/plain": [
       "<Figure size 432x288 with 1 Axes>"
      ]
     },
     "metadata": {},
     "output_type": "display_data"
    }
   ],
   "source": [
    "plt.bar(*np.unique(y_wrong,return_counts=True))\n",
    "plt.show()"
   ]
  },
  {
   "cell_type": "code",
   "execution_count": 16,
   "metadata": {},
   "outputs": [
    {
     "data": {
      "image/png": "[encoded data removed]",
      "text/plain": [
       "<Figure size 432x288 with 1 Axes>"
      ]
     },
     "metadata": {},
     "output_type": "display_data"
    },
    {
     "data": {
      "image/png": "[encoded data removed]",
      "text/plain": [
       "<Figure size 864x360 with 1 Axes>"
      ]
     },
     "metadata": {},
     "output_type": "display_data"
    },
    {
     "name": "stdout",
     "output_type": "stream",
     "text": [
      "True label: 6\n"
     ]
    }
   ],
   "source": [
    "# plot a wrongly predicted image and its softmax output\n",
    "idx = idx_wrong[1]\n",
    "plt.imshow(x_test_all[idx][...,0])\n",
    "plt.show()\n",
    "show_softmax(idx, y_preds, y_test_all)"
   ]
  },
  {
   "cell_type": "code",
   "execution_count": 17,
   "metadata": {},
   "outputs": [],
   "source": [
    "from copy import deepcopy"
   ]
  },
  {
   "cell_type": "code",
   "execution_count": 18,
   "metadata": {},
   "outputs": [],
   "source": [
    "# loop all data points\n",
    "def reorder_truncate_concatenate(y_pred, n_components):\n",
    "    \"\"\" \n",
    "    reorder, truncate, concatenate prediction vectors\n",
    "    y_pred = [n_transforms, n_points, n_classes]\n",
    "    \"\"\"\n",
    "    # reorder\n",
    "    y_pred_o = deepcopy(y_pred)\n",
    "    for i in range(np.shape(y_pred)[1]): # loop n_points\n",
    "        order = np.argsort(y_pred_o[0][i])\n",
    "        # reorder class scores by descending original score\n",
    "        for j in range(len(y_pred)):  # loop n_transforms\n",
    "            sort_order = np.flip(np.argsort(y_pred_o[0][i]), axis=0)\n",
    "            y_pred_o[j][i] = y_pred_o[j][i][sort_order]\n",
    "    \n",
    "    # truncate\n",
    "    y_pred_t = []\n",
    "    \n",
    "    y_pred_t = np.asarray([y_pred[:,:n_components] for y_pred in y_pred])\n",
    "       \n",
    "    # concatenate\n",
    "    y_pred_c = np.concatenate(y_pred_t, axis=-1)\n",
    "    return y_pred_t, y_pred_c\n",
    "y_pred_t, y_pred_c = reorder_truncate_concatenate(y_preds, 9)"
   ]
  },
  {
   "cell_type": "code",
   "execution_count": 19,
   "metadata": {},
   "outputs": [],
   "source": [
    "# get training data and labels\n",
    "x = y_pred_c\n",
    "y = (np.equal(y_pred_label,y_test_all) == True)*1."
   ]
  },
  {
   "cell_type": "code",
   "execution_count": 20,
   "metadata": {},
   "outputs": [],
   "source": [
    "# split training data in train and test part\n",
    "indices = np.arange(len(x))\n",
    "x_train, x_test, y_train, y_test, ind_train, ind_test = train_test_split(x, y, indices, test_size=0.5, random_state=42)"
   ]
  },
  {
   "cell_type": "code",
   "execution_count": 21,
   "metadata": {},
   "outputs": [],
   "source": [
    "# convert class vectors to binary class matrices\n",
    "num_classes = 2\n",
    "\n",
    "y_train = keras.utils.to_categorical(y_train, num_classes)\n",
    "y_test = keras.utils.to_categorical(y_test, num_classes)"
   ]
  },
  {
   "cell_type": "code",
   "execution_count": 33,
   "metadata": {},
   "outputs": [
    {
     "name": "stdout",
     "output_type": "stream",
     "text": [
      "_________________________________________________________________\n",
      "Layer (type)                 Output Shape              Param #   \n",
      "=================================================================\n",
      "dense_6 (Dense)              (None, 70)                3850      \n",
      "_________________________________________________________________\n",
      "dropout_5 (Dropout)          (None, 70)                0         \n",
      "_________________________________________________________________\n",
      "dense_7 (Dense)              (None, 70)                4970      \n",
      "_________________________________________________________________\n",
      "dropout_6 (Dropout)          (None, 70)                0         \n",
      "_________________________________________________________________\n",
      "dense_8 (Dense)              (None, 2)                 142       \n",
      "=================================================================\n",
      "Total params: 8,962\n",
      "Trainable params: 8,962\n",
      "Non-trainable params: 0\n",
      "_________________________________________________________________\n",
      "Train on 5000 samples, validate on 5000 samples\n",
      "Epoch 1/40\n",
      "5000/5000 [==============================] - 1s 111us/step - loss: 0.4552 - acc: 0.7960 - val_loss: 0.2665 - val_acc: 0.8908\n",
      "Epoch 2/40\n",
      "5000/5000 [==============================] - 0s 27us/step - loss: 0.2775 - acc: 0.8852 - val_loss: 0.2241 - val_acc: 0.8908\n",
      "Epoch 3/40\n",
      "5000/5000 [==============================] - 0s 27us/step - loss: 0.2421 - acc: 0.8858 - val_loss: 0.2110 - val_acc: 0.8958\n",
      "Epoch 4/40\n",
      "5000/5000 [==============================] - 0s 29us/step - loss: 0.2292 - acc: 0.8906 - val_loss: 0.1994 - val_acc: 0.9100\n",
      "Epoch 5/40\n",
      "5000/5000 [==============================] - 0s 27us/step - loss: 0.2119 - acc: 0.9012 - val_loss: 0.1893 - val_acc: 0.9212\n",
      "Epoch 6/40\n",
      "5000/5000 [==============================] - 0s 27us/step - loss: 0.2064 - acc: 0.9182 - val_loss: 0.1798 - val_acc: 0.9276\n",
      "Epoch 7/40\n",
      "5000/5000 [==============================] - 0s 27us/step - loss: 0.1956 - acc: 0.9154 - val_loss: 0.1708 - val_acc: 0.9330\n",
      "Epoch 8/40\n",
      "5000/5000 [==============================] - 0s 28us/step - loss: 0.1893 - acc: 0.9268 - val_loss: 0.1645 - val_acc: 0.9396\n",
      "Epoch 9/40\n",
      "5000/5000 [==============================] - 0s 28us/step - loss: 0.1834 - acc: 0.9304 - val_loss: 0.1567 - val_acc: 0.9410\n",
      "Epoch 10/40\n",
      "5000/5000 [==============================] - 0s 26us/step - loss: 0.1739 - acc: 0.9356 - val_loss: 0.1524 - val_acc: 0.9432\n",
      "Epoch 11/40\n",
      "5000/5000 [==============================] - 0s 26us/step - loss: 0.1682 - acc: 0.9396 - val_loss: 0.1474 - val_acc: 0.9440\n",
      "Epoch 12/40\n",
      "5000/5000 [==============================] - 0s 27us/step - loss: 0.1628 - acc: 0.9414 - val_loss: 0.1428 - val_acc: 0.9452\n",
      "Epoch 13/40\n",
      "5000/5000 [==============================] - 0s 28us/step - loss: 0.1596 - acc: 0.9450 - val_loss: 0.1390 - val_acc: 0.9468\n",
      "Epoch 14/40\n",
      "5000/5000 [==============================] - 0s 27us/step - loss: 0.1537 - acc: 0.9488 - val_loss: 0.1369 - val_acc: 0.9476\n",
      "Epoch 15/40\n",
      "5000/5000 [==============================] - 0s 27us/step - loss: 0.1492 - acc: 0.9472 - val_loss: 0.1363 - val_acc: 0.9476\n",
      "Epoch 16/40\n",
      "5000/5000 [==============================] - 0s 28us/step - loss: 0.1440 - acc: 0.9490 - val_loss: 0.1325 - val_acc: 0.9480\n",
      "Epoch 17/40\n",
      "5000/5000 [==============================] - 0s 28us/step - loss: 0.1413 - acc: 0.9478 - val_loss: 0.1318 - val_acc: 0.9488\n",
      "Epoch 18/40\n",
      "5000/5000 [==============================] - 0s 25us/step - loss: 0.1430 - acc: 0.9490 - val_loss: 0.1298 - val_acc: 0.9492\n",
      "Epoch 19/40\n",
      "5000/5000 [==============================] - 0s 28us/step - loss: 0.1401 - acc: 0.9504 - val_loss: 0.1325 - val_acc: 0.9492\n",
      "Epoch 20/40\n",
      "5000/5000 [==============================] - 0s 27us/step - loss: 0.1382 - acc: 0.9536 - val_loss: 0.1268 - val_acc: 0.9496\n",
      "Epoch 21/40\n",
      "5000/5000 [==============================] - 0s 26us/step - loss: 0.1340 - acc: 0.9494 - val_loss: 0.1296 - val_acc: 0.9504\n",
      "Epoch 22/40\n",
      "5000/5000 [==============================] - 0s 26us/step - loss: 0.1314 - acc: 0.9540 - val_loss: 0.1262 - val_acc: 0.9502\n",
      "Epoch 23/40\n",
      "5000/5000 [==============================] - 0s 28us/step - loss: 0.1286 - acc: 0.9548 - val_loss: 0.1253 - val_acc: 0.9492\n",
      "Epoch 24/40\n",
      "5000/5000 [==============================] - 0s 26us/step - loss: 0.1274 - acc: 0.9570 - val_loss: 0.1246 - val_acc: 0.9498\n",
      "Epoch 25/40\n",
      "5000/5000 [==============================] - 0s 27us/step - loss: 0.1285 - acc: 0.9572 - val_loss: 0.1233 - val_acc: 0.9516\n",
      "Epoch 26/40\n",
      "5000/5000 [==============================] - 0s 26us/step - loss: 0.1254 - acc: 0.9574 - val_loss: 0.1222 - val_acc: 0.9512\n",
      "Epoch 27/40\n",
      "5000/5000 [==============================] - 0s 26us/step - loss: 0.1262 - acc: 0.9548 - val_loss: 0.1202 - val_acc: 0.9530\n",
      "Epoch 28/40\n",
      "5000/5000 [==============================] - 0s 27us/step - loss: 0.1176 - acc: 0.9600 - val_loss: 0.1201 - val_acc: 0.9534\n",
      "Epoch 29/40\n",
      "5000/5000 [==============================] - 0s 26us/step - loss: 0.1217 - acc: 0.9564 - val_loss: 0.1191 - val_acc: 0.9542\n",
      "Epoch 30/40\n",
      "5000/5000 [==============================] - 0s 25us/step - loss: 0.1169 - acc: 0.9568 - val_loss: 0.1188 - val_acc: 0.9544\n",
      "Epoch 31/40\n",
      "5000/5000 [==============================] - 0s 24us/step - loss: 0.1166 - acc: 0.9592 - val_loss: 0.1190 - val_acc: 0.9544\n",
      "Epoch 32/40\n",
      "5000/5000 [==============================] - 0s 25us/step - loss: 0.1196 - acc: 0.9606 - val_loss: 0.1173 - val_acc: 0.9552\n",
      "Epoch 33/40\n",
      "5000/5000 [==============================] - 0s 26us/step - loss: 0.1127 - acc: 0.9606 - val_loss: 0.1166 - val_acc: 0.9564\n",
      "Epoch 34/40\n",
      "5000/5000 [==============================] - 0s 28us/step - loss: 0.1139 - acc: 0.9584 - val_loss: 0.1158 - val_acc: 0.9562\n",
      "Epoch 35/40\n",
      "5000/5000 [==============================] - 0s 28us/step - loss: 0.1080 - acc: 0.9620 - val_loss: 0.1172 - val_acc: 0.9558\n",
      "Epoch 36/40\n",
      "5000/5000 [==============================] - 0s 29us/step - loss: 0.1098 - acc: 0.9620 - val_loss: 0.1168 - val_acc: 0.9558\n",
      "Epoch 37/40\n",
      "5000/5000 [==============================] - 0s 28us/step - loss: 0.1085 - acc: 0.9610 - val_loss: 0.1147 - val_acc: 0.9586\n",
      "Epoch 38/40\n",
      "5000/5000 [==============================] - 0s 27us/step - loss: 0.1025 - acc: 0.9666 - val_loss: 0.1138 - val_acc: 0.9582\n",
      "Epoch 39/40\n",
      "5000/5000 [==============================] - 0s 27us/step - loss: 0.1065 - acc: 0.9624 - val_loss: 0.1131 - val_acc: 0.9578\n",
      "Epoch 40/40\n",
      "5000/5000 [==============================] - 0s 26us/step - loss: 0.1047 - acc: 0.9646 - val_loss: 0.1129 - val_acc: 0.9590\n",
      "Test loss: 0.11294551914930344\n",
      "Test accuracy: 0.959\n"
     ]
    }
   ],
   "source": [
    "from keras.optimizers import Adam\n",
    "# KERAS, for GPU use\n",
    "# Train MLP\n",
    "n_cl = 2\n",
    "model_mlp = Sequential()\n",
    "model_mlp.add(Dense(70, activation='relu', input_shape=(x_train.shape[1:])))\n",
    "model_mlp.add(Dropout(0.5))\n",
    "model_mlp.add(Dense(70, activation='relu'))\n",
    "model_mlp.add(Dropout(0.5))\n",
    "model_mlp.add(Dense(n_cl, activation='softmax'))\n",
    "\n",
    "model_mlp.summary()\n",
    "\n",
    "model_mlp.compile(loss='categorical_crossentropy',\n",
    "              optimizer=Adam(),\n",
    "              metrics=['accuracy'])\n",
    "\n",
    "batch_size = 200\n",
    "epochs = 40\n",
    "history = model_mlp.fit(x_train, y_train,\n",
    "                    batch_size=batch_size,\n",
    "                    epochs=epochs,\n",
    "                    verbose=1,\n",
    "                    validation_data=(x_test, y_test))\n",
    "score = model_mlp.evaluate(x_test, y_test, verbose=0)\n",
    "print('Test loss:', score[0])\n",
    "print('Test accuracy:', score[1])"
   ]
  },
  {
   "cell_type": "code",
   "execution_count": 23,
   "metadata": {},
   "outputs": [],
   "source": [
    "pred = np.argmax(model_mlp.predict(x),-1)\n",
    "y_pred_label_y = y_test_all*np.equal(y,pred)*1"
   ]
  },
  {
   "cell_type": "code",
   "execution_count": 24,
   "metadata": {},
   "outputs": [
    {
     "name": "stdout",
     "output_type": "stream",
     "text": [
      "             precision    recall  f1-score   support\n",
      "\n",
      "          0       0.73      1.00      0.85       980\n",
      "          1       1.00      0.99      1.00      1135\n",
      "          2       1.00      0.98      0.99      1032\n",
      "          3       1.00      0.99      1.00      1010\n",
      "          4       1.00      0.99      0.99       982\n",
      "          5       1.00      0.99      0.99       892\n",
      "          6       1.00      0.99      0.99       958\n",
      "          7       1.00      0.80      0.89      1028\n",
      "          8       1.00      0.99      0.99       974\n",
      "          9       1.00      0.93      0.96      1009\n",
      "\n",
      "avg / total       0.97      0.96      0.97     10000\n",
      "\n"
     ]
    }
   ],
   "source": [
    "# show scores for images that were correctly or incorrectly predicted as correct / incorrect\n",
    "print(metrics.classification_report(y_test_all, y_pred_label_y))"
   ]
  },
  {
   "cell_type": "code",
   "execution_count": 25,
   "metadata": {},
   "outputs": [],
   "source": [
    "def KL(a, b):\n",
    "    a = np.asarray(a, dtype=np.float)\n",
    "    b = np.asarray(b, dtype=np.float)\n",
    "\n",
    "    return np.sum(np.where(a != 0, a * np.log(a / b), 0))"
   ]
  },
  {
   "cell_type": "code",
   "execution_count": 26,
   "metadata": {},
   "outputs": [],
   "source": [
    "s = np.shape(y_pred_t)\n",
    "t = np.reshape(y_pred_t, (s[1],s[0],s[2]))"
   ]
  },
  {
   "cell_type": "code",
   "execution_count": 27,
   "metadata": {},
   "outputs": [
    {
     "data": {
      "text/plain": [
       "(10000, 6, 9)"
      ]
     },
     "execution_count": 27,
     "metadata": {},
     "output_type": "execute_result"
    }
   ],
   "source": [
    "np.shape(t)"
   ]
  },
  {
   "cell_type": "code",
   "execution_count": 28,
   "metadata": {},
   "outputs": [],
   "source": [
    "KL_pts = []\n",
    "for pt_idx in range(len(t)): # loop points\n",
    "    KL_pt = []\n",
    "    for t_idx in range(np.shape(t)[1]): # loop transformations\n",
    "        KL_pt.append(KL(t[pt_idx][0],t[pt_idx][t_idx]))\n",
    "    KL_pts.append(KL_pt)\n",
    "\n",
    "KL_pts = np.asarray(KL_pts)"
   ]
  },
  {
   "cell_type": "code",
   "execution_count": 29,
   "metadata": {},
   "outputs": [
    {
     "data": {
      "text/plain": [
       "(10000, 6)"
      ]
     },
     "execution_count": 29,
     "metadata": {},
     "output_type": "execute_result"
    }
   ],
   "source": [
    "KL_pts.shape"
   ]
  },
  {
   "cell_type": "code",
   "execution_count": 30,
   "metadata": {},
   "outputs": [
    {
     "name": "stdout",
     "output_type": "stream",
     "text": [
      "[[1.         0.26280444 0.26596132 0.25031214 0.27119816]\n",
      " [0.26280444 1.         0.2473341  0.24702875 0.26464346]\n",
      " [0.26596132 0.2473341  1.         0.25674579 0.23756226]\n",
      " [0.25031214 0.24702875 0.25674579 1.         0.25123561]\n",
      " [0.27119816 0.26464346 0.23756226 0.25123561 1.        ]]\n"
     ]
    },
    {
     "name": "stderr",
     "output_type": "stream",
     "text": [
      "/opt/conda/envs/python36/lib/python3.6/site-packages/numpy/lib/function_base.py:3183: RuntimeWarning: invalid value encountered in true_divide\n",
      "  c /= stddev[:, None]\n",
      "/opt/conda/envs/python36/lib/python3.6/site-packages/numpy/lib/function_base.py:3184: RuntimeWarning: invalid value encountered in true_divide\n",
      "  c /= stddev[None, :]\n"
     ]
    },
    {
     "data": {
      "image/png": "[encoded data removed]",
      "text/plain": [
       "<Figure size 432x288 with 2 Axes>"
      ]
     },
     "metadata": {},
     "output_type": "display_data"
    }
   ],
   "source": [
    "c = np.corrcoef(KL_pts.T)\n",
    "c = c[1:,1:]\n",
    "plt.imshow(c, vmin=0, vmax=.6, cmap='rainbow')\n",
    "plt.xticks(np.arange(len(t_names[1:])),t_names[1:], rotation=45)\n",
    "plt.yticks(np.arange(len(t_names[1:])),t_names[1:])\n",
    "plt.colorbar()\n",
    "print(c)"
   ]
  },
  {
   "cell_type": "code",
   "execution_count": 31,
   "metadata": {},
   "outputs": [
    {
     "data": {
      "text/plain": [
       "Text(0.5,1,'Mean probability to have a correct prediction in class')"
      ]
     },
     "execution_count": 31,
     "metadata": {},
     "output_type": "execute_result"
    },
    {
     "data": {
      "image/png": "[encoded data removed]",
      "text/plain": [
       "<Figure size 432x288 with 1 Axes>"
      ]
     },
     "metadata": {},
     "output_type": "display_data"
    }
   ],
   "source": [
    "# get mean proba in all \n",
    "proba_correct = model_mlp.predict(x_test)[:,1]  # probability to have a correct prediction\n",
    "\n",
    "av_p = []\n",
    "\n",
    "for i in range(10):\n",
    "    av_p_i = np.mean(proba_correct[y_test_all[ind_test]==i])\n",
    "    av_p.append(av_p_i)\n",
    "\n",
    "\n",
    "plt.bar(range(10), av_p)\n",
    "plt.xticks(range(10))\n",
    "plt.title(\"Mean probability to have a correct prediction in class\")\n"
   ]
  },
  {
   "cell_type": "code",
   "execution_count": 32,
   "metadata": {},
   "outputs": [
    {
     "name": "stdout",
     "output_type": "stream",
     "text": [
      "Mean accuracy: 94.87 %\n",
      "Std accuracy: 16.64 %\n",
      "87.85% of all predictions made with an accuracy higher than 0.95%\n"
     ]
    },
    {
     "data": {
      "text/plain": [
       "Text(0.5,1,'Mean certainty by Network')"
      ]
     },
     "execution_count": 32,
     "metadata": {},
     "output_type": "execute_result"
    },
    {
     "data": {
      "image/png": "[encoded data removed]",
      "text/plain": [
       "<Figure size 432x288 with 1 Axes>"
      ]
     },
     "metadata": {},
     "output_type": "display_data"
    }
   ],
   "source": [
    "# for comparison: mean margin by network\n",
    "# make prodictions for class unseen during training\n",
    "y_pred = model.predict(x_test_all)\n",
    "y_pred_label = np.argmax(y_pred, axis = 1);\n",
    "\n",
    "for i in range(label_to_remove, 9):\n",
    "    y_pred_label[y_pred_label == i] = (i+1)\n",
    "\n",
    "c = []\n",
    "for i in range(len(y_pred_label)):\n",
    "    y_probas = np.sort(y_pred[i])  # probabilities for one image\n",
    "    c.append(y_probas[-1]-y_probas[-2])  # margin\n",
    "\n",
    "    \n",
    "pred_acc_mean = np.mean(c)\n",
    "pred_acc_std = np.std(c)\n",
    "    \n",
    "print(\"Mean accuracy: %.2f %%\" % (pred_acc_mean*100) )\n",
    "print(\"Std accuracy: %.2f %%\" % (pred_acc_std*100) )\n",
    "\n",
    "c = np.asarray(c)\n",
    "pred_acc_high = .95 # 95 % is considered a very high confidence\n",
    "\n",
    "\n",
    "pct = np.round(len(c[c>pred_acc_high])/len(c),4)*100\n",
    "\n",
    "print(\"%.2f%% of all predictions made with an accuracy higher than %.2f%%\" % (pct, pred_acc_high))\n",
    "\n",
    "# get mean proba in all \n",
    "av_p = []\n",
    "\n",
    "for i in range(10):\n",
    "    av_p_i = np.mean(c[y_test_all==i])\n",
    "    av_p.append(av_p_i)\n",
    "\n",
    "\n",
    "plt.bar(range(10), av_p)\n",
    "plt.xticks(range(10))\n",
    "plt.title(\"Mean certainty by Network\")"
   ]
  },
  {
   "cell_type": "code",
   "execution_count": null,
   "metadata": {},
   "outputs": [],
   "source": []
  }
 ],
 "metadata": {
  "kernelspec": {
   "display_name": "Python 3",
   "language": "python",
   "name": "python3"
  },
  "language_info": {
   "codemirror_mode": {
    "name": "ipython",
    "version": 3
   },
   "file_extension": ".py",
   "mimetype": "text/x-python",
   "name": "python",
   "nbconvert_exporter": "python",
   "pygments_lexer": "ipython3",
   "version": "3.6.4"
  },
  "widgets": {
   "state": {},
   "version": "1.1.2"
  }
 },
 "nbformat": 4,
 "nbformat_minor": 2
}
