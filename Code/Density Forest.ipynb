{
 "cells": [
  {
   "cell_type": "markdown",
   "metadata": {},
   "source": [
    "# Density Tree for N-dimensional data and labels\n",
    "The code below implements a **density** tree for non-labelled data."
   ]
  },
  {
   "cell_type": "markdown",
   "metadata": {},
   "source": [
    "## Libraries\n",
    "First, some libraries are loaded and global figure settings are made for exporting."
   ]
  },
  {
   "cell_type": "code",
   "execution_count": 3,
   "metadata": {},
   "outputs": [],
   "source": [
    "import numpy as np\n",
    "import matplotlib.pyplot as plt\n",
    "import os\n",
    "from tqdm import tqdm\n",
    "from IPython.core.display import Image, display\n",
    "\n",
    "# Custom Libraries\n",
    "from density_tree.density_forest import *\n",
    "from density_tree.density_tree_create import *\n",
    "from density_tree.density_tree_traverse import *\n",
    "from density_tree.create_data import *\n",
    "from density_tree.helpers import *\n",
    "from density_tree.plots import *"
   ]
  },
  {
   "cell_type": "markdown",
   "metadata": {},
   "source": [
    "# Generate Data\n",
    "\n",
    "First, let's generate some unlabelled data:\n"
   ]
  },
  {
   "cell_type": "code",
   "execution_count": 58,
   "metadata": {},
   "outputs": [
    {
     "data": {
      "image/png": "[encoded data removed]",
      "text/plain": [
       "<Figure size 576x432 with 1 Axes>"
      ]
     },
     "metadata": {},
     "output_type": "display_data"
    }
   ],
   "source": [
    "d_id = 1 # dataset\n",
    "dimensions = 2\n",
    "\n",
    "\n",
    "# Dataset 1: Random Points\n",
    "if d_id == 1:\n",
    "    nclusters = 4\n",
    "    covariance = 5\n",
    "    npoints = 1200\n",
    "    margin = 20  # for plots\n",
    "    minRange = 0\n",
    "    maxRange = 100\n",
    "\n",
    "    dataset = create_data(nclusters, dimensions, covariance, npoints, minrange=minRange, maxrange=maxRange,\n",
    "                          labelled=False, random_flip=True, nonlinearities=True)\n",
    "\n",
    "    if dimensions == 2:\n",
    "        fig, ax = plt.subplots(1, 1)\n",
    "        fig.set_size_inches(8,6)\n",
    "        plot_data(draw_subsamples(dataset, .1), ax, labels=False, minrange=minRange, maxrange=maxRange, margin=30)\n",
    "        plt.axis('off')\n",
    "        plt.savefig(\"../Figures/density_tree/D\" + str(d_id) + \"_data.pdf\", bbox_inches='tight', pad_inches=0)\n",
    "\n",
    "        plt.show()\n",
    "\n",
    "# Dataset 2: Fermat Spiral        \n",
    "elif d_id==2:\n",
    "    margin = 0  # for plots\n",
    "    n_points = 1000\n",
    "    theta = np.linspace(np.pi/50,7*np.pi/16,n_points)\n",
    "    divergence = 0.05\n",
    "\n",
    "    a = np.random.uniform(1-divergence,1+divergence,n_points)\n",
    "\n",
    "    x = a*np.sqrt(theta)*np.cos(theta)\n",
    "    y = a*np.sqrt(theta)*np.sin(theta)\n",
    "\n",
    "    n_spirals = 4\n",
    "    for i in range(1,5):\n",
    "        x_, y_ = rotate([0,0],[x,y],i*2*np.pi/n_spirals)\n",
    "        x = np.concatenate((x,x_))\n",
    "        y = np.concatenate((y,y_))\n",
    "    \n",
    "    fig = plt.figure(figsize=(5,5))\n",
    "    ax = fig.add_axes([0, 0, 1, 1])\n",
    "    ax.axis('off')\n",
    "    subset = draw_subsamples(np.array([x,y]).T, .1)\n",
    "    ax.scatter(subset[...,0],subset[...,1], marker='.')\n",
    "    plt.savefig(\"../Figures/density_tree/D\" + str(d_id) + \"_data.pdf\", bbox_inches='tight', pad_inches=0)\n",
    "    \n",
    "    # save as new dataset\n",
    "    dataset = np.asarray([x,y]).T\n",
    "    minRange = np.min(x)\n",
    "    maxRange = np.max(x)\n",
    "    \n",
    "# Dataset 3: S-shape\n",
    "elif d_id==3:\n",
    "    n_points = 300\n",
    "    margin = 0  # for plots\n",
    "    theta = np.linspace(np.pi/4,6*np.pi/4,n_points)\n",
    "    divergence = 0.05\n",
    "    a = np.random.uniform(1-divergence,1+divergence,n_points)\n",
    "\n",
    "    x = a*np.sqrt(theta)*np.sin(theta)\n",
    "    y = a*np.sqrt(theta)*np.cos(theta)*x\n",
    "\n",
    "\n",
    "    fig = plt.figure(figsize=(5,5))\n",
    "    ax = fig.add_axes([0, 0, 1, 1])\n",
    "    ax.axis('off')\n",
    "    subset = draw_subsamples(np.array([x,y]).T, .1)\n",
    "    ax.scatter(subset[...,0],subset[...,1], marker='.')\n",
    "    plt.savefig(\"../Figures/density_tree/D\" + str(d_id) + \"_data.pdf\", bbox_inches='tight', pad_inches=0)\n",
    "    \n",
    "    # save as new dataset\n",
    "    dataset = np.asarray([x,y]).T\n",
    "    minRange = np.min([np.min(x),np.min(y)])\n",
    "    maxRange = np.max([np.max(x),np.max(y)])"
   ]
  },
  {
   "cell_type": "code",
   "execution_count": 59,
   "metadata": {},
   "outputs": [
    {
     "data": {
      "application/vnd.jupyter.widget-view+json": {
       "model_id": "b116dd5ae810469cb1014dcb2d4f3b2e",
       "version_major": 2,
       "version_minor": 0
      },
      "text/html": [
       "<p>Failed to display Jupyter Widget of type <code>interactive</code>.</p>\n",
       "<p>\n",
       "  If you're reading this message in the Jupyter Notebook or JupyterLab Notebook, it may mean\n",
       "  that the widgets JavaScript is still loading. If this message persists, it\n",
       "  likely means that the widgets JavaScript library is either not installed or\n",
       "  not enabled. See the <a href=\"https://ipywidgets.readthedocs.io/en/stable/user_install.html\">Jupyter\n",
       "  Widgets Documentation</a> for setup instructions.\n",
       "</p>\n",
       "<p>\n",
       "  If you're reading this message in another frontend (for example, a static\n",
       "  rendering on GitHub or <a href=\"https://nbviewer.jupyter.org/\">NBViewer</a>),\n",
       "  it may mean that your frontend doesn't currently support widgets.\n",
       "</p>\n"
      ],
      "text/plain": [
       "interactive(children=(IntSlider(value=2480, description='begin', max=5000, min=-20, step=20), IntSlider(value=2500, description='end', max=5000, step=20), Output()), _dom_classes=('widget-interact',))"
      ]
     },
     "metadata": {},
     "output_type": "display_data"
    },
    {
     "data": {
      "text/plain": [
       "<function __main__.fig>"
      ]
     },
     "execution_count": 59,
     "metadata": {},
     "output_type": "execute_result"
    }
   ],
   "source": [
    "from ipywidgets import interact, FloatSlider\n",
    "def fig(begin, end):\n",
    "    ind = np.arange(begin,end)\n",
    "    plt.scatter(dataset[ind,0],dataset[ind,1])\n",
    "    plt.title(\"Entropy: %.3f\" % entropy_gaussian(dataset[ind]))\n",
    "\n",
    "\n",
    "min_ = 0\n",
    "max_ = 5000\n",
    "step_= 20\n",
    "# max_ = len(dataset)\n",
    "interact(fig,begin=(min_-step_,max_,step_),end=(min_,max_,step_))\n"
   ]
  },
  {
   "cell_type": "markdown",
   "metadata": {},
   "source": [
    "#### Create single Density Tree"
   ]
  },
  {
   "cell_type": "code",
   "execution_count": 60,
   "metadata": {},
   "outputs": [],
   "source": [
    "def get_values_preorder(node, cut_dims, cut_vals):\n",
    "    cut_dims.append(node.split_dimension)\n",
    "    cut_vals.append(node.split_value)\n",
    "    if node.left is not None:\n",
    "        get_values_preorder(node.left, cut_dims, cut_vals)\n",
    "    if node.right is not None:\n",
    "        get_values_preorder(node.right, cut_dims, cut_vals)\n",
    "    return cut_vals, cut_dims\n",
    "\n",
    "def plot_clusters_node(node, side):\n",
    "    if side == 'l' or side is None:\n",
    "        subset_dataset = node.get_dataset('l',dataset)\n",
    "        plt.scatter(subset_dataset[:,0],subset_dataset[:,1])\n",
    "    if side == 'r' or side is None:\n",
    "        subset_dataset = node.get_dataset('r',dataset)\n",
    "        plt.scatter(subset_dataset[:,0],subset_dataset[:,1])\n",
    "\n",
    "\n",
    "    if node.parent is not None:\n",
    "        if node.parent.left == node:\n",
    "            plot_clusters_node(node.parent, 'r')\n",
    "        else:\n",
    "            plot_clusters_node(node.parent, 'l')\n",
    "            \n",
    "def plot_splits(dataset, root):\n",
    "    cut_vals, cut_dims = get_values_preorder(root, [], [])\n",
    "    cut_vals = np.asarray(cut_vals).astype(float)\n",
    "    cut_dims = np.asarray(cut_dims).astype(int)\n",
    "\n",
    "    # show splits\n",
    "    x_split = cut_vals[cut_dims == 0]\n",
    "    y_split = cut_vals[cut_dims == 1]\n",
    "    \n",
    "    fig, ax = plt.subplots(1, 1, figsize=(7,7))\n",
    "    plot_data(dataset, ax, title=\"Training data after splitting\", labels=False, lines_x=x_split, lines_y=y_split,\n",
    "              minrange=minRange, maxrange=maxRange, margin=margin)\n",
    "\n",
    "    %clear\n",
    "    plt.axis('off')\n",
    "    plt.show()\n",
    "\n",
    "    \n",
    "def plot_ellipses(dataset, root, covs, means, ax, subsample_pct=.05):\n",
    "    plot_data(draw_subsamples(dataset, subsample_pct), ax, \"Unlabelled data\", labels=False, n_clusters=5, covs=covs, means=means,\n",
    "              minrange = minRange, maxrange = maxRange, margin=margin)\n",
    "    #plt.savefig(\"../Figures/density_tree/unlabelled-data-cov.pdf\", bbox_inches='tight', pad_inches=5)\n",
    "    #plt.axis('off')"
   ]
  },
  {
   "cell_type": "code",
   "execution_count": 61,
   "metadata": {},
   "outputs": [
    {
     "name": "stdout",
     "output_type": "stream",
     "text": [
      "Dataset size: 4800\n",
      "Minimum number of points in each leaf: 144\n"
     ]
    },
    {
     "data": {
      "image/png": "[encoded data removed]",
      "text/plain": [
       "<Figure size 576x576 with 1 Axes>"
      ]
     },
     "metadata": {},
     "output_type": "display_data"
    }
   ],
   "source": [
    "max_depth = 5\n",
    "fact_improvement = .5\n",
    "min_subset = 0.03\n",
    "n_dim_max = 0\n",
    "\n",
    "print(\"Dataset size: %i\" % int(len(dataset)))\n",
    "print(\"Minimum number of points in each leaf: %i\" % int(len(dataset) * min_subset))\n",
    "\n",
    "root = create_density_tree(dataset, max_depth=max_depth, min_subset=min_subset, n_max_dim=n_dim_max, \n",
    "                           verbose=False, fact_improvement=fact_improvement)\n",
    "\n",
    "covs, means = get_clusters(root, [], [])    \n",
    "fig, ax = plt.subplots(1, 1)\n",
    "fig.set_size_inches(8,8)\n",
    "plot_ellipses(dataset, root, covs, means, ax, subsample_pct=.05)\n",
    "ax.set_title(\"\")\n",
    "plt.axis('off')\n",
    "plt.savefig(\"../Figures/density_tree/D\" + str(d_id) + \"_data-covs.pdf\", bbox_inches='tight', pad_inches=0)\n",
    "plt.show()"
   ]
  },
  {
   "cell_type": "code",
   "execution_count": 62,
   "metadata": {},
   "outputs": [],
   "source": [
    "def get_covs_means_depth(node, depth, means, covs):\n",
    "    \"\"\"get covs and means of a tree at a certain depth\"\"\"\n",
    "    if node.get_depth() == depth:\n",
    "        means.append(node.mean)\n",
    "        covs.append(node.cov)\n",
    "    if node.get_depth() <= depth and node.right is None:\n",
    "        means.append(node.right_mean)\n",
    "        covs.append(node.right_cov)\n",
    "\n",
    "    if node.get_depth() <= depth and node.left is None:\n",
    "        means.append(node.left_mean)\n",
    "        covs.append(node.left_cov)\n",
    "        \n",
    "    if node.left is not None:\n",
    "        means, covs =  get_covs_means_depth(node.left, depth, means, covs)\n",
    "\n",
    "    if node.right is not None:\n",
    "        means, covs = get_covs_means_depth(node.right, depth, means, covs)\n",
    "    \n",
    "    return means, covs    "
   ]
  },
  {
   "cell_type": "code",
   "execution_count": 63,
   "metadata": {},
   "outputs": [
    {
     "data": {
      "image/png": "[encoded data removed]",
      "text/plain": [
       "<Figure size 1080x576 with 8 Axes>"
      ]
     },
     "metadata": {},
     "output_type": "display_data"
    }
   ],
   "source": [
    "fig, axes = plt.subplots(2, 4)\n",
    "fig.set_size_inches(15,8)\n",
    "\n",
    "for i in range(1,5):\n",
    "    means, covs = get_covs_means_depth(root,i,[],[])\n",
    "    plot_ellipses(dataset, root, covs, means, axes[0][i-1])\n",
    "    \n",
    "for i in range(5,9):\n",
    "    means, covs = get_covs_means_depth(root,i,[],[])\n",
    "    plot_ellipses(dataset, root, covs, means, axes[1][i-5])"
   ]
  },
  {
   "cell_type": "markdown",
   "metadata": {},
   "source": [
    "# Printing the Tree"
   ]
  },
  {
   "cell_type": "code",
   "execution_count": 64,
   "metadata": {},
   "outputs": [],
   "source": [
    "# ATTENTION: requires LaTeX, imagemagick to be installed\n",
    "\n",
    "def tree_visualize(root):\n",
    "    tree_string = \"\"\n",
    "    tree_string = print_density_tree_latex(root, tree_string)\n",
    "    cdir = \"cd ../Figures/density_tree;\"\n",
    "    \n",
    "    os.system(cdir + \"rm density-tree.tex\")\n",
    "    os.system(cdir + \"more main_pt1.tex >> density-tree.tex; echo '' >> density-tree.tex;\")\n",
    "    os.system(cdir + \"echo '\" + tree_string + \"' >> density-tree.tex;  more main_pt2.tex >> density-tree.tex;\")\n",
    "    os.system(cdir + \"/Library/TeX/texbin/pdflatex density-tree.tex\")\n",
    "    os.system(cdir + \"convert -density 300 -trim density-tree.pdf -quality 100 density-tree.png\")\n",
    "    os.system(cdir + \"rm *.aux *.log\")\n",
    "    #display(Image('../Figures/density_tree/density-tree.png', retina=True))\n",
    "    \n",
    "tree_visualize(root)"
   ]
  },
  {
   "cell_type": "code",
   "execution_count": 65,
   "metadata": {},
   "outputs": [],
   "source": [
    "from scipy.stats import multivariate_normal\n",
    "\n",
    "# loop\n",
    "def create_plot_surface(minRange, maxRange, roots, n_points_dim=100, standardize=False, thresh=.01):\n",
    "    \"\"\"thresh: pct of data in each leaf node\"\"\"\n",
    "    grid = np.linspace(minRange, maxRange, n_points_dim)\n",
    "    probas_out = np.zeros((n_points_dim,n_points_dim))\n",
    "\n",
    "    \n",
    "    for idx_x, pt in tqdm(enumerate(grid)):\n",
    "        for idx_y, g in enumerate(grid):\n",
    "            proba_pt=[]\n",
    "            for root in roots:\n",
    "                # descend tree\n",
    "                d_mean, d_pct, d_pdf_mean, d_cov_det, d_cov_inv = descend_density_tree([pt, g], root)\n",
    "                # probability for this point to be from this distribution\n",
    "                if d_pct>thresh:\n",
    "                    try:\n",
    "                        mn = my_normal(np.asarray([pt, g]), d_mean, d_cov_det, d_cov_inv)\n",
    "                        if standardize: \n",
    "                            mn /= d_pdf_mean\n",
    "                        proba_pt.append(mn)\n",
    "                    except:\n",
    "                        proba_pt.append(np.nan)\n",
    "\n",
    "                \n",
    "            probas_out[idx_x, idx_y] = np.nanmean(proba_pt)\n",
    "\n",
    "    return probas_out\n",
    "    fig = plt.figure(figsize=(7,7))\n",
    "    plt.imshow(probas_out)"
   ]
  },
  {
   "cell_type": "code",
   "execution_count": 66,
   "metadata": {},
   "outputs": [
    {
     "name": "stderr",
     "output_type": "stream",
     "text": [
      "150it [00:01, 117.62it/s]\n"
     ]
    }
   ],
   "source": [
    "probas = create_plot_surface(minRange-margin, maxRange+margin, [root], n_points_dim=150, standardize=False, thresh=0)\n",
    "probas = np.flipud(probas.T)"
   ]
  },
  {
   "cell_type": "code",
   "execution_count": 67,
   "metadata": {},
   "outputs": [
    {
     "data": {
      "image/png": "[encoded data removed]",
      "text/plain": [
       "<Figure size 504x504 with 1 Axes>"
      ]
     },
     "metadata": {},
     "output_type": "display_data"
    }
   ],
   "source": [
    "fig = plt.figure(figsize=(7,7))\n",
    "plt.imshow(1-probas, cmap='bone')\n",
    "plt.axis('off')\n",
    "plt.savefig(\"../Figures/density_tree/D\" + str(d_id) + \"_one_tree.pdf\", bbox_inches='tight', pad_inches=0)\n",
    "plt.show()"
   ]
  },
  {
   "cell_type": "markdown",
   "metadata": {
    "collapsed": true
   },
   "source": [
    "#### Density Forest"
   ]
  },
  {
   "cell_type": "code",
   "execution_count": 68,
   "metadata": {},
   "outputs": [
    {
     "name": "stdout",
     "output_type": "stream",
     "text": [
      "Number of points on which to train each tree: 960\n",
      "Minimum number of points in each leaf: 48\n"
     ]
    },
    {
     "name": "stderr",
     "output_type": "stream",
     "text": [
      "[Parallel(n_jobs=40)]: Done   4 out of  20 | elapsed:    1.9s remaining:    7.5s\n"
     ]
    },
    {
     "name": "stdout",
     "output_type": "stream",
     "text": [
      "Number of created root nodes: 20\n",
      "Mean number of clusters created per tree: 30\n"
     ]
    },
    {
     "name": "stderr",
     "output_type": "stream",
     "text": [
      "[Parallel(n_jobs=40)]: Done  20 out of  20 | elapsed:    2.2s finished\n"
     ]
    }
   ],
   "source": [
    "n_trees = 20\n",
    "subsample_pct = .2\n",
    "min_subset = .05\n",
    "n_jobs = -1\n",
    "n_max_dim = -1\n",
    "\n",
    "root_nodes = density_forest_create(dataset, max_depth=max_depth, min_subset=min_subset, \n",
    "                                   n_trees=n_trees, subsample_pct=subsample_pct, n_max_dim=n_max_dim, \n",
    "                                   n_jobs=n_jobs, fact_improvement=fact_improvement)"
   ]
  },
  {
   "cell_type": "code",
   "execution_count": 69,
   "metadata": {},
   "outputs": [],
   "source": [
    "root_nodes = np.asarray(root_nodes)\n",
    "root_nodes = root_nodes[np.not_equal(root_nodes, None)]"
   ]
  },
  {
   "cell_type": "code",
   "execution_count": 70,
   "metadata": {},
   "outputs": [
    {
     "name": "stderr",
     "output_type": "stream",
     "text": [
      "150it [00:07, 21.14it/s]\n"
     ]
    },
    {
     "data": {
      "text/plain": [
       "<matplotlib.colorbar.Colorbar at 0x7f91ec36d048>"
      ]
     },
     "execution_count": 70,
     "metadata": {},
     "output_type": "execute_result"
    },
    {
     "data": {
      "image/png": "[encoded data removed]",
      "text/plain": [
       "<Figure size 504x504 with 2 Axes>"
      ]
     },
     "metadata": {},
     "output_type": "display_data"
    }
   ],
   "source": [
    "probas = create_plot_surface(minRange-margin, maxRange+margin, root_nodes, n_points_dim=150, standardize=False, thresh=0)\n",
    "probas = np.flipud(probas.T)\n",
    "\n",
    "fig = plt.figure(figsize=(7,7))\n",
    "plt.imshow(1-probas, cmap='gray')\n",
    "plt.axis('off')\n",
    "plt.savefig(\"../Figures/density_tree/D\" + str(d_id) + \"_DF_forest.pdf\", bbox_inches='tight', pad_inches=0)\n",
    "plt.colorbar()"
   ]
  },
  {
   "cell_type": "code",
   "execution_count": 71,
   "metadata": {},
   "outputs": [
    {
     "name": "stderr",
     "output_type": "stream",
     "text": [
      "150it [00:07, 21.02it/s]\n"
     ]
    },
    {
     "data": {
      "text/plain": [
       "<matplotlib.colorbar.Colorbar at 0x7f91ec3aa6d8>"
      ]
     },
     "execution_count": 71,
     "metadata": {},
     "output_type": "execute_result"
    },
    {
     "data": {
      "image/png": "[encoded data removed]",
      "text/plain": [
       "<Figure size 504x504 with 2 Axes>"
      ]
     },
     "metadata": {},
     "output_type": "display_data"
    }
   ],
   "source": [
    "# standardized version\n",
    "probas = create_plot_surface(minRange-margin, maxRange+margin, root_nodes, n_points_dim=150, standardize=True, thresh=.001)\n",
    "probas = np.flipud(probas.T)\n",
    "\n",
    "fig = plt.figure(figsize=(7,7))\n",
    "plt.imshow(1-probas, cmap='gray')\n",
    "plt.axis('off')\n",
    "plt.savefig(\"../Figures/density_tree/D\" + str(d_id) + \"_DF_stand.pdf\", bbox_inches='tight', pad_inches=0)\n",
    "plt.colorbar()"
   ]
  },
  {
   "cell_type": "code",
   "execution_count": null,
   "metadata": {},
   "outputs": [],
   "source": []
  }
 ],
 "metadata": {
  "kernelspec": {
   "display_name": "Python 3",
   "language": "python",
   "name": "python3"
  },
  "language_info": {
   "codemirror_mode": {
    "name": "ipython",
    "version": 3
   },
   "file_extension": ".py",
   "mimetype": "text/x-python",
   "name": "python",
   "nbconvert_exporter": "python",
   "pygments_lexer": "ipython3",
   "version": "3.6.4"
  },
  "widgets": {
   "state": {},
   "version": "1.1.2"
  }
 },
 "nbformat": 4,
 "nbformat_minor": 2
}
