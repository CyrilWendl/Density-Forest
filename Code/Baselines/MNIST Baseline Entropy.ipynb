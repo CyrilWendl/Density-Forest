{
 "cells": [
  {
   "cell_type": "markdown",
   "metadata": {},
   "source": [
    "# MNIST Baselines: Dropout"
   ]
  },
  {
   "cell_type": "code",
   "execution_count": 1,
   "metadata": {},
   "outputs": [
    {
     "name": "stderr",
     "output_type": "stream",
     "text": [
      "/opt/conda/envs/python36/lib/python3.6/site-packages/h5py/__init__.py:36: FutureWarning: Conversion of the second argument of issubdtype from `float` to `np.floating` is deprecated. In future, it will be treated as `np.float64 == np.dtype(float).type`.\n",
      "  from ._conv import register_converters as _register_converters\n",
      "Using TensorFlow backend.\n",
      "/opt/conda/envs/python36/lib/python3.6/site-packages/sklearn/cross_validation.py:41: DeprecationWarning: This module was deprecated in version 0.18 in favor of the model_selection module into which all the refactored classes and functions are moved. Also note that the interface of the new CV iterators are different from that of this module. This module will be removed in 0.20.\n",
      "  \"This module will be removed in 0.20.\", DeprecationWarning)\n"
     ]
    },
    {
     "name": "stdout",
     "output_type": "stream",
     "text": [
      "[name: \"/device:CPU:0\"\n",
      "device_type: \"CPU\"\n",
      "memory_limit: 268435456\n",
      "locality {\n",
      "}\n",
      "incarnation: 7624388650991706494\n",
      ", name: \"/device:GPU:0\"\n",
      "device_type: \"GPU\"\n",
      "memory_limit: 10967082599\n",
      "locality {\n",
      "  bus_id: 2\n",
      "}\n",
      "incarnation: 8511222360229523021\n",
      "physical_device_desc: \"device: 0, name: GeForce GTX 1080 Ti, pci bus id: 0000:83:00.0, compute capability: 6.1\"\n",
      "]\n"
     ]
    }
   ],
   "source": [
    "from __future__ import print_function\n",
    "import keras\n",
    "from keras.datasets import mnist\n",
    "from keras.models import Sequential, load_model\n",
    "from keras.layers import Dense, Dropout, Flatten\n",
    "from keras.layers import Conv2D, MaxPooling2D\n",
    "from keras import utils as np_utils\n",
    "from sklearn import metrics\n",
    "from sklearn.cross_validation import train_test_split\n",
    "import numpy as np\n",
    "from scipy.stats import entropy as e\n",
    "\n",
    "# choose GPUs\n",
    "import os\n",
    "os.environ[\"CUDA_DEVICE_ORDER\"] = \"PCI_BUS_ID\"\n",
    "os.environ[\"CUDA_VISIBLE_DEVICES\"] = \"3\"\n",
    "\n",
    "from tensorflow.python.client import device_lib\n",
    "print(device_lib.list_local_devices())\n",
    "\n",
    "# custom libraries\n",
    "# meta-Parameters\n",
    "#base_dir = '/Users/cyrilwendl/Documents/EPFL'  # for local machine\n",
    "base_dir = '/raid/home/cwendl'  # for guanabana\n",
    "import sys\n",
    "sys.path.append(base_dir + '/SIE-Master/Zurich') # Path to density Tree package\n",
    "sys.path.append(base_dir + '/SIE-Master/Code') # Path to density Tree package\n",
    "\n",
    "# import libraries\n",
    "from baselines.helpers import *\n",
    "from baselines.plots import *\n",
    "from helpers.data_augment import *\n",
    "from helpers.helpers import get_y_pred_labels, get_accuracy_probas\n",
    "from helpers.plots import *"
   ]
  },
  {
   "cell_type": "markdown",
   "metadata": {},
   "source": [
    "# Data Import \n",
    "Import the data, delete all data in the training set of class 7\n"
   ]
  },
  {
   "cell_type": "code",
   "execution_count": 2,
   "metadata": {},
   "outputs": [
    {
     "name": "stdout",
     "output_type": "stream",
     "text": [
      "(array([0, 1, 2, 3, 4, 5, 6, 7, 8, 9], dtype=uint8), array([5923, 6742, 5958, 6131, 5842, 5421, 5918, 6265, 5851, 5949]))\n",
      "(array([0, 1, 2, 3, 4, 5, 6, 7, 8], dtype=uint8), array([5923, 6742, 5958, 6131, 5842, 5421, 5918, 5851, 5949]))\n"
     ]
    }
   ],
   "source": [
    "# adapted from Source: https://github.com/keras-team/keras/tree/master/examples\n",
    "\n",
    "# the data, shuffled and split between train and test sets\n",
    "(x_train, y_train), (x_test_all, y_test_all) = mnist.load_data()\n",
    "print(np.unique(y_train, return_counts=True))\n",
    "\n",
    "label_to_remove = 7\n",
    "\n",
    "# remove all trainig samples containing a label label_to_remove\n",
    "x_train = x_train[y_train!=label_to_remove]\n",
    "y_train = y_train[y_train!=label_to_remove]\n",
    "    \n",
    "x_test = x_test_all[y_test_all!=label_to_remove]\n",
    "y_test = y_test_all[y_test_all!=label_to_remove]\n",
    "\n",
    "# decrease all labels that are higher by -1 to avoid gaps\n",
    "for i in range(label_to_remove+1, 11):\n",
    "    y_train[y_train == i] = (i-1)\n",
    "    y_test[y_test == i] = (i-1)\n",
    "print(np.unique(y_train, return_counts=True))"
   ]
  },
  {
   "cell_type": "code",
   "execution_count": 3,
   "metadata": {},
   "outputs": [
    {
     "name": "stdout",
     "output_type": "stream",
     "text": [
      "x_train shape: (53735, 28, 28, 1)\n",
      "53735 train samples\n",
      "8972 test samples\n"
     ]
    }
   ],
   "source": [
    "batch_size = 128\n",
    "num_classes = 9\n",
    "epochs = 5\n",
    "\n",
    "# input image dimensions\n",
    "img_rows, img_cols = 28, 28\n",
    "\n",
    "# Reshape for Tensorflow\n",
    "x_train = x_train.reshape(x_train.shape[0], img_rows, img_cols, 1)\n",
    "x_test = x_test.reshape(x_test.shape[0], img_rows, img_cols, 1)\n",
    "x_test_all = x_test_all.reshape(x_test_all.shape[0], img_rows, img_cols, 1)\n",
    "input_shape = (img_rows, img_cols, 1)\n",
    "\n",
    "x_train = x_train.astype('float32')\n",
    "x_test = x_test.astype('float32')\n",
    "x_test_all = x_test_all.astype('float32')\n",
    "x_train /= 255\n",
    "x_test /= 255\n",
    "x_test_all /= 255\n",
    "print('x_train shape:', x_train.shape)\n",
    "print(x_train.shape[0], 'train samples')\n",
    "print(x_test.shape[0], 'test samples')\n",
    "\n",
    "# convert class vectors to binary class matrices\n",
    "y_train = np_utils.np_utils.to_categorical(y_train, num_classes)\n",
    "y_test = np_utils.np_utils.to_categorical(y_test, num_classes)"
   ]
  },
  {
   "cell_type": "code",
   "execution_count": 4,
   "metadata": {},
   "outputs": [
    {
     "name": "stdout",
     "output_type": "stream",
     "text": [
      "_________________________________________________________________\n",
      "Layer (type)                 Output Shape              Param #   \n",
      "=================================================================\n",
      "conv2d_1 (Conv2D)            (None, 26, 26, 32)        320       \n",
      "_________________________________________________________________\n",
      "conv2d_2 (Conv2D)            (None, 24, 24, 64)        18496     \n",
      "_________________________________________________________________\n",
      "max_pooling2d_1 (MaxPooling2 (None, 12, 12, 64)        0         \n",
      "_________________________________________________________________\n",
      "dropout_1 (Dropout)          (None, 12, 12, 64)        0         \n",
      "_________________________________________________________________\n",
      "flatten_1 (Flatten)          (None, 9216)              0         \n",
      "_________________________________________________________________\n",
      "dense_1 (Dense)              (None, 128)               1179776   \n",
      "_________________________________________________________________\n",
      "dropout_2 (Dropout)          (None, 128)               0         \n",
      "_________________________________________________________________\n",
      "dense_2 (Dense)              (None, 9)                 1161      \n",
      "=================================================================\n",
      "Total params: 1,199,753\n",
      "Trainable params: 1,199,753\n",
      "Non-trainable params: 0\n",
      "_________________________________________________________________\n",
      "None\n"
     ]
    }
   ],
   "source": [
    "model = Sequential()\n",
    "model.add(Conv2D(32, kernel_size=(3, 3),\n",
    "                 activation='relu',\n",
    "                 input_shape=input_shape))\n",
    "model.add(Conv2D(64, (3, 3), activation='relu'))\n",
    "model.add(MaxPooling2D(pool_size=(2, 2)))\n",
    "model.add(Dropout(0.25))\n",
    "model.add(Flatten())\n",
    "model.add(Dense(128, activation='relu'))\n",
    "model.add(Dropout(0.5))\n",
    "model.add(Dense(num_classes, activation='softmax'))\n",
    "\n",
    "model.compile(loss=keras.losses.categorical_crossentropy,\n",
    "              optimizer=keras.optimizers.Adadelta(),\n",
    "              metrics=['accuracy'])\n",
    "\n",
    "print(model.summary())\n",
    "\n",
    "model_train = False;\n",
    "if model_train:\n",
    "    model.fit(x_train, y_train,\n",
    "          batch_size=batch_size,\n",
    "          epochs=epochs,\n",
    "          verbose=1,\n",
    "          validation_data=(x_test, y_test))\n",
    "    model.save('../mnist-weights.h5')\n",
    "else :\n",
    "    model = load_model('../mnist-weights.h5')\n",
    "\n",
    "#score = model.evaluate(x_test, y_test, verbose=0)\n",
    "#print('Test loss:', score[0])\n",
    "#print('Test accuracy:', score[1])"
   ]
  },
  {
   "cell_type": "code",
   "execution_count": 5,
   "metadata": {},
   "outputs": [],
   "source": [
    "y_pred = model.predict(x_test_all)\n",
    "y_pred_label = np.argmax(y_pred, axis = 1);\n",
    "\n",
    "for i in np.flip(range(label_to_remove,9),axis=0):\n",
    "    y_pred_label[y_pred_label == i] = (i+1)"
   ]
  },
  {
   "cell_type": "code",
   "execution_count": 6,
   "metadata": {},
   "outputs": [
    {
     "name": "stdout",
     "output_type": "stream",
     "text": [
      "             precision    recall  f1-score   support\n",
      "\n",
      "          0       0.99      0.97      0.98      1001\n",
      "          1       1.00      0.95      0.98      1190\n",
      "          2       0.99      0.85      0.91      1211\n",
      "          3       0.99      0.87      0.93      1156\n",
      "          4       0.99      0.97      0.98      1006\n",
      "          5       0.99      0.98      0.99       899\n",
      "          6       0.99      0.99      0.99       955\n",
      "          7       0.00      0.00      0.00         0\n",
      "          8       0.99      0.98      0.99       982\n",
      "          9       0.98      0.62      0.76      1600\n",
      "\n",
      "avg / total       0.99      0.89      0.93     10000\n",
      "\n"
     ]
    },
    {
     "name": "stderr",
     "output_type": "stream",
     "text": [
      "/opt/conda/envs/python36/lib/python3.6/site-packages/sklearn/metrics/classification.py:1137: UndefinedMetricWarning: Recall and F-score are ill-defined and being set to 0.0 in labels with no true samples.\n",
      "  'recall', 'true', average, warn_for)\n"
     ]
    }
   ],
   "source": [
    "print(metrics.classification_report(y_pred_label,y_test_all))"
   ]
  },
  {
   "cell_type": "markdown",
   "metadata": {},
   "source": [
    "# Baseline Method\n",
    "## Confidence from Invariance to Image Transformations\n",
    "https://arxiv.org/pdf/1804.00657.pdf"
   ]
  },
  {
   "cell_type": "code",
   "execution_count": 7,
   "metadata": {},
   "outputs": [],
   "source": [
    "e_pred = np.asarray([-e(np.asarray(y_pred[i])) for i in range(len(y_pred))])"
   ]
  },
  {
   "cell_type": "code",
   "execution_count": 8,
   "metadata": {},
   "outputs": [
    {
     "name": "stdout",
     "output_type": "stream",
     "text": [
      "Av. certainty in unseen class:-0.52\n"
     ]
    },
    {
     "data": {
      "image/png": "[encoded data removed]",
      "text/plain": [
       "<Figure size 432x288 with 1 Axes>"
      ]
     },
     "metadata": {},
     "output_type": "display_data"
    }
   ],
   "source": [
    "# mean accuracy per class\n",
    "proba_correct = e_pred # probability to have a correct prediction\n",
    "\n",
    "av_p = [np.mean(proba_correct[y_test_all==i]) for i in \n",
    "        range(10)]\n",
    "\n",
    "\n",
    "plt.bar(range(10), av_p)\n",
    "plt.xticks(range(10))\n",
    "plt.title(\"Mean probability to have a correct prediction in class\")\n",
    "print(\"Av. certainty in unseen class:%.2f\"%av_p[label_to_remove])"
   ]
  },
  {
   "cell_type": "code",
   "execution_count": 9,
   "metadata": {},
   "outputs": [
    {
     "name": "stdout",
     "output_type": "stream",
     "text": [
      "Mean accuracy: 97.32 %\n",
      "Std accuracy: 9.44 %\n",
      "Av. certainty in unseen class:0.80\n"
     ]
    },
    {
     "data": {
      "image/png": "[encoded data removed]",
      "text/plain": [
       "<Figure size 432x288 with 1 Axes>"
      ]
     },
     "metadata": {},
     "output_type": "display_data"
    }
   ],
   "source": [
    "# for comparison: MSR by network\n",
    "y_pred = model.predict(x_test_all)\n",
    "\n",
    "c = np.max(y_pred, axis=-1)\n",
    "    \n",
    "pred_acc_mean = np.mean(c)\n",
    "pred_acc_std = np.std(c)\n",
    "    \n",
    "print(\"Mean accuracy: %.2f %%\" % (pred_acc_mean*100) )\n",
    "print(\"Std accuracy: %.2f %%\" % (pred_acc_std*100) )\n",
    "\n",
    "# get mean proba in all \n",
    "av_p = [np.mean(c[y_test_all==i]) for i in range(10)]\n",
    "\n",
    "plt.bar(range(10), av_p)\n",
    "plt.xticks(range(10))\n",
    "plt.title(\"Mean certainty by Network\")\n",
    "\n",
    "print(\"Av. certainty in unseen class:%.2f\"%av_p[label_to_remove])"
   ]
  },
  {
   "cell_type": "code",
   "execution_count": 17,
   "metadata": {},
   "outputs": [
    {
     "data": {
      "image/png": "[encoded data removed]",
      "text/plain": [
       "<Figure size 432x288 with 1 Axes>"
      ]
     },
     "metadata": {},
     "output_type": "display_data"
    }
   ],
   "source": [
    "# probability\n",
    "y_scores = proba_correct\n",
    "y_true = (y_pred_label == y_test_all)*1\n",
    "precision, recall, thresholds = metrics.precision_recall_curve(y_true, y_scores)\n",
    "plot_precision_recall(precision, recall)"
   ]
  },
  {
   "cell_type": "code",
   "execution_count": 18,
   "metadata": {},
   "outputs": [
    {
     "data": {
      "image/png": "[encoded data removed]",
      "text/plain": [
       "<Figure size 432x288 with 1 Axes>"
      ]
     },
     "metadata": {},
     "output_type": "display_data"
    }
   ],
   "source": [
    "# max margin\n",
    "y_pred_acc = get_accuracy_probas(y_pred)\n",
    "y_scores = y_pred_acc\n",
    "y_true = (y_pred_label == y_test_all)*1\n",
    "precision, recall, thresholds = metrics.precision_recall_curve(y_true, y_scores)\n",
    "plot_precision_recall(precision, recall)"
   ]
  },
  {
   "cell_type": "code",
   "execution_count": null,
   "metadata": {},
   "outputs": [],
   "source": []
  }
 ],
 "metadata": {
  "kernelspec": {
   "display_name": "Python 3",
   "language": "python",
   "name": "python3"
  },
  "language_info": {
   "codemirror_mode": {
    "name": "ipython",
    "version": 3
   },
   "file_extension": ".py",
   "mimetype": "text/x-python",
   "name": "python",
   "nbconvert_exporter": "python",
   "pygments_lexer": "ipython3",
   "version": "3.6.4"
  },
  "widgets": {
   "state": {},
   "version": "1.1.2"
  }
 },
 "nbformat": 4,
 "nbformat_minor": 2
}
