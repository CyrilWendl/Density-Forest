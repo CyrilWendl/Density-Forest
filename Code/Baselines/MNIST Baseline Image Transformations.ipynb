{
 "cells": [
  {
   "cell_type": "markdown",
   "metadata": {},
   "source": [
    "# MNIST Baselines: Image Transformations\n"
   ]
  },
  {
   "cell_type": "code",
   "execution_count": 1,
   "metadata": {},
   "outputs": [
    {
     "name": "stderr",
     "output_type": "stream",
     "text": [
      "/opt/conda/envs/python36/lib/python3.6/site-packages/h5py/__init__.py:36: FutureWarning: Conversion of the second argument of issubdtype from `float` to `np.floating` is deprecated. In future, it will be treated as `np.float64 == np.dtype(float).type`.\n",
      "  from ._conv import register_converters as _register_converters\n",
      "Using TensorFlow backend.\n",
      "/opt/conda/envs/python36/lib/python3.6/site-packages/sklearn/cross_validation.py:41: DeprecationWarning: This module was deprecated in version 0.18 in favor of the model_selection module into which all the refactored classes and functions are moved. Also note that the interface of the new CV iterators are different from that of this module. This module will be removed in 0.20.\n",
      "  \"This module will be removed in 0.20.\", DeprecationWarning)\n"
     ]
    },
    {
     "name": "stdout",
     "output_type": "stream",
     "text": [
      "[name: \"/device:CPU:0\"\n",
      "device_type: \"CPU\"\n",
      "memory_limit: 268435456\n",
      "locality {\n",
      "}\n",
      "incarnation: 14132170068358788041\n",
      ", name: \"/device:GPU:0\"\n",
      "device_type: \"GPU\"\n",
      "memory_limit: 10967082599\n",
      "locality {\n",
      "  bus_id: 2\n",
      "}\n",
      "incarnation: 15864486036040826391\n",
      "physical_device_desc: \"device: 0, name: GeForce GTX 1080 Ti, pci bus id: 0000:83:00.0, compute capability: 6.1\"\n",
      "]\n"
     ]
    }
   ],
   "source": [
    "from __future__ import print_function\n",
    "import keras\n",
    "from keras.datasets import mnist\n",
    "from keras.models import Sequential, load_model\n",
    "from keras.layers import Dense, Dropout, Flatten\n",
    "from keras.layers import Conv2D, MaxPooling2D\n",
    "from keras import utils as np_utils\n",
    "from sklearn import metrics\n",
    "from sklearn.cross_validation import train_test_split\n",
    "import numpy as np\n",
    "\n",
    "# choose GPUs\n",
    "import os\n",
    "os.environ[\"CUDA_DEVICE_ORDER\"] = \"PCI_BUS_ID\"\n",
    "os.environ[\"CUDA_VISIBLE_DEVICES\"] = \"3\"\n",
    "\n",
    "from tensorflow.python.client import device_lib\n",
    "print(device_lib.list_local_devices())\n",
    "\n",
    "# custom libraries\n",
    "# meta-Parameters\n",
    "#base_dir = '/Users/cyrilwendl/Documents/EPFL'  # for local machine\n",
    "base_dir = '/raid/home/cwendl'  # for guanabana\n",
    "import sys\n",
    "sys.path.append(base_dir + '/SIE-Master/Zurich') # Path to density Tree package\n",
    "sys.path.append(base_dir + '/SIE-Master/Code') # Path to density Tree package\n",
    "\n",
    "# import libraries\n",
    "from baselines.helpers import *\n",
    "from baselines.plots import *\n",
    "from helpers.data_augment import *\n",
    "from helpers.helpers import get_y_pred_labels, get_accuracy_probas\n",
    "from helpers.plots import *"
   ]
  },
  {
   "cell_type": "markdown",
   "metadata": {},
   "source": [
    "# Data Import \n",
    "Import the data, delete all data in the training set of class 7\n"
   ]
  },
  {
   "cell_type": "code",
   "execution_count": 2,
   "metadata": {},
   "outputs": [
    {
     "name": "stdout",
     "output_type": "stream",
     "text": [
      "(array([0, 1, 2, 3, 4, 5, 6, 7, 8, 9], dtype=uint8), array([5923, 6742, 5958, 6131, 5842, 5421, 5918, 6265, 5851, 5949]))\n",
      "(array([0, 1, 2, 3, 4, 5, 6, 7, 8], dtype=uint8), array([5923, 6742, 5958, 6131, 5842, 5421, 5918, 5851, 5949]))\n"
     ]
    }
   ],
   "source": [
    "# the data, shuffled and split between train and test sets\n",
    "(x_train, y_train), (x_test_all, y_test_all) = mnist.load_data()\n",
    "print(np.unique(y_train, return_counts=True))\n",
    "\n",
    "label_to_remove = 7\n",
    "\n",
    "# remove all trainig samples containing a label label_to_remove\n",
    "x_train = x_train[y_train!=label_to_remove]\n",
    "y_train = y_train[y_train!=label_to_remove]\n",
    "    \n",
    "x_test = x_test_all[y_test_all!=label_to_remove]\n",
    "y_test = y_test_all[y_test_all!=label_to_remove]\n",
    "\n",
    "# decrease all labels that are higher by -1 to avoid gaps\n",
    "for i in range(label_to_remove+1, 11):\n",
    "    y_train[y_train == i] = (i-1)\n",
    "    y_test[y_test == i] = (i-1)\n",
    "print(np.unique(y_train, return_counts=True))"
   ]
  },
  {
   "cell_type": "code",
   "execution_count": 3,
   "metadata": {},
   "outputs": [
    {
     "name": "stdout",
     "output_type": "stream",
     "text": [
      "x_train shape: (53735, 28, 28, 1)\n",
      "53735 train samples\n",
      "8972 test samples\n"
     ]
    }
   ],
   "source": [
    "batch_size = 128\n",
    "num_classes = 9\n",
    "epochs = 5\n",
    "\n",
    "# input image dimensions\n",
    "img_rows, img_cols = 28, 28\n",
    "\n",
    "# Reshape for Tensorflow\n",
    "x_train = x_train.reshape(x_train.shape[0], img_rows, img_cols, 1)\n",
    "x_test = x_test.reshape(x_test.shape[0], img_rows, img_cols, 1)\n",
    "x_test_all = x_test_all.reshape(x_test_all.shape[0], img_rows, img_cols, 1)\n",
    "input_shape = (img_rows, img_cols, 1)\n",
    "\n",
    "x_train = x_train.astype('float32')\n",
    "x_test = x_test.astype('float32')\n",
    "x_test_all = x_test_all.astype('float32')\n",
    "x_train /= 255\n",
    "x_test /= 255\n",
    "x_test_all /= 255\n",
    "print('x_train shape:', x_train.shape)\n",
    "print(x_train.shape[0], 'train samples')\n",
    "print(x_test.shape[0], 'test samples')\n",
    "\n",
    "# convert class vectors to binary class matrices\n",
    "y_train = np_utils.np_utils.to_categorical(y_train, num_classes)\n",
    "y_test = np_utils.np_utils.to_categorical(y_test, num_classes)"
   ]
  },
  {
   "cell_type": "code",
   "execution_count": 4,
   "metadata": {},
   "outputs": [
    {
     "name": "stdout",
     "output_type": "stream",
     "text": [
      "_________________________________________________________________\n",
      "Layer (type)                 Output Shape              Param #   \n",
      "=================================================================\n",
      "conv2d_1 (Conv2D)            (None, 26, 26, 32)        320       \n",
      "_________________________________________________________________\n",
      "conv2d_2 (Conv2D)            (None, 24, 24, 64)        18496     \n",
      "_________________________________________________________________\n",
      "max_pooling2d_1 (MaxPooling2 (None, 12, 12, 64)        0         \n",
      "_________________________________________________________________\n",
      "dropout_1 (Dropout)          (None, 12, 12, 64)        0         \n",
      "_________________________________________________________________\n",
      "flatten_1 (Flatten)          (None, 9216)              0         \n",
      "_________________________________________________________________\n",
      "dense_1 (Dense)              (None, 128)               1179776   \n",
      "_________________________________________________________________\n",
      "dropout_2 (Dropout)          (None, 128)               0         \n",
      "_________________________________________________________________\n",
      "dense_2 (Dense)              (None, 9)                 1161      \n",
      "=================================================================\n",
      "Total params: 1,199,753\n",
      "Trainable params: 1,199,753\n",
      "Non-trainable params: 0\n",
      "_________________________________________________________________\n",
      "None\n",
      "Test loss: 0.025296901915825547\n",
      "Test accuracy: 0.9917521176995095\n"
     ]
    }
   ],
   "source": [
    "model = Sequential()\n",
    "model.add(Conv2D(32, kernel_size=(3, 3),\n",
    "                 activation='relu',\n",
    "                 input_shape=input_shape))\n",
    "model.add(Conv2D(64, (3, 3), activation='relu'))\n",
    "model.add(MaxPooling2D(pool_size=(2, 2)))\n",
    "model.add(Dropout(0.25))\n",
    "model.add(Flatten())\n",
    "model.add(Dense(128, activation='relu'))\n",
    "model.add(Dropout(0.5))\n",
    "model.add(Dense(num_classes, activation='softmax'))\n",
    "\n",
    "model.compile(loss=keras.losses.categorical_crossentropy,\n",
    "              optimizer=keras.optimizers.Adadelta(),\n",
    "              metrics=['accuracy'])\n",
    "\n",
    "print(model.summary())\n",
    "\n",
    "model_train = False;\n",
    "if model_train:\n",
    "    model.fit(x_train, y_train,\n",
    "          batch_size=batch_size,\n",
    "          epochs=epochs,\n",
    "          verbose=1,\n",
    "          validation_data=(x_test, y_test))\n",
    "    model.save('../mnist-weights.h5')\n",
    "else :\n",
    "    model = load_model('../mnist-weights.h5')\n",
    "\n",
    "score = model.evaluate(x_test, y_test, verbose=0)\n",
    "print('Test loss:', score[0])\n",
    "print('Test accuracy:', score[1])"
   ]
  },
  {
   "cell_type": "markdown",
   "metadata": {},
   "source": [
    "#### Make some predictions for the unseen class"
   ]
  },
  {
   "cell_type": "code",
   "execution_count": 5,
   "metadata": {},
   "outputs": [
    {
     "data": {
      "image/png": "[encoded data removed]",
      "text/plain": [
       "<Figure size 504x360 with 1 Axes>"
      ]
     },
     "metadata": {},
     "output_type": "display_data"
    }
   ],
   "source": [
    "# all images in the test set containing a label label_to_remove\n",
    "x_unseen_class = x_test_all[np.where(y_test_all==label_to_remove)[0]] \n",
    "\n",
    "# make prodictions for class unseen during training\n",
    "y_pred = model.predict(x_unseen_class)\n",
    "y_pred_label = np.argmax(y_pred, axis = 1);\n",
    "\n",
    "for i in range(label_to_remove, 9):\n",
    "    y_pred_label[y_pred_label == i] = (i+1)\n",
    "\n",
    "# distribution of predicted label\n",
    "pred_labels, pred_counts = np.unique(y_pred_label,return_counts=True)\n",
    "\n",
    "# visualization\n",
    "fig = plt.figure(figsize=(7,5))\n",
    "plt.bar(pred_labels, pred_counts)\n",
    "plt.xticks(np.arange(0,10))\n",
    "plt.xlabel(\"Predicted Label\")\n",
    "plt.ylabel(\"Count\")\n",
    "plt.savefig(\"../../Figures/pred-count.pdf\", bbox_inches='tight', pad_inches=0)\n",
    "plt.show()"
   ]
  },
  {
   "cell_type": "code",
   "execution_count": 6,
   "metadata": {},
   "outputs": [
    {
     "name": "stdout",
     "output_type": "stream",
     "text": [
      "Mean accuracy: 66.72 %\n",
      "Std accuracy: 32.16 %\n",
      "28.40% of all predictions made with an accuracy higher than 0.95%\n"
     ]
    }
   ],
   "source": [
    "# Avarage certitude for unseen class: 1-max_margin\n",
    "c = get_accuracy_probas(y_pred)\n",
    "\n",
    "    \n",
    "pred_acc_mean = np.mean(c)\n",
    "pred_acc_std = np.std(c)\n",
    "    \n",
    "print(\"Mean accuracy: %.2f %%\" % (pred_acc_mean*100) )\n",
    "print(\"Std accuracy: %.2f %%\" % (pred_acc_std*100) )\n",
    "\n",
    "pred_acc_high = .95 # 95 % is considered a very high confidence\n",
    "\n",
    "\n",
    "pct = np.round(len(c[c>pred_acc_high])/len(c),4)*100\n",
    "\n",
    "print(\"%.2f%% of all predictions made with an accuracy higher than %.2f%%\" % (pct, pred_acc_high))"
   ]
  },
  {
   "cell_type": "code",
   "execution_count": 7,
   "metadata": {},
   "outputs": [
    {
     "name": "stdout",
     "output_type": "stream",
     "text": [
      "Mean accuracy: 98.64 %\n",
      "Std accuracy: 8.40 %\n",
      "96.20 % of all predictions made with an accuracy higher than 0.95%\n"
     ]
    }
   ],
   "source": [
    "# Avarage certitude for seen class: 1-max_margin\n",
    "y_pred_seen = model.predict(x_test)\n",
    "y_pred_label_seen = np.argmax(y_pred_seen, axis = 1);\n",
    "\n",
    "for i in np.flip(range(label_to_remove,9),axis=0):\n",
    "    y_pred_label_seen[y_pred_label_seen == i] = (i+1)\n",
    "\n",
    "c = get_accuracy_probas(y_pred_seen)\n",
    "\n",
    "    \n",
    "pred_acc_mean = np.mean(c)\n",
    "pred_acc_std = np.std(c)\n",
    "    \n",
    "print(\"Mean accuracy: %.2f %%\" % (pred_acc_mean*100) )\n",
    "print(\"Std accuracy: %.2f %%\" % (pred_acc_std*100) )\n",
    "\n",
    "pred_acc_high = .95 # 95 % is considered a very high confidence\n",
    "\n",
    "\n",
    "pct = np.round(len(c[c>pred_acc_high])/len(c),4)*100\n",
    "print(\"%.2f %% of all predictions made with an accuracy higher than %.2f%%\" % (pct, pred_acc_high))"
   ]
  },
  {
   "cell_type": "code",
   "execution_count": 8,
   "metadata": {},
   "outputs": [],
   "source": [
    "y_pred = model.predict(x_test_all)\n",
    "y_pred_label = np.argmax(y_pred, axis = 1);\n",
    "\n",
    "for i in np.flip(range(label_to_remove,9),axis=0):\n",
    "    y_pred_label[y_pred_label == i] = (i+1)"
   ]
  },
  {
   "cell_type": "code",
   "execution_count": 9,
   "metadata": {},
   "outputs": [
    {
     "name": "stdout",
     "output_type": "stream",
     "text": [
      "             precision    recall  f1-score   support\n",
      "\n",
      "          0       0.99      0.97      0.98      1001\n",
      "          1       1.00      0.95      0.98      1190\n",
      "          2       0.99      0.85      0.91      1211\n",
      "          3       0.99      0.87      0.93      1156\n",
      "          4       0.99      0.97      0.98      1006\n",
      "          5       0.99      0.98      0.99       899\n",
      "          6       0.99      0.99      0.99       955\n",
      "          7       0.00      0.00      0.00         0\n",
      "          8       0.99      0.98      0.99       982\n",
      "          9       0.98      0.62      0.76      1600\n",
      "\n",
      "avg / total       0.99      0.89      0.93     10000\n",
      "\n"
     ]
    },
    {
     "name": "stderr",
     "output_type": "stream",
     "text": [
      "/opt/conda/envs/python36/lib/python3.6/site-packages/sklearn/metrics/classification.py:1137: UndefinedMetricWarning: Recall and F-score are ill-defined and being set to 0.0 in labels with no true samples.\n",
      "  'recall', 'true', average, warn_for)\n"
     ]
    }
   ],
   "source": [
    "print(metrics.classification_report(y_pred_label,y_test_all))"
   ]
  },
  {
   "cell_type": "markdown",
   "metadata": {},
   "source": [
    "# Baseline Method\n",
    "## Confidence from Invariance to Image Transformations\n",
    "https://arxiv.org/pdf/1804.00657.pdf"
   ]
  },
  {
   "cell_type": "code",
   "execution_count": 10,
   "metadata": {},
   "outputs": [
    {
     "data": {
      "text/plain": [
       "<matplotlib.image.AxesImage at 0x7f60000826d8>"
      ]
     },
     "execution_count": 10,
     "metadata": {},
     "output_type": "execute_result"
    },
    {
     "data": {
      "image/png": "[encoded data removed]",
      "text/plain": [
       "<Figure size 576x288 with 2 Axes>"
      ]
     },
     "metadata": {},
     "output_type": "display_data"
    }
   ],
   "source": [
    "x_aug, _ = augment_images_and_gt(x_test_all, x_test_all, blur=True, force=True)\n",
    "\n",
    "# visualize an image\n",
    "im_idx = 6\n",
    "fig, axes  = plt.subplots(1,2, figsize=(8,4))\n",
    "axes[0].imshow(1-x_test_all[im_idx][...,0], cmap='gray')\n",
    "[axes[i].set_axis_off() for i in range(2)]\n",
    "axes[1].imshow(1-x_aug[im_idx][...,0], cmap='gray')"
   ]
  },
  {
   "cell_type": "code",
   "execution_count": 11,
   "metadata": {},
   "outputs": [],
   "source": [
    "def show_transform(x, save_name=None):\n",
    "    plt.imshow(1-x, cmap='gray')\n",
    "    plt.axis('off')\n",
    "    if save_name is not None:\n",
    "        plt.savefig(save_name, bbox_inches='tight', pad_inches=0)\n",
    "    plt.show()\n",
    "    "
   ]
  },
  {
   "cell_type": "code",
   "execution_count": 12,
   "metadata": {},
   "outputs": [
    {
     "data": {
      "image/png": "[encoded data removed]",
      "text/plain": [
       "<Figure size 432x288 with 1 Axes>"
      ]
     },
     "metadata": {},
     "output_type": "display_data"
    },
    {
     "name": "stdout",
     "output_type": "stream",
     "text": [
      "10000/10000 [==============================] - 0s 42us/step\n"
     ]
    },
    {
     "data": {
      "image/png": "[encoded data removed]",
      "text/plain": [
       "<Figure size 432x288 with 1 Axes>"
      ]
     },
     "metadata": {},
     "output_type": "display_data"
    },
    {
     "name": "stdout",
     "output_type": "stream",
     "text": [
      "10000/10000 [==============================] - 0s 42us/step\n"
     ]
    },
    {
     "data": {
      "image/png": "[encoded data removed]",
      "text/plain": [
       "<Figure size 432x288 with 1 Axes>"
      ]
     },
     "metadata": {},
     "output_type": "display_data"
    },
    {
     "name": "stdout",
     "output_type": "stream",
     "text": [
      "10000/10000 [==============================] - 0s 44us/step\n"
     ]
    },
    {
     "data": {
      "image/png": "[encoded data removed]",
      "text/plain": [
       "<Figure size 432x288 with 1 Axes>"
      ]
     },
     "metadata": {},
     "output_type": "display_data"
    },
    {
     "name": "stdout",
     "output_type": "stream",
     "text": [
      "10000/10000 [==============================] - 0s 45us/step\n"
     ]
    },
    {
     "data": {
      "image/png": "[encoded data removed]",
      "text/plain": [
       "<Figure size 432x288 with 1 Axes>"
      ]
     },
     "metadata": {},
     "output_type": "display_data"
    },
    {
     "name": "stdout",
     "output_type": "stream",
     "text": [
      "10000/10000 [==============================] - 0s 44us/step\n"
     ]
    },
    {
     "data": {
      "image/png": "[encoded data removed]",
      "text/plain": [
       "<Figure size 432x288 with 1 Axes>"
      ]
     },
     "metadata": {},
     "output_type": "display_data"
    },
    {
     "name": "stdout",
     "output_type": "stream",
     "text": [
      "10000/10000 [==============================] - 0s 43us/step\n"
     ]
    }
   ],
   "source": [
    "y_preds = []\n",
    "\n",
    "# original\n",
    "show_transform(x_test_all[0][...,0], \"../../Figures/baseline/mnist-orig.pdf\")\n",
    "y_preds.append(model.predict(x_test_all, verbose=1))\n",
    "\n",
    "# blur\n",
    "x_aug, _ = augment_images_and_gt(x_test_all, x_test_all, blur=True, force=True)\n",
    "show_transform(x_aug[0][...,0], \"../../Figures/baseline/mnist-t_blur.pdf\")\n",
    "y_preds.append(model.predict(x_aug, verbose=1))\n",
    "\n",
    "# horizontal flipping\n",
    "x_aug, _ = augment_images_and_gt(x_test_all, x_test_all, rf_h=True, force=True)\n",
    "show_transform(x_aug[0][...,0], \"../../Figures/baseline/mnist-t_rot_h.pdf\")\n",
    "y_preds.append(model.predict(x_aug, verbose=1))\n",
    "\n",
    "# gamma\n",
    "x_aug, _ = augment_images_and_gt(x_test_all, x_test_all, gamma=.8, force=True)\n",
    "show_transform(x_aug[0][...,0], \"../../Figures/baseline/mnist-t_gamma.pdf\")\n",
    "\n",
    "# contrast\n",
    "y_preds.append(model.predict(x_aug, verbose=1))\n",
    "x_aug, _ = augment_images_and_gt(x_test_all, x_test_all, contrast=1.5, force=True)\n",
    "show_transform(x_aug[0][...,0], \"../../Figures/baseline/mnist-t_constrast.pdf\")\n",
    "y_preds.append(model.predict(x_aug, verbose=1))\n",
    "\n",
    "# brightness\n",
    "x_aug, _ = augment_images_and_gt(x_test_all, x_test_all, brightness=10, force=True)\n",
    "show_transform(x_aug[0][...,0], \"../../Figures/baseline/mnist-t_brightness.pdf\")\n",
    "y_preds.append(model.predict(x_aug, verbose=1))\n",
    "#x_aug, _ = augment_images_and_gt(x_test_all, x_test_all, blur=True)\n",
    "\n",
    "y_preds = np.asarray(y_preds)"
   ]
  },
  {
   "cell_type": "code",
   "execution_count": 13,
   "metadata": {},
   "outputs": [
    {
     "data": {
      "image/png": "[encoded data removed]",
      "text/plain": [
       "<Figure size 864x360 with 1 Axes>"
      ]
     },
     "metadata": {},
     "output_type": "display_data"
    },
    {
     "name": "stdout",
     "output_type": "stream",
     "text": [
      "True label: 5\n"
     ]
    }
   ],
   "source": [
    "t_names = ['Original','Blur','H. flip','Gamma','Contrast','Brightness']\n",
    "idx = 15\n",
    "show_softmax(idx, y_preds, y_true=y_test_all, legend=t_names)"
   ]
  },
  {
   "cell_type": "code",
   "execution_count": 14,
   "metadata": {},
   "outputs": [
    {
     "data": {
      "text/plain": [
       "array([6, 2, 1, 8, 7, 5, 4, 3, 0])"
      ]
     },
     "execution_count": 14,
     "metadata": {},
     "output_type": "execute_result"
    }
   ],
   "source": [
    "i = np.argsort(np.array([3, 4, 1, 6, 7, 2, 9, 0, 5]))\n",
    "np.array([8, 7, 2, 4, 3, 1, 0, 6, 5])[i]"
   ]
  },
  {
   "cell_type": "code",
   "execution_count": 15,
   "metadata": {},
   "outputs": [],
   "source": [
    "filt = (np.equal(y_pred_label,y_test_all) == False) & (y_test_all!=label_to_remove)\n",
    "x_wrong = x_test_all[filt]\n",
    "y_wrong = y_test_all[filt]\n",
    "idx_wrong = np.where(filt)[0]"
   ]
  },
  {
   "cell_type": "code",
   "execution_count": 16,
   "metadata": {},
   "outputs": [
    {
     "data": {
      "image/png": "[encoded data removed]",
      "text/plain": [
       "<Figure size 432x288 with 1 Axes>"
      ]
     },
     "metadata": {},
     "output_type": "display_data"
    }
   ],
   "source": [
    "plt.bar(*np.unique(y_wrong,return_counts=True))\n",
    "plt.show()"
   ]
  },
  {
   "cell_type": "code",
   "execution_count": 17,
   "metadata": {},
   "outputs": [
    {
     "data": {
      "image/png": "[encoded data removed]",
      "text/plain": [
       "<Figure size 432x288 with 1 Axes>"
      ]
     },
     "metadata": {},
     "output_type": "display_data"
    },
    {
     "data": {
      "image/png": "[encoded data removed]",
      "text/plain": [
       "<Figure size 864x360 with 1 Axes>"
      ]
     },
     "metadata": {},
     "output_type": "display_data"
    },
    {
     "name": "stdout",
     "output_type": "stream",
     "text": [
      "True label: 6\n"
     ]
    }
   ],
   "source": [
    "# plot a wrongly predicted image and its softmax output\n",
    "idx = idx_wrong[1]\n",
    "plt.imshow(x_test_all[idx][...,0])\n",
    "plt.show()\n",
    "show_softmax(idx, y_preds, y_test_all)"
   ]
  },
  {
   "cell_type": "code",
   "execution_count": 18,
   "metadata": {},
   "outputs": [],
   "source": [
    "# loop all data points\n",
    "y_pred_t, y_pred_c = reorder_truncate_concatenate(y_preds, 9)"
   ]
  },
  {
   "cell_type": "code",
   "execution_count": 19,
   "metadata": {},
   "outputs": [],
   "source": [
    "# get training data and labels\n",
    "x = y_pred_c\n",
    "y = (np.equal(y_pred_label,y_test_all) == True)*1."
   ]
  },
  {
   "cell_type": "code",
   "execution_count": 20,
   "metadata": {},
   "outputs": [],
   "source": [
    "# split training data in train and test part\n",
    "indices = np.arange(len(x))\n",
    "x_train, x_test, y_train, y_test, ind_train, ind_test = train_test_split(x, y, indices, test_size=0.5, random_state=42)"
   ]
  },
  {
   "cell_type": "code",
   "execution_count": 21,
   "metadata": {},
   "outputs": [],
   "source": [
    "# convert class vectors to binary class matrices\n",
    "num_classes = 2\n",
    "\n",
    "y_train = keras.utils.to_categorical(y_train, num_classes)\n",
    "y_test = keras.utils.to_categorical(y_test, num_classes)"
   ]
  },
  {
   "cell_type": "code",
   "execution_count": 22,
   "metadata": {},
   "outputs": [
    {
     "name": "stdout",
     "output_type": "stream",
     "text": [
      "_________________________________________________________________\n",
      "Layer (type)                 Output Shape              Param #   \n",
      "=================================================================\n",
      "dense_3 (Dense)              (None, 70)                3850      \n",
      "_________________________________________________________________\n",
      "dropout_3 (Dropout)          (None, 70)                0         \n",
      "_________________________________________________________________\n",
      "dense_4 (Dense)              (None, 70)                4970      \n",
      "_________________________________________________________________\n",
      "dropout_4 (Dropout)          (None, 70)                0         \n",
      "_________________________________________________________________\n",
      "dense_5 (Dense)              (None, 2)                 142       \n",
      "=================================================================\n",
      "Total params: 8,962\n",
      "Trainable params: 8,962\n",
      "Non-trainable params: 0\n",
      "_________________________________________________________________\n",
      "Test loss: 0.1396774015545845\n",
      "Test accuracy: 0.9462\n"
     ]
    }
   ],
   "source": [
    "from keras.optimizers import Adam\n",
    "# KERAS, for GPU use\n",
    "# Train MLP\n",
    "n_cl = 2\n",
    "model_mlp = Sequential()\n",
    "model_mlp.add(Dense(70, activation='relu', input_shape=(x_train.shape[1:])))\n",
    "model_mlp.add(Dropout(0.5))\n",
    "model_mlp.add(Dense(70, activation='relu'))\n",
    "model_mlp.add(Dropout(0.5))\n",
    "model_mlp.add(Dense(n_cl, activation='softmax'))\n",
    "\n",
    "model_mlp.summary()\n",
    "\n",
    "model_mlp.compile(loss='categorical_crossentropy',\n",
    "              optimizer=Adam(),\n",
    "              metrics=['accuracy'])\n",
    "\n",
    "batch_size = 200\n",
    "epochs = 40\n",
    "history = model_mlp.fit(x_train, y_train,\n",
    "                    batch_size=batch_size,\n",
    "                    epochs=epochs,\n",
    "                    verbose=0,\n",
    "                    validation_data=(x_test, y_test))\n",
    "score = model_mlp.evaluate(x_test, y_test, verbose=0)\n",
    "print('Test loss:', score[0])\n",
    "print('Test accuracy:', score[1])"
   ]
  },
  {
   "cell_type": "code",
   "execution_count": 23,
   "metadata": {},
   "outputs": [],
   "source": [
    "pred = np.argmax(model_mlp.predict(x),-1)\n",
    "y_pred_label_y = y_test_all*np.equal(y, pred)*1"
   ]
  },
  {
   "cell_type": "code",
   "execution_count": 24,
   "metadata": {},
   "outputs": [
    {
     "name": "stdout",
     "output_type": "stream",
     "text": [
      "             precision    recall  f1-score   support\n",
      "\n",
      "          0       0.68      1.00      0.81       980\n",
      "          1       1.00      0.99      0.99      1135\n",
      "          2       1.00      0.96      0.98      1032\n",
      "          3       1.00      0.98      0.99      1010\n",
      "          4       1.00      0.97      0.98       982\n",
      "          5       1.00      0.98      0.99       892\n",
      "          6       1.00      0.97      0.99       958\n",
      "          7       1.00      0.75      0.86      1028\n",
      "          8       1.00      0.97      0.99       974\n",
      "          9       1.00      0.96      0.98      1009\n",
      "\n",
      "avg / total       0.97      0.95      0.96     10000\n",
      "\n"
     ]
    }
   ],
   "source": [
    "# show scores for images that were correctly or incorrectly predicted as correct / incorrect\n",
    "print(metrics.classification_report(y_test_all, y_pred_label_y))"
   ]
  },
  {
   "cell_type": "code",
   "execution_count": 25,
   "metadata": {},
   "outputs": [
    {
     "data": {
      "text/plain": [
       "<matplotlib.legend.Legend at 0x7f5ff86abe80>"
      ]
     },
     "execution_count": 25,
     "metadata": {},
     "output_type": "execute_result"
    },
    {
     "data": {
      "image/png": "[encoded data removed]",
      "text/plain": [
       "<Figure size 432x288 with 1 Axes>"
      ]
     },
     "metadata": {},
     "output_type": "display_data"
    }
   ],
   "source": [
    "fpr, tpr, rates = metrics.roc_curve(np.asarray(y).astype('int'),np.asarray(pred).astype('int'))\n",
    "roc_auc = metrics.auc(fpr, tpr)\n",
    "\n",
    "lw = 2\n",
    "plt.plot(fpr, tpr, color='darkorange',\n",
    "         lw=lw, label='ROC curve (area = %0.2f)' % roc_auc)\n",
    "plt.plot([0, 1], [0, 1], color='navy', lw=lw, linestyle='--')\n",
    "plt.xlim([0.0, 1.0])\n",
    "plt.ylim([0.0, 1.05])\n",
    "plt.xlabel('False Positive Rate')\n",
    "plt.ylabel('True Positive Rate')\n",
    "plt.title('Receiver operating characteristic example')\n",
    "plt.legend(loc=\"lower right\")\n",
    "\n",
    "# TODO plot also for multiclass problem?"
   ]
  },
  {
   "cell_type": "markdown",
   "metadata": {},
   "source": [
    "### KL Divergence"
   ]
  },
  {
   "cell_type": "code",
   "execution_count": 26,
   "metadata": {},
   "outputs": [
    {
     "name": "stderr",
     "output_type": "stream",
     "text": [
      "/opt/conda/envs/python36/lib/python3.6/site-packages/numpy/lib/function_base.py:3183: RuntimeWarning: invalid value encountered in true_divide\n",
      "  c /= stddev[:, None]\n",
      "/opt/conda/envs/python36/lib/python3.6/site-packages/numpy/lib/function_base.py:3184: RuntimeWarning: invalid value encountered in true_divide\n",
      "  c /= stddev[None, :]\n"
     ]
    },
    {
     "data": {
      "image/png": "[encoded data removed]",
      "text/plain": [
       "<Figure size 432x288 with 2 Axes>"
      ]
     },
     "metadata": {},
     "output_type": "display_data"
    }
   ],
   "source": [
    "# show KL correlogram\n",
    "get_kl_correlogram(y_pred_t, labels=t_names[1:])"
   ]
  },
  {
   "cell_type": "markdown",
   "metadata": {},
   "source": [
    "### Mean Scores\n"
   ]
  },
  {
   "cell_type": "code",
   "execution_count": 27,
   "metadata": {},
   "outputs": [
    {
     "data": {
      "text/plain": [
       "Text(0.5,1,'Mean probability to have a correct prediction in class')"
      ]
     },
     "execution_count": 27,
     "metadata": {},
     "output_type": "execute_result"
    },
    {
     "data": {
      "image/png": "[encoded data removed]",
      "text/plain": [
       "<Figure size 432x288 with 1 Axes>"
      ]
     },
     "metadata": {},
     "output_type": "display_data"
    }
   ],
   "source": [
    "# mean accuracy per class\n",
    "proba_correct = model_mlp.predict(x_test)[:,1]  # probability to have a correct prediction\n",
    "\n",
    "av_p = [np.mean(proba_correct[y_test_all[ind_test]==i]) for i in \n",
    "        range(10)]\n",
    "\n",
    "\n",
    "plt.bar(range(10), av_p)\n",
    "plt.xticks(range(10))\n",
    "plt.title(\"Mean probability to have a correct prediction in class\")"
   ]
  },
  {
   "cell_type": "code",
   "execution_count": 28,
   "metadata": {},
   "outputs": [
    {
     "name": "stdout",
     "output_type": "stream",
     "text": [
      "Mean accuracy: 95.36 %\n",
      "Std accuracy: 16.23 %\n"
     ]
    },
    {
     "data": {
      "text/plain": [
       "Text(0.5,1,'Mean certainty by Network')"
      ]
     },
     "execution_count": 28,
     "metadata": {},
     "output_type": "execute_result"
    },
    {
     "data": {
      "image/png": "[encoded data removed]",
      "text/plain": [
       "<Figure size 432x288 with 1 Axes>"
      ]
     },
     "metadata": {},
     "output_type": "display_data"
    }
   ],
   "source": [
    "# for comparison: mean margin by network\n",
    "y_pred = model.predict(x_test_all)\n",
    "\n",
    "c = get_accuracy_probas(y_pred)\n",
    "    \n",
    "pred_acc_mean = np.mean(c)\n",
    "pred_acc_std = np.std(c)\n",
    "    \n",
    "print(\"Mean accuracy: %.2f %%\" % (pred_acc_mean*100) )\n",
    "print(\"Std accuracy: %.2f %%\" % (pred_acc_std*100) )\n",
    "\n",
    "# get mean proba in all \n",
    "av_p = [np.mean(c[y_test_all==i]) for i in range(10)]\n",
    "\n",
    "plt.bar(range(10), av_p)\n",
    "plt.xticks(range(10))\n",
    "plt.title(\"Mean certainty by Network\")"
   ]
  },
  {
   "cell_type": "markdown",
   "metadata": {},
   "source": [
    "### Precision-Recall Curve"
   ]
  },
  {
   "cell_type": "code",
   "execution_count": 29,
   "metadata": {},
   "outputs": [
    {
     "data": {
      "image/png": "[encoded data removed]",
      "text/plain": [
       "<Figure size 432x288 with 1 Axes>"
      ]
     },
     "metadata": {},
     "output_type": "display_data"
    }
   ],
   "source": [
    "# probability\n",
    "y_scores = proba_correct\n",
    "y_true = (y_pred_label == y_test_all)[ind_test]*1\n",
    "precision, recall, thresholds = metrics.precision_recall_curve(y_true, y_scores)\n",
    "plot_precision_recall(precision, recall)"
   ]
  },
  {
   "cell_type": "code",
   "execution_count": 30,
   "metadata": {},
   "outputs": [
    {
     "data": {
      "image/png": "[encoded data removed]",
      "text/plain": [
       "<Figure size 432x288 with 1 Axes>"
      ]
     },
     "metadata": {},
     "output_type": "display_data"
    }
   ],
   "source": [
    "# max margin\n",
    "y_pred_acc = get_accuracy_probas(y_pred)\n",
    "y_scores = y_pred_acc[ind_test]\n",
    "y_true = (y_pred_label == y_test_all)[ind_test]*1\n",
    "precision, recall, thresholds = metrics.precision_recall_curve(y_true, y_scores)\n",
    "plot_precision_recall(precision, recall)"
   ]
  },
  {
   "cell_type": "code",
   "execution_count": 31,
   "metadata": {},
   "outputs": [
    {
     "data": {
      "image/png": "[encoded data removed]",
      "text/plain": [
       "<Figure size 432x288 with 1 Axes>"
      ]
     },
     "metadata": {},
     "output_type": "display_data"
    }
   ],
   "source": [
    "# higher curve is better\n",
    "plt.plot(np.cumsum(y_true[np.argsort(y_pred_acc[ind_test])])[:sum(y_true ==0)])\n",
    "plt.plot(np.cumsum(y_true[np.argsort(proba_correct)])[:sum(y_true ==0)])\n",
    "plt.xlabel('number of wrong predictions')\n",
    "plt.ylabel('times predicted as wrong')\n",
    "plt.legend(['Max Margin','MLP'])\n",
    "plt.show()"
   ]
  },
  {
   "cell_type": "code",
   "execution_count": null,
   "metadata": {},
   "outputs": [],
   "source": []
  }
 ],
 "metadata": {
  "kernelspec": {
   "display_name": "Python 3",
   "language": "python",
   "name": "python3"
  },
  "language_info": {
   "codemirror_mode": {
    "name": "ipython",
    "version": 3
   },
   "file_extension": ".py",
   "mimetype": "text/x-python",
   "name": "python",
   "nbconvert_exporter": "python",
   "pygments_lexer": "ipython3",
   "version": "3.6.4"
  },
  "widgets": {
   "state": {},
   "version": "1.1.2"
  }
 },
 "nbformat": 4,
 "nbformat_minor": 2
}
